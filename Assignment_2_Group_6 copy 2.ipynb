{
 "cells": [
  {
   "cell_type": "markdown",
   "metadata": {},
   "source": [
    "# Group Details\n",
    "## Group Name:\n",
    "### Student 1:\n",
    "### Student 2:\n",
    "### Student 3:"
   ]
  },
  {
   "cell_type": "code",
   "execution_count": 2,
   "metadata": {},
   "outputs": [],
   "source": [
    "import numpy as np\n",
    "import torch\n",
    "import matplotlib.pyplot as plt"
   ]
  },
  {
   "cell_type": "code",
   "execution_count": 3,
   "metadata": {},
   "outputs": [],
   "source": [
    "from tqdm import tqdm"
   ]
  },
  {
   "cell_type": "code",
   "execution_count": 4,
   "metadata": {},
   "outputs": [
    {
     "name": "stdout",
     "output_type": "stream",
     "text": [
      "Using device: cpu\n"
     ]
    }
   ],
   "source": [
    "# Check if CUDA is available, else use CPU\n",
    "device = torch.device(\"cuda\" if torch.cuda.is_available() else \"cpu\")\n",
    "print(f'Using device: {device}')"
   ]
  },
  {
   "cell_type": "code",
   "execution_count": 5,
   "metadata": {},
   "outputs": [],
   "source": [
    "TRAIN_1 = False\n",
    "TRAIN_2 = True\n",
    "TRAIN_3 = False\n",
    "GRID_SEARCH_1 = False\n",
    "GRID_SEARCH_2 = False"
   ]
  },
  {
   "cell_type": "code",
   "execution_count": 6,
   "metadata": {},
   "outputs": [],
   "source": [
    "def load_trajectory(filename, task):\n",
    "    \"\"\"\n",
    "    This function loads a trajectory from a given file and returns the trajectory and energy data. \n",
    "    If the task is 'task_3', it also returns the framework data.\n",
    "\n",
    "    Parameters:\n",
    "    filename (str): The name of the file from which to load the trajectory.\n",
    "    task (str): The task for which the trajectory is being loaded. \n",
    "                This should be one of 'task_1', 'task_2', or 'task_3'.\n",
    "\n",
    "    Returns:\n",
    "    tuple: Depending on the task, the function returns:\n",
    "           - (trajectory, energy) for 'task_1' and 'task_2'\n",
    "           - (trajectory, framework, energy) for 'task_3'\n",
    "    \"\"\"\n",
    "    traj = np.load(filename)\n",
    "    if task == 'task_1' or task == 'task_2':\n",
    "        trajectory = traj['trajectory']\n",
    "        energy = traj['energy']\n",
    "        return trajectory, energy\n",
    "    if task == 'task_3':\n",
    "        trajectory = traj['trajectory']\n",
    "        framework = traj['framework']\n",
    "        energy = traj['energy']\n",
    "        return trajectory, framework, energy"
   ]
  },
  {
   "cell_type": "markdown",
   "metadata": {},
   "source": [
    "Below, you can find an example of how to load a trajectory. ```trajectory``` contains the particle position, velocity and charge data. ```energy``` contains the energy of the system at various timesteps. The shape of the arrays is as follows:\n",
    "\n",
    "```trajectory```: ```(time, n_bodies, [x, y, v_x, v_y, q])```\n",
    "\n",
    "```energy```: ```(time, 1)```"
   ]
  },
  {
   "cell_type": "code",
   "execution_count": 7,
   "metadata": {},
   "outputs": [
    {
     "name": "stdout",
     "output_type": "stream",
     "text": [
      "Trajectory shape: (40, 4, 5), Energy shape: (40, 1)\n"
     ]
    }
   ],
   "source": [
    "trajectory, energy = load_trajectory('data/task1_2/train/trajectory_0.npz', 'task_1')\n",
    "print(f'Trajectory shape: {trajectory.shape}, Energy shape: {energy.shape}')"
   ]
  },
  {
   "cell_type": "code",
   "execution_count": 8,
   "metadata": {},
   "outputs": [
    {
     "name": "stdout",
     "output_type": "stream",
     "text": [
      "Initial position: 9.595544088638388, 7.531951993028981 Blue\n"
     ]
    }
   ],
   "source": [
    "x_0 = trajectory[0][0][0]\n",
    "y_0 = trajectory[0][0][1]\n",
    "print(f'Initial position: {x_0}, {y_0} Blue')"
   ]
  },
  {
   "cell_type": "markdown",
   "metadata": {},
   "source": [
    "The following code provides an example of how to visualize a trajectory. Feel free to modify this code, or write your own function. When evaluating your model in task 2 and 3, keep in mind that you are only allowed to use the data at t=0 (the black dots in the visualization)."
   ]
  },
  {
   "cell_type": "code",
   "execution_count": 9,
   "metadata": {},
   "outputs": [
    {
     "data": {
      "image/png": "[encoded data removed]",
      "text/plain": [
       "<Figure size 400x400 with 1 Axes>"
      ]
     },
     "metadata": {},
     "output_type": "display_data"
    },
    {
     "data": {
      "image/png": "[encoded data removed]",
      "text/plain": [
       "<Figure size 400x100 with 1 Axes>"
      ]
     },
     "metadata": {},
     "output_type": "display_data"
    }
   ],
   "source": [
    "def plot_trajectory_energy(trajectory, energy):\n",
    "    \"\"\"\n",
    "    This function plots the trajectory of a system and its energy over time.\n",
    "\n",
    "    Parameters:\n",
    "    trajectory (numpy.ndarray): A 2D array representing the trajectory of the system. \n",
    "                                The first dimension represents time, and the second dimension represents the x and y coordinates.\n",
    "    energy (numpy.ndarray): A 1D array representing the energy of the system at each time step.\n",
    "\n",
    "    The function first plots the trajectory on a 2D grid, with the x and y coordinates on the x and y axes respectively. \n",
    "    The initial position is marked in black. The trajectory is represented by a scatter plot, with each point representing the position at a different time step.\n",
    "\n",
    "    Then, the function plots the energy of the system over time on a separate graph. The x-axis represents the time step, and the y-axis represents the energy.\n",
    "    \"\"\"\n",
    "    \n",
    "    x = trajectory[...,0]\n",
    "    y = trajectory[...,1]\n",
    "\n",
    "    plt.figure(figsize=(4,4))\n",
    "    plt.vlines([0,20],0,20)\n",
    "    plt.hlines([0,20],0,20)\n",
    "\n",
    "    plt.scatter(x[0], y[0], c='black')\n",
    "\n",
    "    for i in range(x.shape[1]):\n",
    "        plt.scatter(x[:,i], y[:,i], s=5)\n",
    "\n",
    "    plt.xlim(-1,21)\n",
    "    plt.ylim(-1,21)\n",
    "\n",
    "    plt.show()\n",
    "    plt.figure(figsize=(4,1))\n",
    "    plt.plot(energy)\n",
    "    plt.xlabel('step')\n",
    "    plt.title('System energy over time')\n",
    "    plt.show();\n",
    "\n",
    "plot_trajectory_energy(trajectory, energy)"
   ]
  },
  {
   "cell_type": "code",
   "execution_count": 10,
   "metadata": {},
   "outputs": [
    {
     "data": {
      "image/png": "[encoded data removed]",
      "text/plain": [
       "<Figure size 400x400 with 1 Axes>"
      ]
     },
     "metadata": {},
     "output_type": "display_data"
    }
   ],
   "source": [
    "def plot_trajectory(trajectory):\n",
    "    \"\"\"\n",
    "    This function plots the trajectory of a system and its energy over time.\n",
    "\n",
    "    Parameters:\n",
    "    trajectory (numpy.ndarray): A 2D array representing the trajectory of the system. \n",
    "                                The first dimension represents time, and the second dimension represents the x and y coordinates.\n",
    "    energy (numpy.ndarray): A 1D array representing the energy of the system at each time step.\n",
    "\n",
    "    The function first plots the trajectory on a 2D grid, with the x and y coordinates on the x and y axes respectively. \n",
    "    The initial position is marked in black. The trajectory is represented by a scatter plot, with each point representing the position at a different time step.\n",
    "\n",
    "    Then, the function plots the energy of the system over time on a separate graph. The x-axis represents the time step, and the y-axis represents the energy.\n",
    "    \"\"\"\n",
    "    \n",
    "    x = trajectory[...,0]\n",
    "    y = trajectory[...,1]\n",
    "\n",
    "    plt.figure(figsize=(4,4))\n",
    "    plt.vlines([0,20],0,20)\n",
    "    plt.hlines([0,20],0,20)\n",
    "\n",
    "    plt.scatter(x[0], y[0], c='black')\n",
    "\n",
    "    for i in range(x.shape[1]):\n",
    "        plt.scatter(x[:,i], y[:,i], s=5)\n",
    "\n",
    "    plt.xlim(-1,21)\n",
    "    plt.ylim(-1,21)\n",
    "\n",
    "    plt.show()\n",
    "\n",
    "plot_trajectory(trajectory)"
   ]
  },
  {
   "cell_type": "markdown",
   "metadata": {},
   "source": [
    "# Task 1"
   ]
  },
  {
   "cell_type": "markdown",
   "metadata": {},
   "source": [
    "Implement task 1 below. Feel free to add extra code cells for different components of your implementation."
   ]
  },
  {
   "cell_type": "markdown",
   "metadata": {},
   "source": [
    "## Data Processing"
   ]
  },
  {
   "cell_type": "code",
   "execution_count": 11,
   "metadata": {},
   "outputs": [],
   "source": [
    "def minimum_image_distance(pos1, pos2, box_length):\n",
    "    \"\"\"\n",
    "    Compute the distance between two points with the minimum image convention.\n",
    "\n",
    "    Parameters:\n",
    "    pos1, pos2: numpy arrays representing the positions of the two points.\n",
    "    box_length: float representing the length of one side of the box.\n",
    "\n",
    "    Returns:\n",
    "    float representing the distance between the two points.\n",
    "    \"\"\"\n",
    "    delta = pos2 - pos1\n",
    "    delta = delta - box_length * np.round(delta / box_length)\n",
    "    return np.sqrt(np.sum(delta**2))"
   ]
  },
  {
   "cell_type": "code",
   "execution_count": 12,
   "metadata": {},
   "outputs": [
    {
     "name": "stdout",
     "output_type": "stream",
     "text": [
      "Particles ((4, 5)):\n",
      " [[ 9.59554409  7.53195199  0.51611651 -0.06928145 -1.        ]\n",
      " [ 7.84276225 12.65405926  0.5342578  -0.12193773  1.        ]\n",
      " [ 9.71213475 14.49577317  0.28795482  0.33377239 -1.        ]\n",
      " [ 5.2803654   7.53604669  0.25443658  0.42087594 -1.        ]]\n",
      "Particles graph:\n",
      " Data(x=[4, 3], edge_index=[2, 12], edge_attr=[12], y=[1])\n"
     ]
    }
   ],
   "source": [
    "from torch_geometric.data import Data\n",
    "\n",
    "def create_graph_from_particles(particles, energy, box_length=20.0, cutoff_value=10.0):\n",
    "    \"\"\"\n",
    "    This function creates a graph representation of a system of particles for use in graph neural networks. \n",
    "    Each particle is represented as a node in the graph, and edges are created between particles that are within a certain cutoff distance of each other.\n",
    "\n",
    "    Parameters:\n",
    "    particles (numpy.ndarray): A 2D array representing the particles in the system. \n",
    "                               Each row represents a particle, with the first two columns representing the x and y coordinates of the particle, \n",
    "                               and the remaining columns representing additional features of the particle.\n",
    "    energy (float): The energy of the system.\n",
    "    box_length (float, optional): The length of the box in which the particles are contained. \n",
    "                                  This is used to calculate the minimum image distance between particles. Defaults to 20.0.\n",
    "    cutoff_value (float, optional): The maximum distance at which two particles are considered to be connected by an edge. Defaults to 10.0.\n",
    "\n",
    "    Returns:\n",
    "    torch_geometric.data.Data: A Data object representing the graph. \n",
    "                               The node features, edge indices, edge attributes, and energy are stored as attributes of this object.\n",
    "\n",
    "    The function first creates a list of node features and a list of edge indices and attributes. \n",
    "    Then, it converts these lists into PyTorch tensors and creates a Data object from them. \n",
    "    Finally, it validates the Data object to ensure that it is correctly formatted.\n",
    "    \"\"\"\n",
    "\n",
    "    \n",
    "    num_particles = particles.shape[0]\n",
    "    x = particles[:, 2:] # Position is not used as node feature\n",
    "\n",
    "    edge_index = []\n",
    "    edge_attr = []\n",
    "    for i in range(num_particles):\n",
    "        for j in range(num_particles):\n",
    "            if i != j:  # Avoid self-loops\n",
    "\n",
    "                # Append edge if distance is below cutoff\n",
    "                pos1 = particles[i, :2]\n",
    "                pos2 = particles[j, :2]\n",
    "                distance = minimum_image_distance(pos1, pos2, box_length)\n",
    "                \n",
    "                edge_index.append([i, j])\n",
    "                if distance < cutoff_value: # TODO Per essere corretto non bisognerebbe creare l'edge se la distanza è maggiore del cutoff, ma facendo cosi ci sono errori in alcuni casi limite (annuncio canvas). Ho messo quindi rami con pesi negativi (distanze) per gli edge che non dovrebbero esistere. In questo modo il modello dovrebbe imparare a non considerarli.\n",
    "                    edge_attr.append(distance)\n",
    "                else:\n",
    "                    edge_attr.append(-1.0) # Use -1.0 as padding value\n",
    "\n",
    "    x = torch.tensor(x, dtype=torch.float)         \n",
    "    edge_index = torch.tensor(edge_index).t().contiguous()\n",
    "    edge_attr = torch.tensor(edge_attr, dtype=torch.float)\n",
    "    energy = torch.tensor(energy, dtype=torch.float)\n",
    "\n",
    "    # Create Data object\n",
    "    data = Data(x=x, edge_index=edge_index, edge_attr=edge_attr, y=energy)\n",
    "\n",
    "    # Validate data object\n",
    "    data.validate(raise_on_error=True)\n",
    "    \n",
    "    return data\n",
    "\n",
    "\n",
    "def create_particle_data_list(trajectory, energies, box_length=20.0, cutoff_value=10.0):\n",
    "    \"\"\"\n",
    "    This function creates a list of graph representations of a system of particles for each time step in a trajectory. \n",
    "    Each particle is represented as a node in the graph, and edges are created between particles that are within a certain cutoff distance of each other.\n",
    "\n",
    "    Parameters:\n",
    "    trajectory (numpy.ndarray): A 3D array representing the trajectory of the system. \n",
    "                                The first dimension represents time, the second dimension represents particles, \n",
    "                                and the third dimension represents the x and y coordinates of the particles.\n",
    "    energies (numpy.ndarray): A 1D array representing the energy of the system at each time step.\n",
    "    box_length (float, optional): The length of the box in which the particles are contained. \n",
    "                                  This is used to calculate the minimum image distance between particles. Defaults to 20.0.\n",
    "    cutoff_value (float, optional): The maximum distance at which two particles are considered to be connected by an edge. Defaults to 10.0.\n",
    "\n",
    "    Returns:\n",
    "    list: A list of PyTorch Geometric Data objects, each representing the graph of the system at a different time step.\n",
    "\n",
    "    The function iterates over each time step in the trajectory, creating a graph for each one and appending it to the list. \n",
    "    The graphs are created using the create_graph_from_particles function.\n",
    "    \"\"\"\n",
    "    particle_data_list = []\n",
    "    for i in range(trajectory.shape[0]):\n",
    "        particles = trajectory[i]\n",
    "        energy = energies[i]\n",
    "        particle_data_list.append(create_graph_from_particles(particles, energy, box_length, cutoff_value))\n",
    "    return particle_data_list\n",
    "\n",
    "particle_data_list = create_particle_data_list(trajectory, energy)\n",
    "particles = trajectory[0]\n",
    "particles_graph = particle_data_list[0]\n",
    "print(f'Particles ({particles.shape}):\\n {particles}')\n",
    "print(f'Particles graph:\\n {particles_graph}')"
   ]
  },
  {
   "cell_type": "code",
   "execution_count": 13,
   "metadata": {},
   "outputs": [
    {
     "data": {
      "image/png": "[encoded data removed]",
      "text/plain": [
       "<Figure size 640x480 with 1 Axes>"
      ]
     },
     "metadata": {},
     "output_type": "display_data"
    }
   ],
   "source": [
    "import networkx as nx\n",
    "\n",
    "def visualize_graph(data):\n",
    "    \"\"\"\n",
    "    This function visualizes a graph represented by a PyTorch Geometric Data object using NetworkX and Matplotlib.\n",
    "    This function is used to check the correctness of the graph creation process.\n",
    "\n",
    "    Parameters:\n",
    "    data (torch_geometric.data.Data): A Data object representing the graph. \n",
    "                                      The node features, edge indices, and edge attributes are stored as attributes of this object.\n",
    "\n",
    "    The function first creates a NetworkX DiGraph object and adds nodes and edges to it based on the edge indices and edge attributes in the Data object. \n",
    "    The edges are weighted based on the edge attributes.\n",
    "\n",
    "    Then, the function uses NetworkX's spring layout algorithm to calculate the positions of the nodes, and draws the nodes, edges, and labels using Matplotlib.\n",
    "\n",
    "    Finally, the function displays the graph using Matplotlib's pyplot.show() function.\n",
    "    \"\"\"\n",
    "    edge_index = data.edge_index.cpu().numpy()\n",
    "    edge_attr = data.edge_attr.cpu().numpy() \n",
    "    num_nodes = data.x.shape[0]\n",
    "\n",
    "    # Create a networkx graph\n",
    "    G = nx.DiGraph()\n",
    "\n",
    "    # Add nodes\n",
    "    for i in range(num_nodes):\n",
    "        G.add_node(i)\n",
    "\n",
    "    # Add edges with weights\n",
    "    for i in range(edge_index.shape[1]):\n",
    "        src, dst = edge_index[:, i]\n",
    "        weight = edge_attr[i] \n",
    "        G.add_edge(src, dst, weight=weight)\n",
    "\n",
    "    # Draw the graph\n",
    "    pos = nx.spring_layout(G)  # positions for all nodes\n",
    "\n",
    "    # nodes\n",
    "    nx.draw_networkx_nodes(G, pos, node_size=700)\n",
    "\n",
    "    # edges\n",
    "    nx.draw_networkx_edges(G, pos, width=6)\n",
    "\n",
    "    # labels\n",
    "    nx.draw_networkx_labels(G, pos, font_size=20, font_family='sans-serif')\n",
    "\n",
    "    # edge labels\n",
    "    edge_labels = dict([((u, v,), d['weight'])\n",
    "                        for u, v, d in G.edges(data=True)])\n",
    "    nx.draw_networkx_edge_labels(G, pos, edge_labels=edge_labels)\n",
    "\n",
    "    plt.axis('on')\n",
    "    plt.show()\n",
    "\n",
    "visualize_graph(particles_graph)"
   ]
  },
  {
   "cell_type": "code",
   "execution_count": 14,
   "metadata": {},
   "outputs": [
    {
     "data": {
      "text/plain": [
       "array([[0.        , 5.41370733, 6.96479711, 4.31518063],\n",
       "       [5.41370733, 0.        , 2.62420725, 5.72362912],\n",
       "       [6.96479711, 2.62420725, 0.        , 8.2509619 ],\n",
       "       [4.31518063, 5.72362912, 8.2509619 , 0.        ]])"
      ]
     },
     "execution_count": 14,
     "metadata": {},
     "output_type": "execute_result"
    }
   ],
   "source": [
    "# Compute distances between all pairs of nodes\n",
    "def compute_distances(particles, box_length=20):\n",
    "    \"\"\"\n",
    "    This function computes the distances between all pairs of particles in a system, taking into account the periodic boundary conditions of the system.\n",
    "    This function is used to check the correctness of the edge attributes in the graph representation of the system.\n",
    "\n",
    "    Parameters:\n",
    "    particles (numpy.ndarray): A 2D array representing the particles in the system. \n",
    "                               Each row represents a particle, with the first two columns representing the x and y coordinates of the particle.\n",
    "    box_length (float, optional): The length of the box in which the particles are contained. \n",
    "                                  This is used to calculate the minimum image distance between particles. Defaults to 20.\n",
    "\n",
    "    Returns:\n",
    "    numpy.ndarray: A 2D array representing the distance between each pair of particles. \n",
    "                   The element at the i-th row and j-th column represents the distance between the i-th and j-th particles.\n",
    "\n",
    "    The function first initializes a 2D array of zeros with a size equal to the number of particles. \n",
    "    Then, it iterates over each pair of particles, calculates the minimum image distance between them, \n",
    "    and stores the result in the corresponding element of the distance array. \n",
    "    Since the distance between the i-th and j-th particles is the same as the distance between the j-th and i-th particles, \n",
    "    the function only calculates the distance once for each pair of particles.\n",
    "    \"\"\"\n",
    "    num_particles = len(particles)\n",
    "    distances = np.zeros((num_particles, num_particles))\n",
    "\n",
    "    for i in range(num_particles):\n",
    "        pos_1 = particles[i, :2]\n",
    "        for j in range(i+1, num_particles):\n",
    "            pos_2 = particles[j, :2]\n",
    "            distances[i, j] = minimum_image_distance(pos_1, pos_2, box_length)\n",
    "            distances[j, i] = distances[i, j]  # The distance matrix is symmetric\n",
    "\n",
    "    return distances\n",
    "\n",
    "particles = trajectory[0]\n",
    "distances = compute_distances(particles)\n",
    "distances\n"
   ]
  },
  {
   "cell_type": "code",
   "execution_count": 82,
   "metadata": {},
   "outputs": [],
   "source": [
    "from torch.utils.data import Dataset\n",
    "\n",
    "class ParticleDataset(Dataset):\n",
    "    \"\"\"\n",
    "    A PyTorch Dataset for representing a system of particles. \n",
    "    The dataset is created from a list of file paths, each of which contains a trajectory of the system.\n",
    "\n",
    "    Attributes:\n",
    "    file_paths (list): A list of file paths from which to load the trajectories.\n",
    "    task (str): The task for which the dataset is being created. This should be one of 'task_1', 'task_2', or 'task_3'.\n",
    "    max_len (int): The maximum number of particles in the system.\n",
    "    box_length (float, optional): The length of the box in which the particles are contained. Defaults to 20.0.\n",
    "    cutoff (float, optional): The maximum distance at which two particles are considered to be connected by an edge. Defaults to 10.0.\n",
    "    data_list (list): A list of PyTorch Geometric Data objects, each representing the graph of the system at a different time step.\n",
    "    \"\"\"\n",
    "    def __init__(self, file_paths, max_len, box_length=20.0, cutoff=10.0):\n",
    "        \"\"\"\n",
    "        Initializes the ParticleDataset with the given file paths, task, maximum number of particles, box length, and cutoff distance.\n",
    "        \"\"\"\n",
    "        self.file_paths = file_paths\n",
    "        self.max_len = max_len\n",
    "        self.box_length = box_length\n",
    "        self.cutoff = cutoff\n",
    "        self.data_list = []\n",
    "        self.task = \"task_1\"\n",
    "        for file_path in tqdm(file_paths):\n",
    "            trajectory, energy = load_trajectory(file_path, self.task)\n",
    "            particle_data_list = create_particle_data_list(trajectory, energy, self.box_length, self.cutoff)\n",
    "            self.data_list += particle_data_list\n",
    "    \n",
    "    def __len__(self):\n",
    "        \"\"\"\n",
    "        Returns the length of the dataset, i.e., the number of time steps in all trajectories.\n",
    "        \"\"\"\n",
    "        return len(self.data_list)\n",
    "    \n",
    "    def __getitem__(self, idx):\n",
    "        \"\"\"\n",
    "        Returns the Data object at the given index.\n",
    "        \"\"\"\n",
    "        return self.data_list[idx]\n",
    "    \n"
   ]
  },
  {
   "cell_type": "code",
   "execution_count": 84,
   "metadata": {},
   "outputs": [
    {
     "name": "stdout",
     "output_type": "stream",
     "text": [
      "Loading datasets...\n",
      "Train dataset: 28800 samples\n",
      "Validation dataset: 7200 samples\n"
     ]
    }
   ],
   "source": [
    "from sklearn.model_selection import train_test_split\n",
    "import glob\n",
    "import os\n",
    "import pickle\n",
    "\n",
    "# Define the paths and parameters\n",
    "file_paths = glob.glob('data/task1_2/train/*.npz')\n",
    "\n",
    "max_len = 40  # The maximum length of the trajectories is 40\n",
    "box_length = 20.0  # The length of the simulation box\n",
    "cutoff = 10.0  # The cutoff distance for the edges\n",
    "task = 'task_1'  # The task to perform\n",
    "batch_size = 1  # The batch size\n",
    "\n",
    "train_len = len(file_paths) * 0.8\n",
    "train_file_paths = file_paths[:int(train_len)]\n",
    "val_file_paths = file_paths[int(train_len):]\n",
    "\n",
    "# Check if the datasets are already saved\n",
    "if os.path.exists('train_dataset_task_1.pkl') and os.path.exists('val_dataset_task_1.pkl'):\n",
    "    # Load the datasets\n",
    "    print('Loading datasets...')\n",
    "    with open('train_dataset_task_1.pkl', 'rb') as f:\n",
    "        train_dataset = pickle.load(f)\n",
    "    with open('val_dataset_task_1.pkl', 'rb') as f:\n",
    "        val_dataset = pickle.load(f)\n",
    "else:\n",
    "    # Create datasets\n",
    "    print('Creating datasets...')\n",
    "    train_dataset = ParticleDataset(train_file_paths, max_len, box_length, cutoff)\n",
    "    val_dataset = ParticleDataset(val_file_paths, max_len, box_length, cutoff)\n",
    "\n",
    "    # Save the datasets\n",
    "    with open('train_dataset_task_1.pkl', 'wb') as f:\n",
    "        pickle.dump(train_dataset, f)\n",
    "    with open('val_dataset_task_1.pkl', 'wb') as f:\n",
    "        pickle.dump(val_dataset, f)\n",
    "\n",
    "print(f'Train dataset: {len(train_dataset)} samples')\n",
    "print(f'Validation dataset: {len(val_dataset)} samples')"
   ]
  },
  {
   "cell_type": "code",
   "execution_count": 85,
   "metadata": {},
   "outputs": [
    {
     "data": {
      "text/plain": [
       "Data(x=[4, 3], edge_index=[2, 12], edge_attr=[12], y=[1])"
      ]
     },
     "execution_count": 85,
     "metadata": {},
     "output_type": "execute_result"
    }
   ],
   "source": [
    "train_dataset[0]"
   ]
  },
  {
   "cell_type": "code",
   "execution_count": 86,
   "metadata": {},
   "outputs": [
    {
     "name": "stdout",
     "output_type": "stream",
     "text": [
      "DataBatch(x=[4, 3], edge_index=[2, 12], edge_attr=[12], y=[1], batch=[4], ptr=[2])\n"
     ]
    }
   ],
   "source": [
    "from torch_geometric.loader import DataLoader\n",
    "\n",
    "# Create data loaders\n",
    "train_loader = DataLoader(train_dataset, batch_size=batch_size, shuffle=True)\n",
    "val_loader = DataLoader(val_dataset, batch_size=batch_size, shuffle=False)\n",
    "\n",
    "for data in train_loader:\n",
    "    print(data)\n",
    "    break"
   ]
  },
  {
   "cell_type": "markdown",
   "metadata": {},
   "source": [
    "## Model Definition"
   ]
  },
  {
   "cell_type": "code",
   "execution_count": 87,
   "metadata": {},
   "outputs": [],
   "source": [
    "import torch.nn as nn\n",
    "\n",
    "class Node_to_emb(nn.Module):\n",
    "    \"\"\"\n",
    "    This class is a PyTorch module that transforms node features into node embeddings using a linear transformation.\n",
    "\n",
    "    Attributes:\n",
    "    emb (nn.Linear): A linear transformation layer.\n",
    "    \"\"\"\n",
    "    def __init__(self, node_feat_dim=5, node_emb_dim=64):\n",
    "        \"\"\"\n",
    "        Initializes the Node_to_emb with the given dimensions for the node features and node embeddings.\n",
    "        \"\"\"\n",
    "        super(Node_to_emb, self).__init__()\n",
    "        self.emb = nn.Linear(node_feat_dim, node_emb_dim)\n",
    "\n",
    "    def forward(self, nodes):\n",
    "        \"\"\"\n",
    "        Transforms the given node features into node embeddings using the linear transformation layer.\n",
    "        \"\"\"\n",
    "        assert nodes.size(-1) == self.emb.in_features, 'wrong input dimension of node features!'\n",
    "        return self.emb(nodes)\n",
    "\n",
    "class MpLayer(nn.Module):\n",
    "    \"\"\"\n",
    "    This class is a PyTorch module that represents a message passing layer in a graph neural network.\n",
    "\n",
    "    Attributes:\n",
    "    edge_network (nn.Sequential): A sequence of layers that transform the edge features.\n",
    "    node_network (nn.Sequential): A sequence of layers that transform the node features.\n",
    "    \"\"\"\n",
    "    def __init__(self, hidden_dim, activation=nn.ReLU()):\n",
    "        \"\"\"\n",
    "        Initializes the MpLayer with the given hidden dimension and activation function.\n",
    "        \"\"\"\n",
    "        super(MpLayer, self).__init__()\n",
    "        self.edge_network = nn.Sequential(\n",
    "            nn.Linear(2*hidden_dim + 1, hidden_dim),\n",
    "            activation,\n",
    "            nn.Linear(hidden_dim, hidden_dim),\n",
    "            activation\n",
    "        )\n",
    "        self.node_network = nn.Sequential(\n",
    "            nn.Linear(2*hidden_dim, hidden_dim),\n",
    "            activation,\n",
    "            nn.Linear(hidden_dim, hidden_dim)\n",
    "        )\n",
    "\n",
    "    def forward(self, node_tensor, edge_idx_tensor, edge_attr_tensor):\n",
    "        \"\"\"\n",
    "        Performs the forward pass of the message passing layer.\n",
    "        \"\"\"\n",
    "        edge_messages_input = torch.cat([node_tensor[edge_idx_tensor[0,:]], node_tensor[edge_idx_tensor[1,:]]], dim=-1)\n",
    "        \n",
    "        edge_attr_tensor = edge_attr_tensor.unsqueeze(-1)\n",
    "        edge_messages_input = torch.cat([edge_messages_input, edge_attr_tensor], dim=-1)\n",
    "    \n",
    "        edge_messages_output = self.edge_network(edge_messages_input)\n",
    "        \n",
    "        node_agg_messages = torch.zeros_like(node_tensor).to(node_tensor.device)\n",
    "        node_agg_messages = node_agg_messages.scatter_add_(\n",
    "            dim=0, index=edge_idx_tensor[1].unsqueeze(-1).expand(-1, node_tensor.size(1)), src=edge_messages_output\n",
    "        )\n",
    "        \n",
    "        node_out = self.node_network(torch.cat([node_tensor, node_agg_messages], dim=-1))\n",
    "        return node_out, edge_idx_tensor\n",
    "\n",
    "class MpGNN(nn.Module):\n",
    "    \"\"\"\n",
    "    This class is a PyTorch module that represents a message passing graph neural network.\n",
    "\n",
    "    Attributes:\n",
    "    node_to_emb (Node_to_emb): A module that transforms node features into node embeddings.\n",
    "    mp_layers (nn.ModuleList): A list of message passing layers.\n",
    "    to_pred (nn.Linear): A linear transformation layer that transforms the output of the last message passing layer into the final output.\n",
    "    \"\"\"\n",
    "    def __init__(self, node_feat_dim, hidden_dim, activation=nn.ReLU(), num_layers=3):\n",
    "        \"\"\"\n",
    "        Initializes the MpGNN with the given dimensions for the node features and hidden layer, activation function, and number of layers.\n",
    "        \"\"\"\n",
    "        super(MpGNN, self).__init__()\n",
    "        self.node_to_emb = Node_to_emb(node_feat_dim, hidden_dim)\n",
    "        self.mp_layers = nn.ModuleList([MpLayer(hidden_dim, activation) for _ in range(num_layers)])\n",
    "        self.to_pred = nn.Linear(hidden_dim, 1)\n",
    "\n",
    "    def forward(self, x, edge_index, edge_attr, batch):\n",
    "        \"\"\"\n",
    "        Performs the forward pass of the graph neural network.\n",
    "        \"\"\"\n",
    "        x = self.node_to_emb(x)\n",
    "        for layer in self.mp_layers:\n",
    "            x, edge_index = layer(x, edge_index, edge_attr)\n",
    "        \n",
    "        out = torch.zeros(batch.max().item() + 1, x.size(1)).to(x.device)\n",
    "        idx_aggregate_graph = batch.unsqueeze(-1).expand_as(x)\n",
    "        out.scatter_add_(dim=0, index=idx_aggregate_graph, src=x)\n",
    "        \n",
    "        out = self.to_pred(out)\n",
    "        return out"
   ]
  },
  {
   "cell_type": "code",
   "execution_count": 88,
   "metadata": {},
   "outputs": [
    {
     "data": {
      "text/plain": [
       "3"
      ]
     },
     "execution_count": 88,
     "metadata": {},
     "output_type": "execute_result"
    }
   ],
   "source": [
    "num_features = int(train_dataset[0].x.shape[1])\n",
    "num_features"
   ]
  },
  {
   "cell_type": "code",
   "execution_count": 90,
   "metadata": {},
   "outputs": [
    {
     "name": "stdout",
     "output_type": "stream",
     "text": [
      "+--------------------------------------+--------------------------+-----------------+----------+\n",
      "| Layer                                | Input Shape              | Output Shape    | #Param   |\n",
      "|--------------------------------------+--------------------------+-----------------+----------|\n",
      "| MpGNN                                | [3, 3], [2, 6], [6], [3] | [1, 1]          | 174,593  |\n",
      "| ├─(node_to_emb)Node_to_emb           | [3, 3]                   | [3, 64]         | 256      |\n",
      "| │    └─(emb)Linear                   | [3, 3]                   | [3, 64]         | 256      |\n",
      "| ├─(mp_layers)ModuleList              | --                       | --              | 174,272  |\n",
      "| │    └─(0)MpLayer                    | [3, 64], [2, 6], [6]     | [3, 64], [2, 6] | 24,896   |\n",
      "| │    │    └─(edge_network)Sequential | [6, 129]                 | [6, 64]         | 12,480   |\n",
      "| │    │    └─(node_network)Sequential | [3, 128]                 | [3, 64]         | 12,416   |\n",
      "| │    └─(1)MpLayer                    | [3, 64], [2, 6], [6]     | [3, 64], [2, 6] | 24,896   |\n",
      "| │    │    └─(edge_network)Sequential | [6, 129]                 | [6, 64]         | 12,480   |\n",
      "| │    │    └─(node_network)Sequential | [3, 128]                 | [3, 64]         | 12,416   |\n",
      "| │    └─(2)MpLayer                    | [3, 64], [2, 6], [6]     | [3, 64], [2, 6] | 24,896   |\n",
      "| │    │    └─(edge_network)Sequential | [6, 129]                 | [6, 64]         | 12,480   |\n",
      "| │    │    └─(node_network)Sequential | [3, 128]                 | [3, 64]         | 12,416   |\n",
      "| │    └─(3)MpLayer                    | [3, 64], [2, 6], [6]     | [3, 64], [2, 6] | 24,896   |\n",
      "| │    │    └─(edge_network)Sequential | [6, 129]                 | [6, 64]         | 12,480   |\n",
      "| │    │    └─(node_network)Sequential | [3, 128]                 | [3, 64]         | 12,416   |\n",
      "| │    └─(4)MpLayer                    | [3, 64], [2, 6], [6]     | [3, 64], [2, 6] | 24,896   |\n",
      "| │    │    └─(edge_network)Sequential | [6, 129]                 | [6, 64]         | 12,480   |\n",
      "| │    │    └─(node_network)Sequential | [3, 128]                 | [3, 64]         | 12,416   |\n",
      "| │    └─(5)MpLayer                    | [3, 64], [2, 6], [6]     | [3, 64], [2, 6] | 24,896   |\n",
      "| │    │    └─(edge_network)Sequential | [6, 129]                 | [6, 64]         | 12,480   |\n",
      "| │    │    └─(node_network)Sequential | [3, 128]                 | [3, 64]         | 12,416   |\n",
      "| │    └─(6)MpLayer                    | [3, 64], [2, 6], [6]     | [3, 64], [2, 6] | 24,896   |\n",
      "| │    │    └─(edge_network)Sequential | [6, 129]                 | [6, 64]         | 12,480   |\n",
      "| │    │    └─(node_network)Sequential | [3, 128]                 | [3, 64]         | 12,416   |\n",
      "| ├─(to_pred)Linear                    | [1, 64]                  | [1, 1]          | 65       |\n",
      "+--------------------------------------+--------------------------+-----------------+----------+\n"
     ]
    }
   ],
   "source": [
    "from torch.optim import Adam\n",
    "from torch_geometric.nn import summary\n",
    "\n",
    "# Hyperparameters\n",
    "hidden_dim = 64\n",
    "num_layers = 7\n",
    "learning_rate = 0.0001\n",
    "weight_decay = 0\n",
    "num_epochs = 20\n",
    "\n",
    "# Initialize the model, optimizer and loss function\n",
    "model = MpGNN(num_features, hidden_dim=hidden_dim, num_layers=num_layers).to(device) # initialize  GNN\n",
    "\n",
    "optimizer = Adam(model.parameters(), lr=learning_rate, weight_decay=weight_decay)\n",
    "criterion = torch.nn.MSELoss()\n",
    "\n",
    "dummy_data = next(iter(train_loader))\n",
    "print(summary(model, dummy_data.x, dummy_data.edge_index, dummy_data.edge_attr, dummy_data.batch))\n"
   ]
  },
  {
   "cell_type": "markdown",
   "metadata": {},
   "source": [
    "## Training"
   ]
  },
  {
   "cell_type": "code",
   "execution_count": 91,
   "metadata": {},
   "outputs": [],
   "source": [
    "def train(model, train_loader, optimizer, criterion, device):\n",
    "    \"\"\"\n",
    "    This function trains the given model for one epoch using the given data loader, optimizer, loss function, and device.\n",
    "\n",
    "    Parameters:\n",
    "    model (torch.nn.Module): The model to train.\n",
    "    train_loader (torch.utils.data.DataLoader): The data loader that provides the training data.\n",
    "    optimizer (torch.optim.Optimizer): The optimizer to use for training.\n",
    "    criterion (torch.nn.Module): The loss function to use for training.\n",
    "    device (torch.device): The device to use for training.\n",
    "\n",
    "    The function first sets the model to training mode. Then, it iterates over the training data. For each batch of data, \n",
    "    it moves the data to the given device, performs a forward pass, computes the loss, performs a backward pass, \n",
    "    and updates the model parameters. The function keeps track of the total loss over all batches. \n",
    "    Finally, it returns the average loss over all batches.\n",
    "    \"\"\"\n",
    "    model.train()\n",
    "    total_loss = 0\n",
    "    for data in train_loader:\n",
    "        \n",
    "        data = data.to(device)\n",
    "        optimizer.zero_grad()\n",
    "        \n",
    "        output = model(data.x, data.edge_index, data.edge_attr, data.batch)\n",
    "       \n",
    "        loss = criterion(output, data.y.view(-1, 1))  # y is a single value per graph\n",
    "        loss.backward()\n",
    "        optimizer.step()\n",
    "        total_loss += loss.item()\n",
    "    return total_loss / len(train_loader)\n",
    "\n",
    "\n",
    "def validate(model, val_loader, criterion, device):\n",
    "    \"\"\"\n",
    "    This function validates the given model using the given data loader, loss function, and device.\n",
    "\n",
    "    Parameters:\n",
    "    model (torch.nn.Module): The model to validate.\n",
    "    val_loader (torch.utils.data.DataLoader): The data loader that provides the validation data.\n",
    "    criterion (torch.nn.Module): The loss function to use for validation.\n",
    "    device (torch.device): The device to use for validation.\n",
    "\n",
    "    The function first sets the model to evaluation mode. Then, it iterates over the validation data. \n",
    "    For each batch of data, it moves the data to the given device, performs a forward pass, and computes the loss. \n",
    "    The function keeps track of the total loss over all batches. \n",
    "    Finally, it returns the average loss over all batches.\n",
    "    \"\"\"\n",
    "    model.eval()\n",
    "    total_loss = 0\n",
    "    with torch.no_grad():\n",
    "        for data in val_loader:\n",
    "            data = data.to(device)\n",
    "            output = model(data.x, data.edge_index, data.edge_attr, data.batch)\n",
    "            loss = criterion(output, data.y.view(-1, 1))  # y is a single value per graph\n",
    "            total_loss += loss.item()\n",
    "    return total_loss / len(val_loader)\n",
    "\n",
    "# Train model\n",
    "if TRAIN_1:\n",
    "    train_losses = []\n",
    "    val_losses = []\n",
    "\n",
    "    # Initialize best validation loss to infinity\n",
    "    best_val_loss = float('inf')\n",
    "\n",
    "    for epoch in tqdm(range(num_epochs)):\n",
    "        train_loss = train(model, train_loader, optimizer, criterion, device)\n",
    "        train_losses.append(train_loss)\n",
    "        val_loss = validate(model, val_loader, criterion, device)\n",
    "        val_losses.append(val_loss)\n",
    "        print(f'Epoch {epoch+1}, Train Loss: {train_loss}, Val Loss: {val_loss}')\n",
    "\n",
    "        # Save the model if it's the best one so far\n",
    "        if val_loss < best_val_loss:\n",
    "            best_val_loss = val_loss\n",
    "            torch.save(model.state_dict(), 'best_model_task_1.pth')\n",
    "\n",
    "    print(f'Best Val Loss: {best_val_loss}')\n"
   ]
  },
  {
   "cell_type": "code",
   "execution_count": 92,
   "metadata": {},
   "outputs": [],
   "source": [
    "# Plot the training and validation losses\n",
    "def plot_losses(train_losses, val_losses):\n",
    "    \"\"\"\n",
    "    This function plots the training and validation losses over epochs.\n",
    "\n",
    "    Parameters:\n",
    "    train_losses (list): A list of training losses for each epoch.\n",
    "    val_losses (list): A list of validation losses for each epoch.\n",
    "\n",
    "    The function uses matplotlib to create a line plot of the training and validation losses. \n",
    "    The x-axis represents the epoch number and the y-axis represents the loss. \n",
    "    The training losses are plotted in one color and the validation losses are plotted in another color. \n",
    "    A legend is added to the plot to distinguish between the two lines. \n",
    "    Finally, the plot is displayed.\n",
    "    \"\"\"\n",
    "    plt.plot(train_losses, label='Train Loss')\n",
    "    plt.plot(val_losses, label='Validation Loss')\n",
    "    plt.xlabel('Epoch')\n",
    "    plt.ylabel('Loss')\n",
    "    plt.legend()\n",
    "    plt.show()\n",
    "\n",
    "if TRAIN_1:\n",
    "    plot_losses(train_losses, val_losses)"
   ]
  },
  {
   "cell_type": "markdown",
   "metadata": {},
   "source": [
    "## Test"
   ]
  },
  {
   "cell_type": "code",
   "execution_count": 93,
   "metadata": {},
   "outputs": [
    {
     "data": {
      "text/plain": [
       "<All keys matched successfully>"
      ]
     },
     "execution_count": 93,
     "metadata": {},
     "output_type": "execute_result"
    }
   ],
   "source": [
    "# Load the best model\n",
    "model = MpGNN(num_features, hidden_dim=hidden_dim, num_layers=num_layers)\n",
    "model.load_state_dict(torch.load('best_model_task_1.pth'))"
   ]
  },
  {
   "cell_type": "code",
   "execution_count": 96,
   "metadata": {},
   "outputs": [
    {
     "name": "stderr",
     "output_type": "stream",
     "text": [
      "100%|██████████| 100/100 [00:00<00:00, 177.70it/s]"
     ]
    },
    {
     "name": "stdout",
     "output_type": "stream",
     "text": [
      "Test dataset: 4000 samples\n"
     ]
    },
    {
     "name": "stderr",
     "output_type": "stream",
     "text": [
      "\n"
     ]
    }
   ],
   "source": [
    "# Load and preprocess test data\n",
    "test_file_paths = glob.glob('data/task1_2/test/*.npz')\n",
    "\n",
    "test_dataset = ParticleDataset(test_file_paths, max_len, box_length, cutoff)\n",
    "test_loader = DataLoader(test_dataset, batch_size=batch_size, shuffle=False)\n",
    "print(f'Test dataset: {len(test_dataset)} samples')"
   ]
  },
  {
   "cell_type": "code",
   "execution_count": 97,
   "metadata": {},
   "outputs": [
    {
     "data": {
      "text/plain": [
       "0.048849550288140885"
      ]
     },
     "execution_count": 97,
     "metadata": {},
     "output_type": "execute_result"
    }
   ],
   "source": [
    "def compute_test_loss(model, test_loader, criterion):\n",
    "    \"\"\"\n",
    "    This function computes the loss of the given model on the given test data using the given loss function.\n",
    "\n",
    "    Parameters:\n",
    "    model (torch.nn.Module): The model to test.\n",
    "    test_loader (torch.utils.data.DataLoader): The data loader that provides the test data.\n",
    "    criterion (torch.nn.Module): The loss function to use for testing.\n",
    "\n",
    "    The function first sets the model to evaluation mode. Then, it iterates over the test data. \n",
    "    For each batch of data, it moves the data to the device, performs a forward pass, and computes the loss. \n",
    "    The function keeps track of the total loss over all batches. Finally, it returns the average loss over all batches.\n",
    "    \"\"\"\n",
    "    model.eval()\n",
    "    total_loss = 0\n",
    "    with torch.no_grad():\n",
    "        for data in test_loader:\n",
    "            data = data.to(device)\n",
    "            output = model(data.x, data.edge_index, data.edge_attr, data.batch)\n",
    "            loss = criterion(output, data.y.view(-1, 1))  # y is a single value per graph\n",
    "            total_loss += loss.item()\n",
    "    return total_loss / len(test_loader)\n",
    "\n",
    "compute_test_loss(model, test_loader, criterion)"
   ]
  },
  {
   "cell_type": "code",
   "execution_count": 99,
   "metadata": {},
   "outputs": [
    {
     "data": {
      "image/png": "[encoded data removed]",
      "text/plain": [
       "<Figure size 500x1000 with 5 Axes>"
      ]
     },
     "metadata": {},
     "output_type": "display_data"
    }
   ],
   "source": [
    "from torch_geometric.data import Batch\n",
    "\n",
    "def plot_predictions(model, file_paths, device, task, num_plots=5, box_length=20.0, cutoff_value=10.0):\n",
    "    \"\"\"\n",
    "    This function plots the predicted and true energies over time for a random selection of systems from the given file paths.\n",
    "\n",
    "    Parameters:\n",
    "    model (torch.nn.Module): The model to use for prediction.\n",
    "    file_paths (list): A list of file paths to the system data.\n",
    "    device (torch.device): The device to use for prediction.\n",
    "    task (str): The task to perform (e.g., 'classification', 'regression').\n",
    "    num_plots (int, optional): The number of plots to create. Default is 5.\n",
    "    box_length (float, optional): The length of the box in which the particles are contained. Default is 20.0.\n",
    "    cutoff_value (float, optional): The cutoff value for the interaction between particles. Default is 10.0.\n",
    "\n",
    "    The function first sets the model to evaluation mode. Then, it selects a random subset of the file paths. \n",
    "    For each selected file path, it loads the system data, creates a graph from the system data, \n",
    "    and uses the model to predict the energies of the system over time. \n",
    "    It then plots the predicted energies and the true energies on the same plot. \n",
    "    The x-axis represents the time step and the y-axis represents the energy. \n",
    "    A legend is added to the plot to distinguish between the predicted and true energies. \n",
    "    Finally, the function displays all the plots.\n",
    "    \"\"\"\n",
    "    model.eval()\n",
    "    random_indices = np.random.randint(0, len(file_paths), size=num_plots)\n",
    "    random_paths = [file_paths[i] for i in random_indices]\n",
    "\n",
    "    fig, axs = plt.subplots(num_plots, 1, figsize=(5, num_plots*2))\n",
    "\n",
    "    with torch.no_grad():\n",
    "        plot_count = 0\n",
    "        for i, path in enumerate(random_paths):\n",
    "            \n",
    "            trajectory, energy = load_trajectory(path, task)\n",
    "           \n",
    "            # Create a graph from the trajectory\n",
    "            particles_list = create_particle_data_list(trajectory, energy, box_length, cutoff_value)\n",
    "            batched_data = Batch.from_data_list(particles_list).to(device)\n",
    "\n",
    "            output = model(batched_data.x, batched_data.edge_index, batched_data.edge_attr, batched_data.batch)\n",
    "\n",
    "            # Plot predicted energies\n",
    "            axs[plot_count].plot(output.cpu(), label='Predicted Energy')\n",
    "\n",
    "            # Plot true energies\n",
    "            axs[plot_count].plot(energy.flatten(), label='True Energy')\n",
    "\n",
    "            axs[plot_count].set_xlabel('step')\n",
    "            axs[plot_count].set_title('System energy over time')\n",
    "            axs[plot_count].legend()\n",
    "\n",
    "            \n",
    "            plot_count += 1\n",
    "            if plot_count == num_plots:\n",
    "                break\n",
    "\n",
    "    plt.tight_layout()\n",
    "    plt.show()\n",
    "\n",
    "plot_predictions(model, test_file_paths, device, task)\n"
   ]
  },
  {
   "cell_type": "markdown",
   "metadata": {},
   "source": [
    "## Tuning"
   ]
  },
  {
   "cell_type": "code",
   "execution_count": 29,
   "metadata": {},
   "outputs": [],
   "source": [
    "import itertools\n",
    "\n",
    "def grid_search(train_loader, val_loader, num_features, num_epochs, device, output_file):\n",
    "    \"\"\"\n",
    "    This function performs a grid search over a set of hyperparameters to find the best model for the given training and validation data.\n",
    "\n",
    "    Parameters:\n",
    "    train_loader (torch.utils.data.DataLoader): The data loader that provides the training data.\n",
    "    val_loader (torch.utils.data.DataLoader): The data loader that provides the validation data.\n",
    "    num_features (int): The number of features in the input data.\n",
    "    num_epochs (int): The number of epochs to train each model.\n",
    "    device (torch.device): The device to use for training and validation.\n",
    "    output_file (str): The path to the file where the grid search results will be written.\n",
    "\n",
    "    The function iterates over all combinations of the hyperparameters. For each combination, it creates a model with the current hyperparameters, \n",
    "    trains the model for the given number of epochs, and computes the validation loss. \n",
    "    If the validation loss is lower than the best validation loss seen so far, the function updates the best model, best validation loss, and best hyperparameters. \n",
    "    The function writes the hyperparameters and validation loss of each model to the output file. \n",
    "    Finally, the function returns the best model, best hyperparameters, and best validation loss.\n",
    "    \"\"\"\n",
    "    \n",
    "    # Define hyperparameters to tune\n",
    "    hidden_dims = [32, 64, 128, 256]\n",
    "    num_layers_list = [5, 7, 9]\n",
    "    learning_rates = [0.0001, 0.001]\n",
    "    weight_decays = [0.0, 1e-5]\n",
    "\n",
    "    best_model = None\n",
    "    best_val_loss = float('inf')\n",
    "    best_params = {}\n",
    "\n",
    "    with open(output_file, 'w') as f:\n",
    "        f.write(\"hidden_dim,num_layers,lr,weight_decay,val_loss\\n\")\n",
    "\n",
    "        for hidden_dim, num_layers, lr, weight_decay in tqdm(itertools.product(hidden_dims, num_layers_list, learning_rates, weight_decays)):\n",
    "            # Create model with current hyperparameters\n",
    "            model = MpGNN(num_features, hidden_dim=hidden_dim, num_layers=num_layers) # initialize our GNN\n",
    "            # Define optimizer and criterion\n",
    "            optimizer = Adam(model.parameters(), lr=lr, weight_decay=weight_decay)\n",
    "            criterion = torch.nn.MSELoss()\n",
    "\n",
    "            best_model_loss = float('inf')\n",
    "\n",
    "            # Train model\n",
    "            print(f'Starting training with hidden_dim={hidden_dim}, num_layers={num_layers}, lr={lr}, weight_decay={weight_decay}')\n",
    "            for epoch in range(num_epochs):\n",
    "                train_loss = train(model, train_loader, optimizer,criterion, device)\n",
    "                val_loss = validate(model, val_loader, criterion, device)\n",
    "                \n",
    "                if val_loss < best_val_loss:\n",
    "                    best_val_loss = val_loss\n",
    "                    best_model = model\n",
    "                    best_params = {'hidden_dim': hidden_dim, 'num_layers': num_layers, 'lr': lr, 'weight_decay': weight_decay}\n",
    "                    torch.save(best_model.state_dict(), 'best_model_grid_search.pth')\n",
    "\n",
    "                if val_loss < best_model_loss:\n",
    "                    best_model_loss = val_loss\n",
    "\n",
    "            f.write(f\"{hidden_dim},{num_layers},{lr},{weight_decay},{best_model_loss}\\n\")\n",
    "            print(f\"Finished training with hidden_dim={hidden_dim}, num_layers={num_layers}, lr={lr}, weight_decay={weight_decay}, val_loss={best_model_loss}\")\n",
    "     \n",
    "    return best_model, best_params, best_val_loss\n",
    "\n",
    "\n",
    "num_epochs = 20\n",
    "\n",
    "if GRID_SEARCH_1:\n",
    "    output_file = \"grid_search_results.txt\"\n",
    "    best_model, best_params, best_val_loss = grid_search(train_loader, val_loader, num_features, num_epochs, device, output_file)\n",
    "    torch.save(best_model.state_dict(), 'best_model_grid_search_1.pth')\n",
    "    print(\"Best Parameters:\")\n",
    "    print(best_params)\n",
    "    print(\"Best Validation Loss:\", best_val_loss)"
   ]
  },
  {
   "cell_type": "markdown",
   "metadata": {},
   "source": [
    "Best Parameters: {'hidden_dim': 64, 'num_layers': 7, 'lr': 0.0001, 'weight_decay': 0}\n",
    "\n",
    "Best Validation Loss: 0.215618465204782"
   ]
  },
  {
   "cell_type": "markdown",
   "metadata": {},
   "source": [
    "# Task 2"
   ]
  },
  {
   "cell_type": "markdown",
   "metadata": {},
   "source": [
    "Implement task 2 below. Feel free to add extra code cells for different components of your implementation."
   ]
  },
  {
   "cell_type": "markdown",
   "metadata": {},
   "source": [
    "## Preprocessing"
   ]
  },
  {
   "cell_type": "code",
   "execution_count": 30,
   "metadata": {},
   "outputs": [
    {
     "name": "stdout",
     "output_type": "stream",
     "text": [
      "Particles ((4, 5)):\n",
      " [[ 9.59554409  7.53195199  0.51611651 -0.06928145 -1.        ]\n",
      " [ 7.84276225 12.65405926  0.5342578  -0.12193773  1.        ]\n",
      " [ 9.71213475 14.49577317  0.28795482  0.33377239 -1.        ]\n",
      " [ 5.2803654   7.53604669  0.25443658  0.42087594 -1.        ]]\n",
      "Next Particles ((4, 5)):\n",
      " [[ 9.85877038  7.49870635  0.53647451 -0.06382443 -1.        ]\n",
      " [ 8.12182376 12.59852055  0.58054579 -0.09997886  1.        ]\n",
      " [ 9.84478862 14.65379992  0.24390343  0.29793727 -1.        ]\n",
      " [ 5.40180659  7.74851886  0.23184199  0.42929516 -1.        ]]\n",
      "Particles graph x (velocity norm):\n",
      " tensor([[0.5207],\n",
      "        [0.5480],\n",
      "        [0.4408],\n",
      "        [0.4918]])\n",
      "Particles graph edge_attr (distance, charge_product):\n",
      " tensor([[ 5.4137, -1.0000],\n",
      "        [ 6.9648,  1.0000],\n",
      "        [ 4.3152,  1.0000],\n",
      "        [ 5.4137, -1.0000],\n",
      "        [ 2.6242, -1.0000],\n",
      "        [ 5.7236, -1.0000],\n",
      "        [ 6.9648,  1.0000],\n",
      "        [ 2.6242, -1.0000],\n",
      "        [ 8.2510,  1.0000],\n",
      "        [ 4.3152,  1.0000],\n",
      "        [ 5.7236, -1.0000],\n",
      "        [ 8.2510,  1.0000]])\n",
      "Particles graph edge_index:\n",
      " tensor([[0, 0, 0, 1, 1, 1, 2, 2, 2, 3, 3, 3],\n",
      "        [1, 2, 3, 0, 2, 3, 0, 1, 3, 0, 1, 2]])\n",
      "Particles graph pos:\n",
      " None\n",
      "Particles graph vel:\n",
      " tensor([[ 0.5161, -0.0693],\n",
      "        [ 0.5343, -0.1219],\n",
      "        [ 0.2880,  0.3338],\n",
      "        [ 0.2544,  0.4209]])\n",
      "Particles graph y (next velocity):\n",
      " tensor([[ 9.8588,  7.4987,  0.5365, -0.0638],\n",
      "        [ 8.1218, 12.5985,  0.5805, -0.1000],\n",
      "        [ 9.8448, 14.6538,  0.2439,  0.2979],\n",
      "        [ 5.4018,  7.7485,  0.2318,  0.4293]])\n"
     ]
    }
   ],
   "source": [
    "from torch_geometric.data import Data\n",
    "\n",
    "def create_graph_from_particles_task_2(particles, next_particles=None, energy=0.0, next_energy=0.0, box_length=20.0, cutoff_value=10.0):\n",
    "\n",
    "    # TODO: Remove energy????\n",
    "    \n",
    "    num_particles = particles.shape[0]\n",
    "\n",
    "    velocity_x = particles[:, 2]\n",
    "    velocity_y = particles[:, 3]\n",
    "    charge = particles[:, 4][:, np.newaxis]\n",
    "    \n",
    "    velocity_norm = np.sqrt(velocity_x**2 + velocity_y**2)\n",
    "\n",
    "    edge_index = []\n",
    "    edge_attr = [] # Distance and charge product\n",
    "    for i in range(num_particles):\n",
    "        for j in range(num_particles):\n",
    "            if i != j:  # Avoid self-loops\n",
    "\n",
    "                # Charge product\n",
    "                charge_1 = charge[i]    \n",
    "                charge_2 = charge[j]\n",
    "                charge_product = charge_1 * charge_2\n",
    "\n",
    "                # Append edge if distance is below cutoff\n",
    "                pos1 = particles[i, :2]\n",
    "                pos2 = particles[j, :2]\n",
    "                distance = minimum_image_distance(pos1, pos2, box_length)\n",
    "                \n",
    "                edge_index.append([i, j])\n",
    "\n",
    "                if distance < cutoff_value: # TODO Per essere corretto non bisognerebbe creare l'edge se la distanza è maggiore del cutoff, ma facendo cosi ci sono errori in alcuni casi limite (annuncio canvas). Ho messo quindi rami con pesi negativi (distanze) per gli edge che non dovrebbero esistere. In questo modo il modello dovrebbe imparare a non considerarli.\n",
    "                    edge_attr.append([distance, charge_product.item()])\n",
    "                else:\n",
    "                    # Use -999.0 as padding value\n",
    "                    edge_attr.append([-999.0, -999.0]) # TODO change padding value if needed\n",
    "    \n",
    "    \n",
    "    x = torch.tensor(velocity_norm, dtype=torch.float).unsqueeze(-1) # Use velocity norm as node feature\n",
    "    edge_index = torch.tensor(edge_index).t().contiguous()\n",
    "    # edge_attr = torch.tensor(edge_attr, dtype=torch.float)\n",
    "    edge_attr = torch.tensor(np.array(edge_attr), dtype=torch.float) \n",
    "\n",
    "    coordinates = torch.tensor(particles[:, :2], dtype=torch.float)\n",
    "    velocity = torch.tensor(particles[:, 2:4], dtype=torch.float)\n",
    "    # energy = torch.tensor(energy, dtype=torch.float)\n",
    "\n",
    "    if next_particles is not None: # For train set\n",
    "\n",
    "        next_position_x = next_particles[:, 0][:, np.newaxis]\n",
    "        next_position_y = next_particles[:, 1][:, np.newaxis]\n",
    "\n",
    "        next_velocity_x = next_particles[:, 2][:, np.newaxis]\n",
    "        next_velocity_y = next_particles[:, 3][:, np.newaxis]\n",
    "\n",
    "        target = np.concatenate([next_position_x, next_position_y, next_velocity_x, next_velocity_y], axis=1)\n",
    "        target = torch.tensor(target, dtype=torch.float)\n",
    "\n",
    "        # Create Data object\n",
    "        data = Data(x=x, edge_index=edge_index, edge_attr=edge_attr, coord=coordinates, vel=velocity, y=target)\n",
    "\n",
    "    else: # For test set\n",
    "        data = Data(x=x, edge_index=edge_index, edge_attr=edge_attr, coord=coordinates, vel=velocity)\n",
    "\n",
    "    # Validate data object\n",
    "    data.validate(raise_on_error=True)\n",
    "\n",
    "    # print(f'Node features shape ({data.x.shape}):\\n')\n",
    "    # print(f'Edge indices shape ({data.edge_index.shape}):\\n')\n",
    "    # print(f'Edge attributes shape ({data.edge_attr.shape}):\\n')\n",
    "    # print(f'Target shape ({data.y.shape}):\\n')\n",
    "    \n",
    "    return data\n",
    "\n",
    "\n",
    "def create_particle_data_list_task_2(trajectory, energies, box_length=20.0, cutoff_value=10.0):\n",
    "    \n",
    "    particle_data_list = []\n",
    "    for i in range(trajectory.shape[0] - 1):\n",
    "        particles = trajectory[i]\n",
    "        next_particles = trajectory[i+1]\n",
    "        energy = energies[i]\n",
    "        next_energy = energies[i+1]\n",
    "        particle_data_list.append(create_graph_from_particles_task_2(particles, next_particles, energy, next_energy, box_length, cutoff_value))\n",
    "    \n",
    "    assert (trajectory.shape[0]-1) == len(particle_data_list)\n",
    "    return particle_data_list\n",
    "\n",
    "\n",
    "# Test the functions on the first trajectory\n",
    "\n",
    "trajectory, _ = load_trajectory('data/task1_2/train/trajectory_0.npz', 'task_2')\n",
    "particle_data_list = create_particle_data_list_task_2(trajectory, energy)\n",
    "\n",
    "particles = trajectory[0]\n",
    "next_particles = trajectory[1]\n",
    "print(f'Particles ({particles.shape}):\\n {particles}')\n",
    "print(f'Next Particles ({next_particles.shape}):\\n {next_particles}')\n",
    "\n",
    "particles_graph = particle_data_list[0]\n",
    "print(f'Particles graph x (velocity norm):\\n {particles_graph.x}')\n",
    "print(f'Particles graph edge_attr (distance, charge_product):\\n {particles_graph.edge_attr}')\n",
    "print(f'Particles graph edge_index:\\n {particles_graph.edge_index}')\n",
    "print(f'Particles graph pos:\\n {particles_graph.pos}')\n",
    "print(f'Particles graph vel:\\n {particles_graph.vel}')\n",
    "print(f'Particles graph y (next velocity):\\n {particles_graph.y}')\n"
   ]
  },
  {
   "cell_type": "code",
   "execution_count": 31,
   "metadata": {},
   "outputs": [],
   "source": [
    "# import math\n",
    "\n",
    "# def rotate_graph(data, angle_degrees):\n",
    "#     \"\"\"\n",
    "#     Rotates the graph by a given angle in degrees.\n",
    "\n",
    "#     Args:\n",
    "#         data (Data): A PyTorch Geometric Data object containing node features, edge index, and edge attributes.\n",
    "#         angle_degrees (float): The angle by which to rotate the graph, in degrees.\n",
    "\n",
    "#     Returns:\n",
    "#         Data: A PyTorch Geometric Data object containing the rotated node features, edge index, and edge attributes.\n",
    "#     \"\"\"\n",
    "#     node_features = data.x\n",
    "#     edge_index = data.edge_index\n",
    "#     edge_attr = data.edge_attr\n",
    "\n",
    "#     rotated_features = node_features.clone()\n",
    "\n",
    "#     # Convert angle from degrees to radians\n",
    "#     angle_radians = math.radians(angle_degrees)\n",
    "\n",
    "#     # Extract norm, sin, cos, charge\n",
    "#     norm = node_features[:, 0]\n",
    "#     sin = node_features[:, 1]\n",
    "#     cos = node_features[:, 2]\n",
    "#     charge = node_features[:, 3]\n",
    "\n",
    "#     # Calculate the new sin and cos using the rotation matrix\n",
    "#     new_sin = sin * math.cos(angle_radians) - cos * math.sin(angle_radians)\n",
    "#     new_cos = sin * math.sin(angle_radians) + cos * math.cos(angle_radians)\n",
    "\n",
    "#     # Update the rotated features\n",
    "#     rotated_features[:, 0] = norm\n",
    "#     rotated_features[:, 1] = new_sin\n",
    "#     rotated_features[:, 2] = new_cos\n",
    "#     rotated_features[:, 3] = charge\n",
    "\n",
    "#     # Edge attributes remain the same\n",
    "#     rotated_edge_attr = edge_attr.clone()\n",
    "\n",
    "#     # Create and return a new Data object with the rotated features\n",
    "#     rotated_data = Data(x=rotated_features, edge_index=edge_index, edge_attr=rotated_edge_attr)\n",
    "\n",
    "#     return rotated_data\n",
    "\n",
    "# def rotate_target(target, angle_degrees):\n",
    "#     \"\"\"\n",
    "#     Rotates the target tensor by a given angle in degrees.\n",
    "\n",
    "#     Args:\n",
    "#         target (torch.Tensor): A tensor of shape (num_nodes, 3) containing [norm, sin, cos] for each node.\n",
    "#         angle_degrees (float): The angle by which to rotate the target tensor, in degrees.\n",
    "\n",
    "#     Returns:\n",
    "#         torch.Tensor: A tensor of shape (num_nodes, 3) with the rotated [norm, sin, cos] values.\n",
    "#     \"\"\"\n",
    "#     rotated_target = target.clone()\n",
    "\n",
    "#     # Convert angle from degrees to radians\n",
    "#     angle_radians = math.radians(angle_degrees)\n",
    "\n",
    "#     # Extract norm, sin, cos\n",
    "#     norm = target[:, 0]\n",
    "#     sin = target[:, 1]\n",
    "#     cos = target[:, 2]\n",
    "\n",
    "#     # Calculate the new sin and cos using the rotation matrix\n",
    "#     new_sin = sin * math.cos(angle_radians) - cos * math.sin(angle_radians)\n",
    "#     new_cos = sin * math.sin(angle_radians) + cos * math.cos(angle_radians)\n",
    "\n",
    "#     # Update the rotated target tensor\n",
    "#     rotated_target[:, 0] = norm\n",
    "#     rotated_target[:, 1] = new_sin\n",
    "#     rotated_target[:, 2] = new_cos\n",
    "\n",
    "#     return rotated_target"
   ]
  },
  {
   "cell_type": "code",
   "execution_count": 32,
   "metadata": {},
   "outputs": [],
   "source": [
    "class ParticleDynamicsDataset():\n",
    "    def __init__(self, file_paths, max_len=40, box_length=20.0, cutoff=10.0):\n",
    "        \n",
    "        self.file_paths = file_paths\n",
    "        self.max_len = max_len\n",
    "        self.box_length = box_length\n",
    "        self.task = \"task_2\"\n",
    "        self.cutoff = cutoff\n",
    "        self.data_list = []\n",
    "        for file_path in tqdm(file_paths, desc=\"Loading data\"):\n",
    "            trajectory, energy = load_trajectory(file_path, self.task)\n",
    "            particle_data_list = create_particle_data_list_task_2(trajectory, energy, self.box_length, self.cutoff)\n",
    "            self.data_list += particle_data_list\n",
    "\n",
    "    def __len__(self):\n",
    "        \"\"\"\n",
    "        Returns the length of the dataset, i.e., the number of time steps in all trajectories.\n",
    "        \"\"\"\n",
    "        return len(self.data_list)\n",
    "    \n",
    "    def __getitem__(self, idx):\n",
    "        \"\"\"\n",
    "        Returns the Data object at the given index.\n",
    "        \"\"\"\n",
    "        return self.data_list[idx]"
   ]
  },
  {
   "cell_type": "code",
   "execution_count": 100,
   "metadata": {},
   "outputs": [
    {
     "name": "stdout",
     "output_type": "stream",
     "text": [
      "Creating datasets...\n"
     ]
    },
    {
     "name": "stderr",
     "output_type": "stream",
     "text": [
      "Loading data: 100%|██████████| 720/720 [00:06<00:00, 114.53it/s]\n",
      "Loading data: 100%|██████████| 180/180 [00:02<00:00, 84.40it/s] \n"
     ]
    },
    {
     "name": "stdout",
     "output_type": "stream",
     "text": [
      "Train dataset: 28080 samples\n",
      "Validation dataset: 7020 samples\n"
     ]
    }
   ],
   "source": [
    "from sklearn.model_selection import train_test_split\n",
    "import glob\n",
    "import pickle\n",
    "import os\n",
    "\n",
    "# Define the paths and parameters\n",
    "file_paths = glob.glob('data/task1_2/train/*.npz')\n",
    "\n",
    "max_len = 40  # The maximum length of the trajectories is 40\n",
    "box_length = 20.0  # The length of the simulation box\n",
    "cutoff = 10.0  # The cutoff distance for the edges\n",
    "task = 'task_2'  # The task to perform\n",
    "\n",
    "train_len = len(file_paths) * 0.8\n",
    "train_file_paths = file_paths[:int(train_len)]\n",
    "val_file_paths = file_paths[int(train_len):]\n",
    "\n",
    "# Check if the datasets are already saved\n",
    "if os.path.exists('train_dataset_task_2.pkl') and os.path.exists('val_dataset_task_2.pkl'):\n",
    "    # Load the datasets\n",
    "    print(\"Loading datasets...\")\n",
    "    with open('train_dataset_task_2.pkl', 'rb') as f:\n",
    "        train_dataset = pickle.load(f)\n",
    "    with open('val_dataset_task_2.pkl', 'rb') as f:\n",
    "        val_dataset = pickle.load(f)\n",
    "else:\n",
    "    # Create datasets\n",
    "    print(\"Creating datasets...\")\n",
    "    train_dataset = ParticleDynamicsDataset(train_file_paths, max_len, box_length, cutoff)\n",
    "    val_dataset = ParticleDynamicsDataset(val_file_paths, max_len, box_length, cutoff)\n",
    "\n",
    "    # Save the datasets\n",
    "    with open('train_dataset_task_2.pkl', 'wb') as f:\n",
    "        pickle.dump(train_dataset, f)\n",
    "    with open('val_dataset_task_2.pkl', 'wb') as f:\n",
    "        pickle.dump(val_dataset, f) \n",
    "\n",
    "print(f'Train dataset: {len(train_dataset)} samples')\n",
    "print(f'Validation dataset: {len(val_dataset)} samples')"
   ]
  },
  {
   "cell_type": "code",
   "execution_count": 160,
   "metadata": {},
   "outputs": [
    {
     "name": "stderr",
     "output_type": "stream",
     "text": [
      "Loading data: 100%|██████████| 1/1 [00:00<00:00, 24.48it/s]"
     ]
    },
    {
     "name": "stdout",
     "output_type": "stream",
     "text": [
      "short train set: 39 samples\n"
     ]
    },
    {
     "name": "stderr",
     "output_type": "stream",
     "text": [
      "\n"
     ]
    }
   ],
   "source": [
    "# Short dataset for overfitting\n",
    "short_file_paths = [\"data/task1_2/train/trajectory_0.npz\"]\n",
    "train_dataset = ParticleDynamicsDataset(short_file_paths, max_len, box_length, cutoff)\n",
    "print(f\"short train set: {len(train_dataset)} samples\")"
   ]
  },
  {
   "cell_type": "code",
   "execution_count": 161,
   "metadata": {},
   "outputs": [
    {
     "data": {
      "text/plain": [
       "(tensor([[ 9.5955,  7.5320],\n",
       "         [ 7.8428, 12.6541],\n",
       "         [ 9.7121, 14.4958],\n",
       "         [ 5.2804,  7.5360]]),\n",
       " tensor([[ 0.5161, -0.0693],\n",
       "         [ 0.5343, -0.1219],\n",
       "         [ 0.2880,  0.3338],\n",
       "         [ 0.2544,  0.4209]]),\n",
       " tensor([[ 9.8588,  7.4987,  0.5365, -0.0638],\n",
       "         [ 8.1218, 12.5985,  0.5805, -0.1000],\n",
       "         [ 9.8448, 14.6538,  0.2439,  0.2979],\n",
       "         [ 5.4018,  7.7485,  0.2318,  0.4293]]))"
      ]
     },
     "execution_count": 161,
     "metadata": {},
     "output_type": "execute_result"
    }
   ],
   "source": [
    "# Example of coordinates and velocities\n",
    "train_dataset[0].coord, train_dataset[0].vel, train_dataset[0].y"
   ]
  },
  {
   "cell_type": "code",
   "execution_count": 162,
   "metadata": {},
   "outputs": [
    {
     "name": "stdout",
     "output_type": "stream",
     "text": [
      "tensor([[ 0.5161, -0.0693],\n",
      "        [ 0.5343, -0.1219],\n",
      "        [ 0.2880,  0.3338],\n",
      "        [ 0.2544,  0.4209]])\n"
     ]
    }
   ],
   "source": [
    "from torch_geometric.loader import DataLoader\n",
    "\n",
    "batch_size = 1  # The batch size\n",
    "\n",
    "# Create data loaders\n",
    "train_loader = DataLoader(train_dataset, batch_size=batch_size, shuffle=False)\n",
    "val_loader = DataLoader(val_dataset, batch_size=batch_size, shuffle=False)\n",
    "\n",
    "for data in train_loader:\n",
    "    print(data.vel)\n",
    "    break\n",
    "    "
   ]
  },
  {
   "cell_type": "markdown",
   "metadata": {},
   "source": [
    "## Model Definition"
   ]
  },
  {
   "cell_type": "code",
   "execution_count": 163,
   "metadata": {},
   "outputs": [
    {
     "name": "stdout",
     "output_type": "stream",
     "text": [
      "Num features: 1\n",
      "Num targets: 4\n"
     ]
    }
   ],
   "source": [
    "num_features = int(train_dataset[0].x.shape[1])\n",
    "print(f\"Num features: {num_features}\")\n",
    "num_targets = int(train_dataset[0].y.shape[1])\n",
    "print(f\"Num targets: {num_targets}\")"
   ]
  },
  {
   "cell_type": "code",
   "execution_count": 164,
   "metadata": {},
   "outputs": [],
   "source": [
    "def apply_periodic_boundary(coord, box_length):\n",
    "    return coord % box_length"
   ]
  },
  {
   "cell_type": "code",
   "execution_count": 165,
   "metadata": {},
   "outputs": [],
   "source": [
    "import torch\n",
    "import torch.nn as nn\n",
    "\n",
    "class Swish(nn.Module):\n",
    "    def forward(self, x):\n",
    "        return x * torch.sigmoid(x)\n",
    "\n",
    "class Node_to_emb(nn.Module):\n",
    "    def __init__(self, node_feat_dim=4, node_emb_dim=64):\n",
    "        super(Node_to_emb, self).__init__()\n",
    "        self.emb = nn.Linear(node_feat_dim, node_emb_dim)\n",
    "\n",
    "    def forward(self, nodes):\n",
    "        assert nodes.size(-1) == self.emb.in_features, 'wrong input dimension of node features!'\n",
    "        return self.emb(nodes)\n",
    "\n",
    "class EGCLayer(nn.Module):\n",
    "    def __init__(self, hidden_dim, activation): # TODO remove step and box_length\n",
    "        super(EGCLayer, self).__init__()\n",
    "        # Adjusting the input dimension to match the concatenated input features\n",
    "        # self.edge_network = nn.Sequential(\n",
    "        #     nn.Linear(2 * hidden_dim + 1 + 2, hidden_dim),  # +1 for norm and +2 for edge attributes\n",
    "        #     activation,\n",
    "        #     nn.Linear(hidden_dim, hidden_dim),\n",
    "        #     activation\n",
    "        # )\n",
    "        # self.node_network = nn.Sequential(\n",
    "        #     nn.Linear(2 * hidden_dim, hidden_dim),\n",
    "        #     activation,\n",
    "        #     nn.Linear(hidden_dim, hidden_dim)\n",
    "        # )\n",
    "        # self.phi_x = nn.Sequential(\n",
    "        #     nn.Linear(hidden_dim, 1),\n",
    "        #     nn.Sigmoid()  # Scalar output for the weighted sum\n",
    "        # )\n",
    "        # self.phi_v = nn.Sequential(\n",
    "        #     nn.Linear(hidden_dim, 1),\n",
    "        #     nn.Sigmoid()  # Scalar output for the velocity update\n",
    "        # )\n",
    "\n",
    "        self.edge_network = nn.Sequential(\n",
    "            nn.Linear(2 * hidden_dim + 1 + 2, hidden_dim),  # +1 for norm and +2 for edge attributes (charge product, distance)\n",
    "            nn.BatchNorm1d(hidden_dim),\n",
    "            activation(),\n",
    "            nn.Linear(hidden_dim, hidden_dim),\n",
    "            nn.BatchNorm1d(hidden_dim),\n",
    "            activation()\n",
    "        )\n",
    "        self.node_network = nn.Sequential(\n",
    "            nn.Linear(2 * hidden_dim, hidden_dim),\n",
    "            nn.BatchNorm1d(hidden_dim),\n",
    "            activation(),\n",
    "            nn.Linear(hidden_dim, hidden_dim)\n",
    "        )\n",
    "        \n",
    "        self.phi_x = nn.Sequential(\n",
    "            nn.Linear(hidden_dim, hidden_dim),\n",
    "            activation(),\n",
    "            nn.Linear(hidden_dim, 1)\n",
    "        )\n",
    "        self.phi_v = nn.Sequential(\n",
    "            nn.Linear(hidden_dim, hidden_dim),\n",
    "            activation(),\n",
    "            nn.Linear(hidden_dim, 1)\n",
    "        )\n",
    "\n",
    "    def forward(self, node_tensor, edge_idx_tensor, edge_attr_tensor, coord_tensor, v_init_tensor):\n",
    "        row, col = edge_idx_tensor\n",
    "        # print(f\"row: {row.shape}, col: {col.shape}\\n\")\n",
    "        x_diff = coord_tensor[row] - coord_tensor[col]\n",
    "        dist_sq = (x_diff ** 2).sum(dim=-1, keepdim=True)  # Squared distance\n",
    "        # print(f\"dist_sq: {dist_sq.shape}\\n\")\n",
    "\n",
    "        edge_messages_input = torch.cat([\n",
    "            node_tensor[row], node_tensor[col], dist_sq, edge_attr_tensor\n",
    "        ], dim=-1)\n",
    "        # print(f\"edge_messages_input: {edge_messages_input.shape}\\n\")\n",
    "\n",
    "        edge_messages_output = self.edge_network(edge_messages_input)\n",
    "        # print(f\"edge_messages_output: {edge_messages_output.shape}\\n\")\n",
    "\n",
    "        # # Velocity update\n",
    "        # vel_update_weights = self.phi_x(edge_messages_output).view(-1, 1)\n",
    "        # print(f\"vel_update_weights: {vel_update_weights.shape}\\n\")\n",
    "        # vel_update = (x_diff * vel_update_weights).sum(dim=0)\n",
    "        # print(f\"vel_update: {vel_update.shape}\\n\")\n",
    "        # # vel_out = vel_tensor * self.phi_v(node_out) + vel_update / (coord_tensor.size(0) - 1) # TODO check if it's correct\n",
    "        # vel_out = v_init_tensor * self.phi_v(node_tensor) + vel_update / (coord_tensor.size(0) - 1)\n",
    "        # print(f\"vel_out: {vel_out.shape}\\n\")\n",
    "        \n",
    "        \n",
    "        # Velocity update\n",
    "        vel_update_weights = self.phi_x(edge_messages_output).view(-1)\n",
    "        # print(f\"vel_update_weights: {vel_update_weights.shape}\\n\")\n",
    "        vel_update = torch.zeros_like(coord_tensor)\n",
    "        vel_update.index_add_(0, row, x_diff * vel_update_weights.unsqueeze(-1))\n",
    "        # print(f\"vel_update: {vel_update.shape}\\n\")\n",
    "        vel_out = v_init_tensor * self.phi_v(node_tensor) + vel_update / (coord_tensor.size(0) - 1)\n",
    "        # print(f\"vel_out: {vel_out.shape}\\n\")\n",
    "\n",
    "        # Coordinate update, using current velocity\n",
    "        coord_out = coord_tensor + vel_out \n",
    "        \n",
    "        node_agg_messages = torch.zeros_like(node_tensor).to(node_tensor.device)\n",
    "        node_agg_messages = node_agg_messages.scatter_add_(\n",
    "            dim=0, index=edge_idx_tensor[1].unsqueeze(-1).expand(-1, node_tensor.size(1)), src=edge_messages_output\n",
    "        )\n",
    "        # print(f\"node_agg_messages: {node_agg_messages.shape}\\n\")\n",
    "        # print(f\"node_tensor: {node_tensor.shape}\\n\")\n",
    "        \n",
    "        node_out = self.node_network(torch.cat([node_tensor, node_agg_messages], dim=-1))\n",
    "        # print(f\"node_out: {node_out.shape}\\n\")\n",
    "        \n",
    "        return node_out, edge_idx_tensor, coord_out, vel_out\n",
    "\n",
    "# class EGNN(nn.Module):\n",
    "#     def __init__(self, node_feat_dim, hidden_dim, output_dim, activation=nn.ReLU(), num_layers=3):\n",
    "#         super(EGNN, self).__init__()\n",
    "#         self.node_to_emb = Node_to_emb(node_feat_dim, hidden_dim)\n",
    "#         self.mp_layers = nn.ModuleList([EGCLayer(hidden_dim, activation) for _ in range(num_layers)])\n",
    "#         self.to_pred = nn.Linear(hidden_dim, output_dim)\n",
    "\n",
    "#     def forward(self, x, edge_index, edge_attr, coord, vel, batch=None):\n",
    "#         x = self.node_to_emb(x)\n",
    "#         for layer in self.mp_layers:\n",
    "#             x, edge_index, coord, vel = layer(x, edge_index, edge_attr, coord, vel)\n",
    "#         out = self.to_pred(x)  # (num_nodes, output_dim)\n",
    "#         return out, coord, vel\n",
    "    \n",
    "\n",
    "class EGNN(nn.Module):\n",
    "    def __init__(self, node_feat_dim, output_dim, hidden_dim, activation, num_layers=3):\n",
    "        super(EGNN, self).__init__()\n",
    "        self.node_to_emb = Node_to_emb(node_feat_dim, hidden_dim)\n",
    "        self.mp_layers = nn.ModuleList([EGCLayer(hidden_dim, activation) for _ in range(num_layers)])\n",
    "        self.final_layer = nn.Linear(hidden_dim, output_dim)\n",
    "\n",
    "    def forward(self, x, edge_index, edge_attr, coord, vel_init, batch=None):\n",
    "        x = self.node_to_emb(x)\n",
    "        for layer in self.mp_layers:\n",
    "            x, edge_index, coord, vel = layer(x, edge_index, edge_attr, coord, vel_init)\n",
    "        out = self.final_layer(x)\n",
    "        return out\n",
    "\n",
    "\n"
   ]
  },
  {
   "cell_type": "code",
   "execution_count": 166,
   "metadata": {},
   "outputs": [],
   "source": [
    "# from torch_geometric.nn import summary\n",
    "\n",
    "# num_features = int(train_dataset[0].x.shape[1])\n",
    "# print(f\"Num features: {num_features}\")\n",
    "# hidden_dim = 64\n",
    "# num_layers = 3\n",
    "\n",
    "# model = EGNN(num_features, output_dim=2, hidden_dim=hidden_dim, num_layers=num_layers, activation=Swish)\n",
    "# model.to(device)\n",
    "\n",
    "# data = train_dataset[0]\n",
    "# out_vel = model(data.x, data.edge_index, data.edge_attr, data.coord, data.vel)\n",
    "# print(f\"Velocities: \\n{out_vel}\")\n",
    "\n",
    "# print(summary(model, data.x, data.edge_index, data.edge_attr, data.coord, data.vel))\n"
   ]
  },
  {
   "cell_type": "code",
   "execution_count": 176,
   "metadata": {},
   "outputs": [
    {
     "name": "stdout",
     "output_type": "stream",
     "text": [
      "Node features: 1, Output dim: 2\n",
      "+--------------------------------------+-------------------------------------------+----------------------------------+----------+\n",
      "| Layer                                | Input Shape                               | Output Shape                     | #Param   |\n",
      "|--------------------------------------+-------------------------------------------+----------------------------------+----------|\n",
      "| EGNN                                 | [4, 1], [2, 12], [12, 2], [4, 2], [4, 2]  | [4, 2]                           | 135,690  |\n",
      "| ├─(node_to_emb)Node_to_emb           | [4, 1]                                    | [4, 64]                          | 128      |\n",
      "| │    └─(emb)Linear                   | [4, 1]                                    | [4, 64]                          | 128      |\n",
      "| ├─(mp_layers)ModuleList              | --                                        | --                               | 135,432  |\n",
      "| │    └─(0)EGCLayer                   | [4, 64], [2, 12], [12, 2], [4, 2], [4, 2] | [4, 64], [2, 12], [4, 2], [4, 2] | 33,858   |\n",
      "| │    │    └─(edge_network)Sequential | [12, 131]                                 | [12, 64]                         | 12,864   |\n",
      "| │    │    └─(node_network)Sequential | [4, 128]                                  | [4, 64]                          | 12,544   |\n",
      "| │    │    └─(phi_x)Sequential        | [12, 64]                                  | [12, 1]                          | 4,225    |\n",
      "| │    │    └─(phi_v)Sequential        | [4, 64]                                   | [4, 1]                           | 4,225    |\n",
      "| │    └─(1)EGCLayer                   | [4, 64], [2, 12], [12, 2], [4, 2], [4, 2] | [4, 64], [2, 12], [4, 2], [4, 2] | 33,858   |\n",
      "| │    │    └─(edge_network)Sequential | [12, 131]                                 | [12, 64]                         | 12,864   |\n",
      "| │    │    └─(node_network)Sequential | [4, 128]                                  | [4, 64]                          | 12,544   |\n",
      "| │    │    └─(phi_x)Sequential        | [12, 64]                                  | [12, 1]                          | 4,225    |\n",
      "| │    │    └─(phi_v)Sequential        | [4, 64]                                   | [4, 1]                           | 4,225    |\n",
      "| │    └─(2)EGCLayer                   | [4, 64], [2, 12], [12, 2], [4, 2], [4, 2] | [4, 64], [2, 12], [4, 2], [4, 2] | 33,858   |\n",
      "| │    │    └─(edge_network)Sequential | [12, 131]                                 | [12, 64]                         | 12,864   |\n",
      "| │    │    └─(node_network)Sequential | [4, 128]                                  | [4, 64]                          | 12,544   |\n",
      "| │    │    └─(phi_x)Sequential        | [12, 64]                                  | [12, 1]                          | 4,225    |\n",
      "| │    │    └─(phi_v)Sequential        | [4, 64]                                   | [4, 1]                           | 4,225    |\n",
      "| │    └─(3)EGCLayer                   | [4, 64], [2, 12], [12, 2], [4, 2], [4, 2] | [4, 64], [2, 12], [4, 2], [4, 2] | 33,858   |\n",
      "| │    │    └─(edge_network)Sequential | [12, 131]                                 | [12, 64]                         | 12,864   |\n",
      "| │    │    └─(node_network)Sequential | [4, 128]                                  | [4, 64]                          | 12,544   |\n",
      "| │    │    └─(phi_x)Sequential        | [12, 64]                                  | [12, 1]                          | 4,225    |\n",
      "| │    │    └─(phi_v)Sequential        | [4, 64]                                   | [4, 1]                           | 4,225    |\n",
      "| ├─(final_layer)Linear                | [4, 64]                                   | [4, 2]                           | 130      |\n",
      "+--------------------------------------+-------------------------------------------+----------------------------------+----------+\n"
     ]
    }
   ],
   "source": [
    "# Model hyperparameters\n",
    "node_feat_dim = int(train_dataset[0].x.shape[1])\n",
    "output_dim = int(train_dataset[0].y.shape[1])//2\n",
    "print(f\"Node features: {node_feat_dim}, Output dim: {output_dim}\")\n",
    "hidden_dim = 64\n",
    "num_layers = 4\n",
    "activation = Swish\n",
    "\n",
    "# Initialize the model\n",
    "model = EGNN(node_feat_dim=node_feat_dim, \n",
    "             output_dim=output_dim, \n",
    "             hidden_dim=hidden_dim, \n",
    "             activation=activation, \n",
    "             num_layers=num_layers\n",
    "            ).to(device)\n",
    "\n",
    "# Optimization hyperparameters\n",
    "learning_rate = 0.001\n",
    "weight_decay = 0\n",
    "# Optimizer\n",
    "optimizer = torch.optim.Adam(model.parameters(), lr=learning_rate, weight_decay=weight_decay)\n",
    "\n",
    "# Loss function\n",
    "criterion = nn.MSELoss()\n",
    "\n",
    "# Training hyperparameters\n",
    "num_epochs = 100  # Specify the number of epochs\n",
    "\n",
    "\n",
    "dummy_data = train_dataset[0]\n",
    "print(summary(model, dummy_data.x, dummy_data.edge_index, dummy_data.edge_attr, dummy_data.coord, dummy_data.vel))"
   ]
  },
  {
   "cell_type": "markdown",
   "metadata": {},
   "source": [
    "## Training"
   ]
  },
  {
   "cell_type": "code",
   "execution_count": 177,
   "metadata": {},
   "outputs": [
    {
     "name": "stderr",
     "output_type": "stream",
     "text": [
      "                                                                       \r"
     ]
    },
    {
     "name": "stdout",
     "output_type": "stream",
     "text": [
      "Epoch 1/100, Train Loss: 0.1090412366992006, Val Loss: 0\n"
     ]
    },
    {
     "name": "stderr",
     "output_type": "stream",
     "text": [
      "                                                                       \r"
     ]
    },
    {
     "name": "stdout",
     "output_type": "stream",
     "text": [
      "Epoch 2/100, Train Loss: 0.09507354677248842, Val Loss: 0\n"
     ]
    },
    {
     "name": "stderr",
     "output_type": "stream",
     "text": [
      "                                                                      \r"
     ]
    },
    {
     "name": "stdout",
     "output_type": "stream",
     "text": [
      "Epoch 3/100, Train Loss: 0.11417500232943358, Val Loss: 0\n"
     ]
    },
    {
     "name": "stderr",
     "output_type": "stream",
     "text": [
      "                                                                       \r"
     ]
    },
    {
     "name": "stdout",
     "output_type": "stream",
     "text": [
      "Epoch 4/100, Train Loss: 0.11530085710378793, Val Loss: 0\n"
     ]
    },
    {
     "name": "stderr",
     "output_type": "stream",
     "text": [
      "                                                                      \r"
     ]
    },
    {
     "name": "stdout",
     "output_type": "stream",
     "text": [
      "Epoch 5/100, Train Loss: 0.09316997338707249, Val Loss: 0\n"
     ]
    },
    {
     "name": "stderr",
     "output_type": "stream",
     "text": [
      "                                                                       \r"
     ]
    },
    {
     "name": "stdout",
     "output_type": "stream",
     "text": [
      "Epoch 6/100, Train Loss: 0.094148791478708, Val Loss: 0\n"
     ]
    },
    {
     "name": "stderr",
     "output_type": "stream",
     "text": [
      "                                                                       \r"
     ]
    },
    {
     "name": "stdout",
     "output_type": "stream",
     "text": [
      "Epoch 7/100, Train Loss: 0.10519057469299206, Val Loss: 0\n"
     ]
    },
    {
     "name": "stderr",
     "output_type": "stream",
     "text": [
      "                                                                       \r"
     ]
    },
    {
     "name": "stdout",
     "output_type": "stream",
     "text": [
      "Epoch 8/100, Train Loss: 0.06567252161076818, Val Loss: 0\n"
     ]
    },
    {
     "name": "stderr",
     "output_type": "stream",
     "text": [
      "                                                                       \r"
     ]
    },
    {
     "name": "stdout",
     "output_type": "stream",
     "text": [
      "Epoch 9/100, Train Loss: 0.06213924097709167, Val Loss: 0\n"
     ]
    },
    {
     "name": "stderr",
     "output_type": "stream",
     "text": [
      "                                                                      \r"
     ]
    },
    {
     "name": "stdout",
     "output_type": "stream",
     "text": [
      "Epoch 10/100, Train Loss: 0.0709282248877944, Val Loss: 0\n"
     ]
    },
    {
     "name": "stderr",
     "output_type": "stream",
     "text": [
      "                                                                       \r"
     ]
    },
    {
     "name": "stdout",
     "output_type": "stream",
     "text": [
      "Epoch 11/100, Train Loss: 0.07056969288402261, Val Loss: 0\n"
     ]
    },
    {
     "name": "stderr",
     "output_type": "stream",
     "text": [
      "                                                                       \r"
     ]
    },
    {
     "name": "stdout",
     "output_type": "stream",
     "text": [
      "Epoch 12/100, Train Loss: 0.07043002892393045, Val Loss: 0\n"
     ]
    },
    {
     "name": "stderr",
     "output_type": "stream",
     "text": [
      "                                                                       \r"
     ]
    },
    {
     "name": "stdout",
     "output_type": "stream",
     "text": [
      "Epoch 13/100, Train Loss: 0.06471440987661481, Val Loss: 0\n"
     ]
    },
    {
     "name": "stderr",
     "output_type": "stream",
     "text": [
      "                                                                       \r"
     ]
    },
    {
     "name": "stdout",
     "output_type": "stream",
     "text": [
      "Epoch 14/100, Train Loss: 0.05326710392285186, Val Loss: 0\n"
     ]
    },
    {
     "name": "stderr",
     "output_type": "stream",
     "text": [
      "                                                                       \r"
     ]
    },
    {
     "name": "stdout",
     "output_type": "stream",
     "text": [
      "Epoch 15/100, Train Loss: 0.049350931900195204, Val Loss: 0\n"
     ]
    },
    {
     "name": "stderr",
     "output_type": "stream",
     "text": [
      "                                                                       \r"
     ]
    },
    {
     "name": "stdout",
     "output_type": "stream",
     "text": [
      "Epoch 16/100, Train Loss: 0.056605808007029385, Val Loss: 0\n"
     ]
    },
    {
     "name": "stderr",
     "output_type": "stream",
     "text": [
      "                                                                       \r"
     ]
    },
    {
     "name": "stdout",
     "output_type": "stream",
     "text": [
      "Epoch 17/100, Train Loss: 0.041848626862375594, Val Loss: 0\n"
     ]
    },
    {
     "name": "stderr",
     "output_type": "stream",
     "text": [
      "                                                                       \r"
     ]
    },
    {
     "name": "stdout",
     "output_type": "stream",
     "text": [
      "Epoch 18/100, Train Loss: 0.04957012420233626, Val Loss: 0\n"
     ]
    },
    {
     "name": "stderr",
     "output_type": "stream",
     "text": [
      "                                                                       \r"
     ]
    },
    {
     "name": "stdout",
     "output_type": "stream",
     "text": [
      "Epoch 19/100, Train Loss: 0.042700203822161525, Val Loss: 0\n"
     ]
    },
    {
     "name": "stderr",
     "output_type": "stream",
     "text": [
      "                                                                      \r"
     ]
    },
    {
     "name": "stdout",
     "output_type": "stream",
     "text": [
      "Epoch 20/100, Train Loss: 0.0490509567495722, Val Loss: 0\n"
     ]
    },
    {
     "name": "stderr",
     "output_type": "stream",
     "text": [
      "                                                                       \r"
     ]
    },
    {
     "name": "stdout",
     "output_type": "stream",
     "text": [
      "Epoch 21/100, Train Loss: 0.042607933205241956, Val Loss: 0\n"
     ]
    },
    {
     "name": "stderr",
     "output_type": "stream",
     "text": [
      "                                                                       \r"
     ]
    },
    {
     "name": "stdout",
     "output_type": "stream",
     "text": [
      "Epoch 22/100, Train Loss: 0.05521027229200953, Val Loss: 0\n"
     ]
    },
    {
     "name": "stderr",
     "output_type": "stream",
     "text": [
      "                                                                       \r"
     ]
    },
    {
     "name": "stdout",
     "output_type": "stream",
     "text": [
      "Epoch 23/100, Train Loss: 0.03815046476665884, Val Loss: 0\n"
     ]
    },
    {
     "name": "stderr",
     "output_type": "stream",
     "text": [
      "                                                                       \r"
     ]
    },
    {
     "name": "stdout",
     "output_type": "stream",
     "text": [
      "Epoch 24/100, Train Loss: 0.04813991274792128, Val Loss: 0\n"
     ]
    },
    {
     "name": "stderr",
     "output_type": "stream",
     "text": [
      "                                                                       \r"
     ]
    },
    {
     "name": "stdout",
     "output_type": "stream",
     "text": [
      "Epoch 25/100, Train Loss: 0.04380167102536712, Val Loss: 0\n"
     ]
    },
    {
     "name": "stderr",
     "output_type": "stream",
     "text": [
      "                                                                       \r"
     ]
    },
    {
     "name": "stdout",
     "output_type": "stream",
     "text": [
      "Epoch 26/100, Train Loss: 0.0596001022002803, Val Loss: 0\n"
     ]
    },
    {
     "name": "stderr",
     "output_type": "stream",
     "text": [
      "                                                                      \r"
     ]
    },
    {
     "name": "stdout",
     "output_type": "stream",
     "text": [
      "Epoch 27/100, Train Loss: 0.061476570554077625, Val Loss: 0\n"
     ]
    },
    {
     "name": "stderr",
     "output_type": "stream",
     "text": [
      "                                                                       \r"
     ]
    },
    {
     "name": "stdout",
     "output_type": "stream",
     "text": [
      "Epoch 28/100, Train Loss: 0.05076785296058425, Val Loss: 0\n"
     ]
    },
    {
     "name": "stderr",
     "output_type": "stream",
     "text": [
      "                                                                       \r"
     ]
    },
    {
     "name": "stdout",
     "output_type": "stream",
     "text": [
      "Epoch 29/100, Train Loss: 0.04347340616349799, Val Loss: 0\n"
     ]
    },
    {
     "name": "stderr",
     "output_type": "stream",
     "text": [
      "                                                                       \r"
     ]
    },
    {
     "name": "stdout",
     "output_type": "stream",
     "text": [
      "Epoch 30/100, Train Loss: 0.043596298433840275, Val Loss: 0\n"
     ]
    },
    {
     "name": "stderr",
     "output_type": "stream",
     "text": [
      "                                                                       \r"
     ]
    },
    {
     "name": "stdout",
     "output_type": "stream",
     "text": [
      "Epoch 31/100, Train Loss: 0.060974322916127935, Val Loss: 0\n"
     ]
    },
    {
     "name": "stderr",
     "output_type": "stream",
     "text": [
      "                                                                       \r"
     ]
    },
    {
     "name": "stdout",
     "output_type": "stream",
     "text": [
      "Epoch 32/100, Train Loss: 0.043107392952944606, Val Loss: 0\n"
     ]
    },
    {
     "name": "stderr",
     "output_type": "stream",
     "text": [
      "                                                                       \r"
     ]
    },
    {
     "name": "stdout",
     "output_type": "stream",
     "text": [
      "Epoch 33/100, Train Loss: 0.03380514797157584, Val Loss: 0\n"
     ]
    },
    {
     "name": "stderr",
     "output_type": "stream",
     "text": [
      "                                                                       \r"
     ]
    },
    {
     "name": "stdout",
     "output_type": "stream",
     "text": [
      "Epoch 34/100, Train Loss: 0.04140632082887281, Val Loss: 0\n"
     ]
    },
    {
     "name": "stderr",
     "output_type": "stream",
     "text": [
      "                                                                       \r"
     ]
    },
    {
     "name": "stdout",
     "output_type": "stream",
     "text": [
      "Epoch 35/100, Train Loss: 0.04498985124369844, Val Loss: 0\n"
     ]
    },
    {
     "name": "stderr",
     "output_type": "stream",
     "text": [
      "                                                                       \r"
     ]
    },
    {
     "name": "stdout",
     "output_type": "stream",
     "text": [
      "Epoch 36/100, Train Loss: 0.05896328350839516, Val Loss: 0\n"
     ]
    },
    {
     "name": "stderr",
     "output_type": "stream",
     "text": [
      "                                                                      \r"
     ]
    },
    {
     "name": "stdout",
     "output_type": "stream",
     "text": [
      "Epoch 37/100, Train Loss: 0.04974446152874197, Val Loss: 0\n"
     ]
    },
    {
     "name": "stderr",
     "output_type": "stream",
     "text": [
      "                                                                       \r"
     ]
    },
    {
     "name": "stdout",
     "output_type": "stream",
     "text": [
      "Epoch 38/100, Train Loss: 0.0446709366216778, Val Loss: 0\n"
     ]
    },
    {
     "name": "stderr",
     "output_type": "stream",
     "text": [
      "                                                                       \r"
     ]
    },
    {
     "name": "stdout",
     "output_type": "stream",
     "text": [
      "Epoch 39/100, Train Loss: 0.04551457689525799, Val Loss: 0\n"
     ]
    },
    {
     "name": "stderr",
     "output_type": "stream",
     "text": [
      "                                                                       \r"
     ]
    },
    {
     "name": "stdout",
     "output_type": "stream",
     "text": [
      "Epoch 40/100, Train Loss: 0.0375773982049372, Val Loss: 0\n"
     ]
    },
    {
     "name": "stderr",
     "output_type": "stream",
     "text": [
      "                                                                       \r"
     ]
    },
    {
     "name": "stdout",
     "output_type": "stream",
     "text": [
      "Epoch 41/100, Train Loss: 0.03987064521807509, Val Loss: 0\n"
     ]
    },
    {
     "name": "stderr",
     "output_type": "stream",
     "text": [
      "                                                                       \r"
     ]
    },
    {
     "name": "stdout",
     "output_type": "stream",
     "text": [
      "Epoch 42/100, Train Loss: 0.052080932431496106, Val Loss: 0\n"
     ]
    },
    {
     "name": "stderr",
     "output_type": "stream",
     "text": [
      "                                                                       \r"
     ]
    },
    {
     "name": "stdout",
     "output_type": "stream",
     "text": [
      "Epoch 43/100, Train Loss: 0.04064912892854176, Val Loss: 0\n"
     ]
    },
    {
     "name": "stderr",
     "output_type": "stream",
     "text": [
      "                                                                       \r"
     ]
    },
    {
     "name": "stdout",
     "output_type": "stream",
     "text": [
      "Epoch 44/100, Train Loss: 0.02766109427783447, Val Loss: 0\n"
     ]
    },
    {
     "name": "stderr",
     "output_type": "stream",
     "text": [
      "                                                                       \r"
     ]
    },
    {
     "name": "stdout",
     "output_type": "stream",
     "text": [
      "Epoch 45/100, Train Loss: 0.028878562826997578, Val Loss: 0\n"
     ]
    },
    {
     "name": "stderr",
     "output_type": "stream",
     "text": [
      "                                                                       \r"
     ]
    },
    {
     "name": "stdout",
     "output_type": "stream",
     "text": [
      "Epoch 46/100, Train Loss: 0.028058408478943583, Val Loss: 0\n"
     ]
    },
    {
     "name": "stderr",
     "output_type": "stream",
     "text": [
      "                                                                       \r"
     ]
    },
    {
     "name": "stdout",
     "output_type": "stream",
     "text": [
      "Epoch 47/100, Train Loss: 0.030829011179053057, Val Loss: 0\n"
     ]
    },
    {
     "name": "stderr",
     "output_type": "stream",
     "text": [
      "                                                                       \r"
     ]
    },
    {
     "name": "stdout",
     "output_type": "stream",
     "text": [
      "Epoch 48/100, Train Loss: 0.03241108598796508, Val Loss: 0\n"
     ]
    },
    {
     "name": "stderr",
     "output_type": "stream",
     "text": [
      "                                                                        \r"
     ]
    },
    {
     "name": "stdout",
     "output_type": "stream",
     "text": [
      "Epoch 49/100, Train Loss: 0.03070605238332437, Val Loss: 0\n"
     ]
    },
    {
     "name": "stderr",
     "output_type": "stream",
     "text": [
      "                                                                       \r"
     ]
    },
    {
     "name": "stdout",
     "output_type": "stream",
     "text": [
      "Epoch 50/100, Train Loss: 0.03824432586761526, Val Loss: 0\n"
     ]
    },
    {
     "name": "stderr",
     "output_type": "stream",
     "text": [
      "                                                                       \r"
     ]
    },
    {
     "name": "stdout",
     "output_type": "stream",
     "text": [
      "Epoch 51/100, Train Loss: 0.046583316629179396, Val Loss: 0\n"
     ]
    },
    {
     "name": "stderr",
     "output_type": "stream",
     "text": [
      "                                                                       \r"
     ]
    },
    {
     "name": "stdout",
     "output_type": "stream",
     "text": [
      "Epoch 52/100, Train Loss: 0.044278217085565515, Val Loss: 0\n"
     ]
    },
    {
     "name": "stderr",
     "output_type": "stream",
     "text": [
      "                                                                       \r"
     ]
    },
    {
     "name": "stdout",
     "output_type": "stream",
     "text": [
      "Epoch 53/100, Train Loss: 0.0292262120757443, Val Loss: 0\n"
     ]
    },
    {
     "name": "stderr",
     "output_type": "stream",
     "text": [
      "                                                                       \r"
     ]
    },
    {
     "name": "stdout",
     "output_type": "stream",
     "text": [
      "Epoch 54/100, Train Loss: 0.03255605968372084, Val Loss: 0\n"
     ]
    },
    {
     "name": "stderr",
     "output_type": "stream",
     "text": [
      "                                                                       \r"
     ]
    },
    {
     "name": "stdout",
     "output_type": "stream",
     "text": [
      "Epoch 55/100, Train Loss: 0.036730792361478776, Val Loss: 0\n"
     ]
    },
    {
     "name": "stderr",
     "output_type": "stream",
     "text": [
      "                                                                       \r"
     ]
    },
    {
     "name": "stdout",
     "output_type": "stream",
     "text": [
      "Epoch 56/100, Train Loss: 0.02748087535086924, Val Loss: 0\n"
     ]
    },
    {
     "name": "stderr",
     "output_type": "stream",
     "text": [
      "                                                                       \r"
     ]
    },
    {
     "name": "stdout",
     "output_type": "stream",
     "text": [
      "Epoch 57/100, Train Loss: 0.02472827380720096, Val Loss: 0\n"
     ]
    },
    {
     "name": "stderr",
     "output_type": "stream",
     "text": [
      "                                                                       \r"
     ]
    },
    {
     "name": "stdout",
     "output_type": "stream",
     "text": [
      "Epoch 58/100, Train Loss: 0.027701303998653132, Val Loss: 0\n"
     ]
    },
    {
     "name": "stderr",
     "output_type": "stream",
     "text": [
      "                                                                       \r"
     ]
    },
    {
     "name": "stdout",
     "output_type": "stream",
     "text": [
      "Epoch 59/100, Train Loss: 0.029609334559585802, Val Loss: 0\n"
     ]
    },
    {
     "name": "stderr",
     "output_type": "stream",
     "text": [
      "                                                                       \r"
     ]
    },
    {
     "name": "stdout",
     "output_type": "stream",
     "text": [
      "Epoch 60/100, Train Loss: 0.030147738969669893, Val Loss: 0\n"
     ]
    },
    {
     "name": "stderr",
     "output_type": "stream",
     "text": [
      "                                                                       \r"
     ]
    },
    {
     "name": "stdout",
     "output_type": "stream",
     "text": [
      "Epoch 61/100, Train Loss: 0.030270678024046507, Val Loss: 0\n"
     ]
    },
    {
     "name": "stderr",
     "output_type": "stream",
     "text": [
      "                                                                       \r"
     ]
    },
    {
     "name": "stdout",
     "output_type": "stream",
     "text": [
      "Epoch 62/100, Train Loss: 0.02684195620718245, Val Loss: 0\n"
     ]
    },
    {
     "name": "stderr",
     "output_type": "stream",
     "text": [
      "                                                                        \r"
     ]
    },
    {
     "name": "stdout",
     "output_type": "stream",
     "text": [
      "Epoch 63/100, Train Loss: 0.026184083077495392, Val Loss: 0\n"
     ]
    },
    {
     "name": "stderr",
     "output_type": "stream",
     "text": [
      "                                                                       \r"
     ]
    },
    {
     "name": "stdout",
     "output_type": "stream",
     "text": [
      "Epoch 64/100, Train Loss: 0.022063291886110958, Val Loss: 0\n"
     ]
    },
    {
     "name": "stderr",
     "output_type": "stream",
     "text": [
      "                                                                        \r"
     ]
    },
    {
     "name": "stdout",
     "output_type": "stream",
     "text": [
      "Epoch 65/100, Train Loss: 0.023884108377387747, Val Loss: 0\n"
     ]
    },
    {
     "name": "stderr",
     "output_type": "stream",
     "text": [
      "                                                                       \r"
     ]
    },
    {
     "name": "stdout",
     "output_type": "stream",
     "text": [
      "Epoch 66/100, Train Loss: 0.027917423255693834, Val Loss: 0\n"
     ]
    },
    {
     "name": "stderr",
     "output_type": "stream",
     "text": [
      "                                                                       \r"
     ]
    },
    {
     "name": "stdout",
     "output_type": "stream",
     "text": [
      "Epoch 67/100, Train Loss: 0.02861155528957263, Val Loss: 0\n"
     ]
    },
    {
     "name": "stderr",
     "output_type": "stream",
     "text": [
      "                                                                       \r"
     ]
    },
    {
     "name": "stdout",
     "output_type": "stream",
     "text": [
      "Epoch 68/100, Train Loss: 0.02887494545071744, Val Loss: 0\n"
     ]
    },
    {
     "name": "stderr",
     "output_type": "stream",
     "text": [
      "                                                                       \r"
     ]
    },
    {
     "name": "stdout",
     "output_type": "stream",
     "text": [
      "Epoch 69/100, Train Loss: 0.025127275831973515, Val Loss: 0\n"
     ]
    },
    {
     "name": "stderr",
     "output_type": "stream",
     "text": [
      "                                                                       \r"
     ]
    },
    {
     "name": "stdout",
     "output_type": "stream",
     "text": [
      "Epoch 70/100, Train Loss: 0.03894378749641757, Val Loss: 0\n"
     ]
    },
    {
     "name": "stderr",
     "output_type": "stream",
     "text": [
      "                                                                       \r"
     ]
    },
    {
     "name": "stdout",
     "output_type": "stream",
     "text": [
      "Epoch 71/100, Train Loss: 0.031706221556911864, Val Loss: 0\n"
     ]
    },
    {
     "name": "stderr",
     "output_type": "stream",
     "text": [
      "                                                                       \r"
     ]
    },
    {
     "name": "stdout",
     "output_type": "stream",
     "text": [
      "Epoch 72/100, Train Loss: 0.022713798293784164, Val Loss: 0\n"
     ]
    },
    {
     "name": "stderr",
     "output_type": "stream",
     "text": [
      "                                                                        \r"
     ]
    },
    {
     "name": "stdout",
     "output_type": "stream",
     "text": [
      "Epoch 73/100, Train Loss: 0.02204680373781743, Val Loss: 0\n"
     ]
    },
    {
     "name": "stderr",
     "output_type": "stream",
     "text": [
      "                                                                        \r"
     ]
    },
    {
     "name": "stdout",
     "output_type": "stream",
     "text": [
      "Epoch 74/100, Train Loss: 0.02298413360049614, Val Loss: 0\n"
     ]
    },
    {
     "name": "stderr",
     "output_type": "stream",
     "text": [
      "                                                                       \r"
     ]
    },
    {
     "name": "stdout",
     "output_type": "stream",
     "text": [
      "Epoch 75/100, Train Loss: 0.02704346458015677, Val Loss: 0\n"
     ]
    },
    {
     "name": "stderr",
     "output_type": "stream",
     "text": [
      "                                                                       \r"
     ]
    },
    {
     "name": "stdout",
     "output_type": "stream",
     "text": [
      "Epoch 76/100, Train Loss: 0.025049572413524564, Val Loss: 0\n"
     ]
    },
    {
     "name": "stderr",
     "output_type": "stream",
     "text": [
      "                                                                       \r"
     ]
    },
    {
     "name": "stdout",
     "output_type": "stream",
     "text": [
      "Epoch 77/100, Train Loss: 0.048844626248002246, Val Loss: 0\n"
     ]
    },
    {
     "name": "stderr",
     "output_type": "stream",
     "text": [
      "                                                                       \r"
     ]
    },
    {
     "name": "stdout",
     "output_type": "stream",
     "text": [
      "Epoch 78/100, Train Loss: 0.039274700063591204, Val Loss: 0\n"
     ]
    },
    {
     "name": "stderr",
     "output_type": "stream",
     "text": [
      "                                                                       \r"
     ]
    },
    {
     "name": "stdout",
     "output_type": "stream",
     "text": [
      "Epoch 79/100, Train Loss: 0.036958485638770536, Val Loss: 0\n"
     ]
    },
    {
     "name": "stderr",
     "output_type": "stream",
     "text": [
      "                                                                       \r"
     ]
    },
    {
     "name": "stdout",
     "output_type": "stream",
     "text": [
      "Epoch 80/100, Train Loss: 0.03546902340036841, Val Loss: 0\n"
     ]
    },
    {
     "name": "stderr",
     "output_type": "stream",
     "text": [
      "                                                                       \r"
     ]
    },
    {
     "name": "stdout",
     "output_type": "stream",
     "text": [
      "Epoch 81/100, Train Loss: 0.04201977917303642, Val Loss: 0\n"
     ]
    },
    {
     "name": "stderr",
     "output_type": "stream",
     "text": [
      "                                                                       \r"
     ]
    },
    {
     "name": "stdout",
     "output_type": "stream",
     "text": [
      "Epoch 82/100, Train Loss: 0.029832111755147193, Val Loss: 0\n"
     ]
    },
    {
     "name": "stderr",
     "output_type": "stream",
     "text": [
      "                                                                       \r"
     ]
    },
    {
     "name": "stdout",
     "output_type": "stream",
     "text": [
      "Epoch 83/100, Train Loss: 0.0346574869308358, Val Loss: 0\n"
     ]
    },
    {
     "name": "stderr",
     "output_type": "stream",
     "text": [
      "                                                                       \r"
     ]
    },
    {
     "name": "stdout",
     "output_type": "stream",
     "text": [
      "Epoch 84/100, Train Loss: 0.030411404408275697, Val Loss: 0\n"
     ]
    },
    {
     "name": "stderr",
     "output_type": "stream",
     "text": [
      "                                                                       \r"
     ]
    },
    {
     "name": "stdout",
     "output_type": "stream",
     "text": [
      "Epoch 85/100, Train Loss: 0.05092409344461675, Val Loss: 0\n"
     ]
    },
    {
     "name": "stderr",
     "output_type": "stream",
     "text": [
      "                                                                       \r"
     ]
    },
    {
     "name": "stdout",
     "output_type": "stream",
     "text": [
      "Epoch 86/100, Train Loss: 0.03536580392541603, Val Loss: 0\n"
     ]
    },
    {
     "name": "stderr",
     "output_type": "stream",
     "text": [
      "                                                                       \r"
     ]
    },
    {
     "name": "stdout",
     "output_type": "stream",
     "text": [
      "Epoch 87/100, Train Loss: 0.03933524164275672, Val Loss: 0\n"
     ]
    },
    {
     "name": "stderr",
     "output_type": "stream",
     "text": [
      "                                                                       \r"
     ]
    },
    {
     "name": "stdout",
     "output_type": "stream",
     "text": [
      "Epoch 88/100, Train Loss: 0.03167262471591433, Val Loss: 0\n"
     ]
    },
    {
     "name": "stderr",
     "output_type": "stream",
     "text": [
      "                                                                       \r"
     ]
    },
    {
     "name": "stdout",
     "output_type": "stream",
     "text": [
      "Epoch 89/100, Train Loss: 0.027714570306647472, Val Loss: 0\n"
     ]
    },
    {
     "name": "stderr",
     "output_type": "stream",
     "text": [
      "                                                                       \r"
     ]
    },
    {
     "name": "stdout",
     "output_type": "stream",
     "text": [
      "Epoch 90/100, Train Loss: 0.021868496018354423, Val Loss: 0\n"
     ]
    },
    {
     "name": "stderr",
     "output_type": "stream",
     "text": [
      "                                                                       \r"
     ]
    },
    {
     "name": "stdout",
     "output_type": "stream",
     "text": [
      "Epoch 91/100, Train Loss: 0.03066585194438887, Val Loss: 0\n"
     ]
    },
    {
     "name": "stderr",
     "output_type": "stream",
     "text": [
      "                                                                       \r"
     ]
    },
    {
     "name": "stdout",
     "output_type": "stream",
     "text": [
      "Epoch 92/100, Train Loss: 0.024493176018437132, Val Loss: 0\n"
     ]
    },
    {
     "name": "stderr",
     "output_type": "stream",
     "text": [
      "                                                                       \r"
     ]
    },
    {
     "name": "stdout",
     "output_type": "stream",
     "text": [
      "Epoch 93/100, Train Loss: 0.02197592408479884, Val Loss: 0\n"
     ]
    },
    {
     "name": "stderr",
     "output_type": "stream",
     "text": [
      "                                                                       \r"
     ]
    },
    {
     "name": "stdout",
     "output_type": "stream",
     "text": [
      "Epoch 94/100, Train Loss: 0.025592953292055964, Val Loss: 0\n"
     ]
    },
    {
     "name": "stderr",
     "output_type": "stream",
     "text": [
      "                                                                       \r"
     ]
    },
    {
     "name": "stdout",
     "output_type": "stream",
     "text": [
      "Epoch 95/100, Train Loss: 0.029203831042067554, Val Loss: 0\n"
     ]
    },
    {
     "name": "stderr",
     "output_type": "stream",
     "text": [
      "                                                                       \r"
     ]
    },
    {
     "name": "stdout",
     "output_type": "stream",
     "text": [
      "Epoch 96/100, Train Loss: 0.0262316536421004, Val Loss: 0\n"
     ]
    },
    {
     "name": "stderr",
     "output_type": "stream",
     "text": [
      "                                                                       \r"
     ]
    },
    {
     "name": "stdout",
     "output_type": "stream",
     "text": [
      "Epoch 97/100, Train Loss: 0.026561939650071927, Val Loss: 0\n"
     ]
    },
    {
     "name": "stderr",
     "output_type": "stream",
     "text": [
      "                                                                       \r"
     ]
    },
    {
     "name": "stdout",
     "output_type": "stream",
     "text": [
      "Epoch 98/100, Train Loss: 0.017596063690666013, Val Loss: 0\n"
     ]
    },
    {
     "name": "stderr",
     "output_type": "stream",
     "text": [
      "                                                                        \r"
     ]
    },
    {
     "name": "stdout",
     "output_type": "stream",
     "text": [
      "Epoch 99/100, Train Loss: 0.0338454818762003, Val Loss: 0\n"
     ]
    },
    {
     "name": "stderr",
     "output_type": "stream",
     "text": [
      "                                                                        "
     ]
    },
    {
     "name": "stdout",
     "output_type": "stream",
     "text": [
      "Epoch 100/100, Train Loss: 0.0337609899803423, Val Loss: 0\n",
      "Best Val Loss: 0\n"
     ]
    },
    {
     "name": "stderr",
     "output_type": "stream",
     "text": [
      "\r"
     ]
    }
   ],
   "source": [
    "import torch\n",
    "from tqdm import tqdm\n",
    "from torch_geometric.nn import summary\n",
    "import torch.nn as nn\n",
    "\n",
    "def train(model, train_loader, optimizer, criterion, device):\n",
    "    \"\"\"\n",
    "    Trains the given model for one epoch using the given data loader, optimizer, loss function, and device.\n",
    "\n",
    "    Parameters:\n",
    "    model (torch.nn.Module): The model to train.\n",
    "    train_loader (torch.utils.data.DataLoader): The data loader that provides the training data.\n",
    "    optimizer (torch.optim.Optimizer): The optimizer to use for training.\n",
    "    criterion (torch.nn.Module): The loss function to use for training.\n",
    "    device (torch.device): The device to use for training.\n",
    "\n",
    "    Returns:\n",
    "    float: The average loss over all batches.\n",
    "    \"\"\"\n",
    "    model.train()\n",
    "    total_loss = 0\n",
    "\n",
    "    progress_bar = tqdm(train_loader, desc='Training', dynamic_ncols=True, leave=False)\n",
    "    step = 0\n",
    "\n",
    "    for data in progress_bar:\n",
    "        data = data.to(device)\n",
    "        optimizer.zero_grad()\n",
    "\n",
    "        # Forward pass\n",
    "        vel_out = model(data.x, data.edge_index, data.edge_attr, data.coord, data.vel)\n",
    "\n",
    "        # Compute loss\n",
    "        true_vel_out = data.y[:, 2:]\n",
    "        loss = criterion(vel_out, true_vel_out)\n",
    "\n",
    "        # Backward pass and optimization\n",
    "        loss.backward()\n",
    "\n",
    "        # Check for gradient anomalies\n",
    "        for name, param in model.named_parameters():\n",
    "            if param.requires_grad and param.grad is not None:\n",
    "                # print(f\"Layer: {name} | Grad Norm: {param.grad.norm()}\")\n",
    "                if torch.isnan(param.grad).any():\n",
    "                    print(f\"NaN gradient in layer: {name}\")\n",
    "\n",
    "        optimizer.step()\n",
    "\n",
    "        current_loss = loss.item()\n",
    "        total_loss += current_loss\n",
    "\n",
    "        if step % (len(train_loader) // 10) == 0:\n",
    "            progress_bar.set_postfix({'loss': current_loss})\n",
    "        step += 1\n",
    "\n",
    "    progress_bar.close()\n",
    "    return total_loss / len(train_loader)\n",
    "\n",
    "\n",
    "def validate(model, val_loader, criterion, device):\n",
    "    \"\"\"\n",
    "    Validates the given model using the given data loader, loss function, and device.\n",
    "\n",
    "    Parameters:\n",
    "    model (torch.nn.Module): The model to validate.\n",
    "    val_loader (torch.utils.data.DataLoader): The data loader that provides the validation data.\n",
    "    criterion (torch.nn.Module): The loss function to use for validation.\n",
    "    device (torch.device): The device to use for validation.\n",
    "\n",
    "    Returns:\n",
    "    float: The average loss over all batches.\n",
    "    \"\"\"\n",
    "    model.eval()\n",
    "    total_loss = 0\n",
    "\n",
    "    progress_bar = tqdm(val_loader, desc='Validation', dynamic_ncols=True)\n",
    "    step = 0\n",
    "\n",
    "    with torch.no_grad():\n",
    "        for data in progress_bar:\n",
    "\n",
    "            data = data.to(device)\n",
    "\n",
    "            # Forward pass\n",
    "            vel_out = model(data.x, data.edge_index, data.edge_attr, data.coord, data.vel)\n",
    "\n",
    "            # Compute loss\n",
    "            true_vel_out = data.y[:, 2:]\n",
    "            loss = criterion(vel_out, true_vel_out)\n",
    "\n",
    "            current_loss = loss.item()\n",
    "            total_loss += current_loss\n",
    "\n",
    "            if step % (len(val_loader) // 10) == 0:\n",
    "                progress_bar.set_postfix({'loss': current_loss})\n",
    "            step += 1\n",
    "\n",
    "    progress_bar.close()\n",
    "    return total_loss / len(val_loader)\n",
    "\n",
    "# Example usage\n",
    "if TRAIN_2:\n",
    "\n",
    "    train_losses = []\n",
    "    val_losses = []\n",
    "    best_val_loss = float('inf')\n",
    "\n",
    "    for epoch in range(num_epochs):\n",
    "        train_loss = train(model, train_loader, optimizer, criterion, device)\n",
    "        train_losses.append(train_loss)\n",
    "        # val_loss = validate(model, val_loader, criterion, device)\n",
    "        val_loss = 0\n",
    "        val_losses.append(val_loss)\n",
    "\n",
    "        print(f'Epoch {epoch+1}/{num_epochs}, Train Loss: {train_loss}, Val Loss: {val_loss}')\n",
    "\n",
    "        # Save the model if it's the best one so far\n",
    "        if val_loss <= best_val_loss:\n",
    "            best_val_loss = val_loss\n",
    "            torch.save(model.state_dict(), 'best_model_task_2_equivariant.pth')\n",
    "\n",
    "    print(f'Best Val Loss: {best_val_loss}')\n",
    "\n",
    "    # # Check gradients\n",
    "    # for name, param in model.named_parameters():\n",
    "    #     if param.grad is not None:\n",
    "    #         print(f'{name} gradient: {param.grad.norm()}')\n"
   ]
  },
  {
   "cell_type": "code",
   "execution_count": null,
   "metadata": {},
   "outputs": [
    {
     "data": {
      "text/plain": [
       "<All keys matched successfully>"
      ]
     },
     "execution_count": 149,
     "metadata": {},
     "output_type": "execute_result"
    }
   ],
   "source": [
    "# # TODO load best model\n",
    "# model = EGNN(node_feat_dim=node_feat_dim, \n",
    "#              output_dim=output_dim, \n",
    "#              hidden_dim=hidden_dim, \n",
    "#              activation=activation, \n",
    "#              num_layers=num_layers\n",
    "#             ).to(device)\n",
    "# model.load_state_dict(torch.load('best_model_task_2_equivariant.pth'))"
   ]
  },
  {
   "cell_type": "code",
   "execution_count": 178,
   "metadata": {},
   "outputs": [
    {
     "data": {
      "image/png": "[encoded data removed]",
      "text/plain": [
       "<Figure size 640x480 with 1 Axes>"
      ]
     },
     "metadata": {},
     "output_type": "display_data"
    }
   ],
   "source": [
    "if TRAIN_2:\n",
    "    plot_losses(train_losses, val_losses)"
   ]
  },
  {
   "cell_type": "markdown",
   "metadata": {},
   "source": [
    "## Testing"
   ]
  },
  {
   "cell_type": "code",
   "execution_count": 179,
   "metadata": {},
   "outputs": [
    {
     "data": {
      "text/plain": [
       "tensor([[ 0.5996, -0.0040],\n",
       "        [ 0.6771, -0.3204],\n",
       "        [ 0.2523,  0.3896],\n",
       "        [ 0.0850,  0.5076]], grad_fn=<AddmmBackward0>)"
      ]
     },
     "execution_count": 179,
     "metadata": {},
     "output_type": "execute_result"
    }
   ],
   "source": [
    "data = train_dataset[0]\n",
    "out = model(data.x, data.edge_index, data.edge_attr, data.coord, data.vel)\n",
    "out"
   ]
  },
  {
   "cell_type": "code",
   "execution_count": 180,
   "metadata": {},
   "outputs": [
    {
     "data": {
      "text/plain": [
       "tensor([[ 0.5365, -0.0638],\n",
       "        [ 0.5805, -0.1000],\n",
       "        [ 0.2439,  0.2979],\n",
       "        [ 0.2318,  0.4293]])"
      ]
     },
     "execution_count": 180,
     "metadata": {},
     "output_type": "execute_result"
    }
   ],
   "source": [
    "target = data.y[:, 2:]\n",
    "target"
   ]
  },
  {
   "cell_type": "code",
   "execution_count": 181,
   "metadata": {},
   "outputs": [
    {
     "name": "stdout",
     "output_type": "stream",
     "text": [
      "Predicted velocities: tensor([[ 0.5996, -0.0040],\n",
      "        [ 0.6771, -0.3204],\n",
      "        [ 0.2523,  0.3896],\n",
      "        [ 0.0850,  0.5076]], grad_fn=<AddmmBackward0>)\n",
      "True velocities: [[ 0.51611651 -0.06928145]\n",
      " [ 0.5342578  -0.12193773]\n",
      " [ 0.28795482  0.33377239]\n",
      " [ 0.25443658  0.42087594]]\n",
      "target:\n",
      " tensor([[ 9.8588,  7.4987,  0.5365, -0.0638],\n",
      "        [ 8.1218, 12.5985,  0.5805, -0.1000],\n",
      "        [ 9.8448, 14.6538,  0.2439,  0.2979],\n",
      "        [ 5.4018,  7.7485,  0.2318,  0.4293]])\n"
     ]
    }
   ],
   "source": [
    "test_trajectory, energy = load_trajectory(f'data/task1_2/train/trajectory_0.npz', task) # TODO remove\n",
    "\n",
    "for i, particles in enumerate(test_trajectory):\n",
    "    graph = create_graph_from_particles_task_2(particles, test_trajectory[i+1])\n",
    "    pred = model(graph.x, graph.edge_index, graph.edge_attr, graph.coord, graph.vel)\n",
    "    print(f'Predicted velocities: {pred}')\n",
    "    print(f'True velocities: {particles[:, 2:4]}')\n",
    "    print(f'target:\\n {graph.y}')\n",
    "    break"
   ]
  },
  {
   "cell_type": "code",
   "execution_count": 182,
   "metadata": {},
   "outputs": [],
   "source": [
    "import torch\n",
    "import numpy as np\n",
    "\n",
    "def predict_trajectory(model, particles, time_steps=40, time_step_size=0.5, box_length=20.0, cutoff_value=10.0):\n",
    "    \"\"\"\n",
    "    Predicts the trajectory of particles using the given model.\n",
    "\n",
    "    Args:\n",
    "        model (nn.Module): The graph neural network model.\n",
    "        particles (np.ndarray): A numpy array with shape (num_particles, [pos_x, pos_y, vel_x, vel_y, charge]).\n",
    "        time_steps (int): The number of time steps to predict.\n",
    "        time_step_size (float): The size of each time step.\n",
    "        box_length (float): The length of the simulation box (assumed to be a square).\n",
    "        cutoff_value (float): The cutoff distance for interactions.\n",
    "\n",
    "    Returns:\n",
    "        np.ndarray: An array with shape (time_steps, num_particles, [pos_x, pos_y, vel_x, vel_y, charge])\n",
    "                    representing the states of the particles at each time step.\n",
    "    \"\"\"\n",
    "    trajectory = [particles.copy()]  # Initial state of particles\n",
    "    \n",
    "    for i in range(time_steps - 1):\n",
    "        current_particles = trajectory[-1]\n",
    "\n",
    "        test_trajectory, energy = load_trajectory(f'data/task1_2/train/trajectory_0.npz', task) # TODO remove\n",
    "        \n",
    "        # Assuming create_graph_from_particles_task_2 needs a numpy array\n",
    "        graph = create_graph_from_particles_task_2(current_particles, box_length=box_length, cutoff_value=cutoff_value)\n",
    "\n",
    "        # Convert numpy array to torch tensor\n",
    "        # node_features = torch.tensor(graph.x, dtype=torch.float32)\n",
    "        # edge_index = torch.tensor(graph.edge_index) \n",
    "        # edge_attr = torch.tensor(graph.edge_attr, dtype=torch.float32)\n",
    "\n",
    "        node_features = graph.x.clone().detach().to(device)\n",
    "        edge_index = graph.edge_index.clone().detach().to(device)\n",
    "        edge_attr = graph.edge_attr.clone().detach().to(device)\n",
    "        coord = graph.coord.clone().detach().to(device)\n",
    "        vel = graph.vel.clone().detach().to(device)\n",
    "\n",
    "\n",
    "        # Predict the next velocities of the particles (norm, sin, cos)\n",
    "        with torch.no_grad():\n",
    "            predicted_vel = model(node_features, edge_index, edge_attr, coord, vel)\n",
    "            print(f\"predicted_vel: {predicted_vel}\")\n",
    "            print(f\"true_vel: {test_trajectory[i+1][:, 2:4]}\")\n",
    "            \n",
    "            # print(f\"Type of predicted_norm: {type(predicted_norm)}\")\n",
    "            # print(f\"Type of predicted_sin: {type(predicted_sin)}\")\n",
    "            # print(f\"Type of predicted_cos: {type(predicted_cos)}\")\n",
    "            # print(f\"predicted_coord: {predicted_coord.shape}\")\n",
    "            # print(f\"predicted_vel: {predicted_vel.shape}\")\n",
    "            # print(f\"predicted_vel_norm: {np.sqrt(predicted_vel[:, 0]**2 + predicted_vel[:, 1]**2)}\")\n",
    "        \n",
    "        # Update particle positions using the predicted velocities\n",
    "        predicted_coord = coord + predicted_vel * time_step_size\n",
    "        predicted_coord = apply_periodic_boundary(predicted_coord, box_length)\n",
    "\n",
    "        # Update particle positions and velocities\n",
    "        charge = current_particles[:, 4][:, np.newaxis]\n",
    "        updated_particles = np.concatenate([predicted_coord.cpu().numpy(), predicted_vel.cpu().numpy(), charge], axis=1)\n",
    "        # print(f\"Type of updated_particles: {type(updated_particles)}\")\n",
    "        trajectory.append(updated_particles)\n",
    "\n",
    "    trajectory_np = np.stack(trajectory)\n",
    "    return trajectory_np"
   ]
  },
  {
   "cell_type": "code",
   "execution_count": 183,
   "metadata": {},
   "outputs": [
    {
     "name": "stdout",
     "output_type": "stream",
     "text": [
      "Train trajectory 0\n",
      "predicted_vel: tensor([[ 0.5996, -0.0040],\n",
      "        [ 0.6771, -0.3204],\n",
      "        [ 0.2523,  0.3896],\n",
      "        [ 0.0850,  0.5076]])\n",
      "true_vel: [[ 0.53647451 -0.06382443]\n",
      " [ 0.58054579 -0.09997886]\n",
      " [ 0.24390343  0.29793727]\n",
      " [ 0.23184199  0.42929516]]\n",
      "predicted_vel: tensor([[ 0.5904,  0.0059],\n",
      "        [ 0.7072, -0.3316],\n",
      "        [ 0.2313,  0.3756],\n",
      "        [ 0.0834,  0.5255]])\n",
      "true_vel: [[ 0.55510289 -0.05893923]\n",
      " [ 0.61908985 -0.076003  ]\n",
      " [ 0.20636183  0.25915418]\n",
      " [ 0.21221116  0.4392172 ]]\n",
      "predicted_vel: tensor([[ 0.5903,  0.0053],\n",
      "        [ 0.7187, -0.3242],\n",
      "        [ 0.2238,  0.3642],\n",
      "        [ 0.0794,  0.5296]])\n",
      "true_vel: [[ 0.57191848 -0.0544227 ]\n",
      " [ 0.6503136  -0.04936341]\n",
      " [ 0.17483044  0.21719141]\n",
      " [ 0.1957032   0.45002386]]\n",
      "predicted_vel: tensor([[ 0.5967, -0.0023],\n",
      "        [ 0.7228, -0.3148],\n",
      "        [ 0.2209,  0.3562],\n",
      "        [ 0.0719,  0.5356]])\n",
      "true_vel: [[ 0.58696519 -0.05010111]\n",
      " [ 0.67432963 -0.01942546]\n",
      " [ 0.14921381  0.17187191]\n",
      " [ 0.18225709  0.46108381]]\n",
      "predicted_vel: tensor([[ 0.6060, -0.0119],\n",
      "        [ 0.7240, -0.3006],\n",
      "        [ 0.2183,  0.3455],\n",
      "        [ 0.0641,  0.5411]])\n",
      "true_vel: [[ 0.60037665 -0.04585401]\n",
      " [ 0.69106765  0.01442057]\n",
      " [ 0.12970364  0.12305687]\n",
      " [ 0.17161778  0.47180572]]\n",
      "predicted_vel: tensor([[ 0.6187, -0.0229],\n",
      "        [ 0.7238, -0.2805],\n",
      "        [ 0.2136,  0.3299],\n",
      "        [ 0.0564,  0.5465]])\n",
      "true_vel: [[ 0.61233977 -0.04162375]\n",
      " [ 0.70032378  0.0527589 ]\n",
      " [ 0.11672359  0.07060905]\n",
      " [ 0.16337858  0.48168495]]\n",
      "predicted_vel: tensor([[ 0.6406, -0.0371],\n",
      "        [ 0.7247, -0.2520],\n",
      "        [ 0.2022,  0.3031],\n",
      "        [ 0.0448,  0.5567]])\n",
      "true_vel: [[ 0.62306457 -0.03741485]\n",
      " [ 0.70173551  0.09617558]\n",
      " [ 0.11093114  0.01433167]\n",
      " [ 0.1570345   0.49033675]]\n",
      "predicted_vel: tensor([[ 0.6942, -0.0558],\n",
      "        [ 0.7376, -0.2003],\n",
      "        [ 0.1684,  0.2261],\n",
      "        [ 0.0105,  0.5945]])\n",
      "true_vel: [[ 0.63276207 -0.03328738]\n",
      " [ 0.69467464  0.14532879]\n",
      " [ 0.11329155 -0.04612222]\n",
      " [ 0.15203746  0.49750997]]\n",
      "predicted_vel: tensor([[ 0.7772, -0.0042],\n",
      "        [ 0.7435, -0.0880],\n",
      "        [ 0.1213, -0.0018],\n",
      "        [-0.0353,  0.6494]])\n",
      "true_vel: [[ 0.64162976 -0.02934734]\n",
      " [ 0.67802885  0.20107584]\n",
      " [ 0.12526493 -0.11138106]\n",
      " [ 0.14784218  0.50308171]]\n",
      "predicted_vel: tensor([[ 0.8138,  0.1101],\n",
      "        [ 0.6944, -0.0074],\n",
      "        [ 0.1392, -0.2111],\n",
      "        [-0.0393,  0.6607]])\n",
      "true_vel: [[ 0.6498437  -0.02573659]\n",
      " [ 0.64978338  0.26467794]\n",
      " [ 0.14920386 -0.18255285]\n",
      " [ 0.14393479  0.50704065]]\n",
      "predicted_vel: tensor([[ 0.8320,  0.1639],\n",
      "        [ 0.6542,  0.0223],\n",
      "        [ 0.1512, -0.2988],\n",
      "        [-0.0281,  0.6626]])\n",
      "true_vel: [[ 0.65755555 -0.02262448]\n",
      " [ 0.60615011  0.33813062]\n",
      " [ 0.18921681 -0.26154867]\n",
      " [ 0.13984325  0.50947169]]\n",
      "predicted_vel: tensor([[ 0.8318,  0.1767],\n",
      "        [ 0.6557,  0.0534],\n",
      "        [ 0.1448, -0.3499],\n",
      "        [-0.0225,  0.6681]])\n",
      "true_vel: [[ 0.66489369 -0.02020382]\n",
      " [ 0.53947286  0.42471776]\n",
      " [ 0.25326247 -0.35164228]\n",
      " [ 0.1351367   0.51055748]]\n",
      "predicted_vel: tensor([[ 0.8155,  0.1742],\n",
      "        [ 0.6928,  0.1018],\n",
      "        [ 0.1171, -0.3994],\n",
      "        [-0.0162,  0.6697]])\n",
      "true_vel: [[ 0.67196648 -0.0186956 ]\n",
      " [ 0.43210285  0.52984508]\n",
      " [ 0.3592638  -0.45833588]\n",
      " [ 0.12943259  0.51061554]]\n",
      "predicted_vel: tensor([[ 0.7973,  0.1641],\n",
      "        [ 0.7711,  0.1856],\n",
      "        [ 0.0435, -0.4733],\n",
      "        [-0.0042,  0.6690]])\n",
      "true_vel: [[ 0.67886417 -0.01837367]\n",
      " [ 0.23240311  0.65997258]\n",
      " [ 0.55903835 -0.58837192]\n",
      " [ 0.12246009  0.51020216]]\n",
      "predicted_vel: tensor([[ 0.7872,  0.1198],\n",
      "        [ 0.8828,  0.4320],\n",
      "        [-0.0729, -0.6795],\n",
      "        [ 0.0080,  0.6736]])\n",
      "true_vel: [[ 0.68563425 -0.01964355]\n",
      " [-0.30079409  0.75274363]\n",
      " [ 1.09356992 -0.68002776]\n",
      " [ 0.11435565  0.51035683]]\n",
      "predicted_vel: tensor([[ 0.6727, -0.0296],\n",
      "        [ 0.2869,  0.6034],\n",
      "        [ 0.4967, -0.5328],\n",
      "        [ 0.1540,  0.5202]])\n",
      "true_vel: [[ 0.69181571 -0.02292385]\n",
      " [-0.42102849 -1.0260097 ]\n",
      " [ 1.21455441  1.09934581]\n",
      " [ 0.10742409  0.51301689]]\n",
      "predicted_vel: tensor([[ 0.7104,  0.0093],\n",
      "        [-0.0303,  0.3496],\n",
      "        [ 0.7895, -0.3434],\n",
      "        [ 0.1430,  0.5502]])\n",
      "true_vel: [[ 0.69601531 -0.02566002]\n",
      " [ 0.4707524  -0.72400422]\n",
      " [ 0.32067011  0.79621262]\n",
      " [ 0.1053279   0.51688077]]\n",
      "predicted_vel: tensor([[ 0.6234,  0.0034],\n",
      "        [ 0.3608, -0.2484],\n",
      "        [ 0.4943,  0.2485],\n",
      "        [ 0.1367,  0.5420]])\n",
      "true_vel: [[ 0.69881512 -0.02674495]\n",
      " [ 0.60063062 -0.47925512]\n",
      " [ 0.18799807  0.55020037]\n",
      " [ 0.10532192  0.51922885]]\n",
      "predicted_vel: tensor([[ 0.5297,  0.1663],\n",
      "        [ 0.7665, -0.6434],\n",
      "        [-0.0519,  0.6738],\n",
      "        [ 0.3671,  0.3631]])\n",
      "true_vel: [[ 0.70067167 -0.02658136]\n",
      " [ 0.62973603 -0.33096004]\n",
      " [ 0.15669322  0.40106642]\n",
      " [ 0.10566481  0.51990412]]\n",
      "predicted_vel: tensor([[ 0.2858,  0.2778],\n",
      "        [ 1.1601, -0.2155],\n",
      "        [-0.2408,  0.2128],\n",
      "        [ 0.4052,  0.2754]])\n",
      "true_vel: [[ 0.70181967 -0.02548055]\n",
      " [ 0.6303805  -0.22645718]\n",
      " [ 0.15498945  0.29615051]\n",
      " [ 0.10557611  0.51921637]]\n",
      "predicted_vel: tensor([[ 0.1995,  0.4446],\n",
      "        [ 0.6901,  0.0796],\n",
      "        [ 0.1643, -0.1154],\n",
      "        [ 0.5607,  0.1433]])\n",
      "true_vel: [[ 0.70242195 -0.02367995]\n",
      " [ 0.61988929 -0.14531314]\n",
      " [ 0.16574806  0.21488642]\n",
      " [ 0.10470642  0.51753581]]\n",
      "predicted_vel: tensor([[ 0.2317,  0.2834],\n",
      "        [ 0.2583,  0.7675],\n",
      "        [ 0.5888, -0.6149],\n",
      "        [ 0.5523,  0.1283]])\n",
      "true_vel: [[ 0.70260767 -0.02137195]\n",
      " [ 0.6040905  -0.07790967]\n",
      " [ 0.183137    0.14751152]\n",
      " [ 0.10293055  0.51519925]]\n",
      "predicted_vel: tensor([[ 0.0199,  0.5160],\n",
      "        [ 0.0815,  0.0989],\n",
      "        [ 0.9337, -0.1510],\n",
      "        [ 0.5984,  0.0936]])\n",
      "true_vel: [[ 0.70249774 -0.01873141]\n",
      " [ 0.58521946 -0.0189383 ]\n",
      " [ 0.20481538  0.08859411]\n",
      " [ 0.10225582  0.51250474]]\n",
      "predicted_vel: tensor([[ 0.2339,  0.3587],\n",
      "        [ 0.3893, -0.3934],\n",
      "        [ 0.4614,  0.4118],\n",
      "        [ 0.5293,  0.1709]])\n",
      "true_vel: [[ 0.70234007 -0.0160755 ]\n",
      " [ 0.56406891  0.03495471]\n",
      " [ 0.22982923  0.03468484]\n",
      " [ 0.10486734  0.5098651 ]]\n",
      "predicted_vel: tensor([[ 0.1389,  0.2637],\n",
      "        [ 0.4020, -0.3409],\n",
      "        [ 0.4610,  0.5546],\n",
      "        [ 0.6224,  0.1055]])\n",
      "true_vel: [[ 0.70224175 -0.01357738]\n",
      " [ 0.54070616  0.08619105]\n",
      " [ 0.25791891 -0.01670793]\n",
      " [ 0.10653182  0.50752341]]\n",
      "predicted_vel: tensor([[ 0.0941,  0.3443],\n",
      "        [ 0.3563, -0.2940],\n",
      "        [ 0.4610,  0.4482],\n",
      "        [ 0.7104,  0.0768]])\n",
      "true_vel: [[ 0.70224999 -0.01133793]\n",
      " [ 0.51471281  0.13679705]\n",
      " [ 0.28929011 -0.06766194]\n",
      " [ 0.1073905   0.50563197]]\n",
      "predicted_vel: tensor([[ 0.1939, -0.0474],\n",
      "        [ 0.5928, -0.2032],\n",
      "        [ 0.0563,  0.6100],\n",
      "        [ 0.7713,  0.1939]])\n",
      "true_vel: [[ 0.70240852 -0.00944691]\n",
      " [ 0.48518364  0.18877715]\n",
      " [ 0.32461739 -0.12021592]\n",
      " [ 0.10760556  0.50431483]]\n",
      "predicted_vel: tensor([[ 0.4782,  0.0636],\n",
      "        [ 0.4775, -0.3760],\n",
      "        [ 0.0800,  0.5092],\n",
      "        [ 0.5877,  0.3793]])\n",
      "true_vel: [[ 0.70275909 -0.00798567]\n",
      " [ 0.45051016  0.24450653]\n",
      " [ 0.36526042 -0.17676006]\n",
      " [ 0.10735901  0.50366835]]\n",
      "predicted_vel: tensor([[ 0.5618,  0.0562],\n",
      "        [ 0.5640, -0.2388],\n",
      "        [-0.0150,  0.6919],\n",
      "        [ 0.4989,  0.0338]])\n",
      "true_vel: [[ 0.70334346 -0.00703044]\n",
      " [ 0.40777589  0.30736216]\n",
      " [ 0.41386737 -0.24066209]\n",
      " [ 0.10685215  0.50375953]]\n",
      "predicted_vel: tensor([[ 0.4664,  0.2864],\n",
      "        [ 0.5786, -0.2310],\n",
      "        [ 0.2039,  0.3963],\n",
      "        [ 0.3637,  0.1182]])\n",
      "true_vel: [[ 0.70420638 -0.00665726]\n",
      " [ 0.35109243  0.38312196]\n",
      " [ 0.47603573 -0.31765904]\n",
      " [ 0.10630588  0.50462348]]\n",
      "predicted_vel: tensor([[ 0.4254,  0.5062],\n",
      "        [ 0.5218, -0.4462],\n",
      "        [ 0.0633,  0.4840],\n",
      "        [ 0.6021,  0.0324]])\n",
      "true_vel: [[ 0.70540128 -0.00695114]\n",
      " [ 0.26597387  0.48406631]\n",
      " [ 0.56592797 -0.41994742]\n",
      " [ 0.10596515  0.50626139]]\n",
      "predicted_vel: tensor([[ 0.3550,  0.3646],\n",
      "        [ 0.5491, -0.3332],\n",
      "        [ 0.0200,  0.5595],\n",
      "        [ 0.6873, -0.0229]])\n",
      "true_vel: [[ 0.70399952 -0.00802951]\n",
      " [ 0.0951741   0.64672678]\n",
      " [ 0.73929488 -0.58390786]\n",
      " [ 0.10612198  0.50863974]]\n",
      "predicted_vel: tensor([[ 0.1656,  0.1462],\n",
      "        [ 0.6714, -0.1944],\n",
      "        [ 0.0088,  0.5968],\n",
      "        [ 0.7586,  0.0076]])\n",
      "true_vel: [[ 0.70094565 -0.0101489 ]\n",
      " [-1.01122428  1.08264422]\n",
      " [ 1.84670874 -1.02074795]\n",
      " [ 0.10726083  0.51168178]]\n",
      "predicted_vel: tensor([[ 0.1072, -0.0883],\n",
      "        [ 0.7076, -0.0684],\n",
      "        [-0.0156,  0.6364],\n",
      "        [ 0.8043,  0.0730]])\n",
      "true_vel: [[ 0.69804605 -0.01319097]\n",
      " [ 0.70164604 -0.50459301]\n",
      " [ 0.13345049  0.56670019]\n",
      " [ 0.10971402  0.51451267]]\n",
      "predicted_vel: tensor([[ 0.1228,  0.0316],\n",
      "        [ 0.6422, -0.1934],\n",
      "        [ 0.0661,  0.5407],\n",
      "        [ 0.7688,  0.1740]])\n",
      "true_vel: [[ 0.69467576 -0.01573302]\n",
      " [ 0.66506886 -0.03509894]\n",
      " [ 0.16966724  0.09717729]\n",
      " [ 0.11140719  0.51708356]]\n",
      "predicted_vel: tensor([[ 0.1014, -0.1081],\n",
      "        [ 0.6805, -0.1103],\n",
      "        [ 0.0624,  0.5800],\n",
      "        [ 0.7572,  0.1931]])\n",
      "true_vel: [[ 0.69138105 -0.01808751]\n",
      " [ 0.55000815  0.32296961]\n",
      " [ 0.28469943 -0.26131121]\n",
      " [ 0.11256805  0.51985801]]\n",
      "predicted_vel: tensor([[ 0.1073, -0.7512],\n",
      "        [ 1.2424,  0.8862],\n",
      "        [ 0.5853, -0.0352],\n",
      "        [-0.3081,  0.4630]])\n",
      "true_vel: [[ 0.68853009 -0.02058601]\n",
      " [ 0.21459676  0.8646136 ]\n",
      " [ 0.62034767 -0.80358397]\n",
      " [ 0.11362126  0.52298527]]\n",
      "predicted_vel: tensor([[-0.2009, -0.9732],\n",
      "        [ 1.3812,  1.0047],\n",
      "        [ 0.3922, -0.1432],\n",
      "        [ 0.0354,  0.6674]])\n",
      "true_vel: [[ 0.68641071 -0.02387749]\n",
      " [-0.05566776 -0.80601316]\n",
      " [ 0.89050618  0.86709051]\n",
      " [ 0.11545591  0.52622906]]\n",
      "predicted_vel: tensor([[-3.9817e-01, -9.6306e-01],\n",
      "        [ 1.0729e+00,  1.4552e+00],\n",
      "        [ 5.5182e-01, -6.8720e-04],\n",
      "        [ 3.9241e-01,  6.3514e-02]])\n",
      "true_vel: [[ 0.68390305 -0.02084569]\n",
      " [ 0.26916623 -0.45770859]\n",
      " [ 0.56471353  0.51976199]\n",
      " [ 0.11768025  0.52897625]]\n"
     ]
    },
    {
     "data": {
      "image/png": "[encoded data removed]",
      "text/plain": [
       "<Figure size 400x400 with 1 Axes>"
      ]
     },
     "metadata": {},
     "output_type": "display_data"
    },
    {
     "data": {
      "image/png": "[encoded data removed]",
      "text/plain": [
       "<Figure size 400x400 with 1 Axes>"
      ]
     },
     "metadata": {},
     "output_type": "display_data"
    }
   ],
   "source": [
    "test_trajectory, energy = load_trajectory(f'data/task1_2/train/trajectory_0.npz', task)\n",
    "test_particles = test_trajectory[0]\n",
    "print(f\"Train trajectory 0\")\n",
    "predicted_trajectory = predict_trajectory(model, test_particles)\n",
    "plot_trajectory(predicted_trajectory)\n",
    "plot_trajectory(test_trajectory)"
   ]
  },
  {
   "cell_type": "code",
   "execution_count": null,
   "metadata": {},
   "outputs": [
    {
     "name": "stdout",
     "output_type": "stream",
     "text": [
      "Particle list: 39\n"
     ]
    },
    {
     "data": {
      "image/png": "[encoded data removed]",
      "text/plain": [
       "<Figure size 400x400 with 1 Axes>"
      ]
     },
     "metadata": {},
     "output_type": "display_data"
    }
   ],
   "source": [
    "# Test that the dataset is correct\n",
    "def plot_dataset_trajectory(trajectory, energy):\n",
    "\n",
    "    particle_list = create_particle_data_list_task_2(trajectory, energies=energy)\n",
    "    print(f\"Particle list: {len(particle_list)}\")\n",
    "\n",
    "    trajectory = [trajectory[0]]\n",
    "    charge = torch.tensor(trajectory[0][:, 4][:, np.newaxis], dtype=torch.float32).to(device)\n",
    "\n",
    "    for i in range(39):\n",
    "\n",
    "        graph = particle_list[i]\n",
    "        # print(f\"Graph: {graph}\")\n",
    "\n",
    "        node_features = graph.x.clone().detach().to(device)\n",
    "        edge_index = graph.edge_index.clone().detach().to(device)\n",
    "        edge_attr = graph.edge_attr.clone().detach().to(device)\n",
    "        coord = graph.coord.clone().detach().to(device)\n",
    "        vel = graph.vel.clone().detach().to(device)\n",
    "\n",
    "        next_vel = graph.y.clone().detach().to(device)\n",
    "        next_vel = next_vel[:, 2:]\n",
    "        \n",
    "        predicted_coord = coord + next_vel * 0.5\n",
    "        predicted_coord = apply_periodic_boundary(predicted_coord, 20.0)\n",
    "\n",
    "\n",
    "        updated_particles = torch.cat([predicted_coord, next_vel, charge], dim=1)\n",
    "        trajectory.append(updated_particles)\n",
    "\n",
    "    trajectory_np = np.stack(trajectory)\n",
    "    plot_trajectory(trajectory_np)\n",
    "\n",
    "\n",
    "plot_dataset_trajectory(test_trajectory, energy)\n"
   ]
  },
  {
   "cell_type": "code",
   "execution_count": null,
   "metadata": {},
   "outputs": [
    {
     "name": "stdout",
     "output_type": "stream",
     "text": [
      "predicted_vel: tensor([[ 0.1937,  0.1711],\n",
      "        [-0.2893, -0.2446],\n",
      "        [ 0.0271, -0.0475],\n",
      "        [ 0.0625,  0.0600]])\n",
      "true_vel: [[ 0.53647451 -0.06382443]\n",
      " [ 0.58054579 -0.09997886]\n",
      " [ 0.24390343  0.29793727]\n",
      " [ 0.23184199  0.42929516]]\n",
      "predicted_vel: tensor([[ 0.1397,  0.1060],\n",
      "        [-0.3356, -0.1357],\n",
      "        [ 0.0365,  0.0137],\n",
      "        [ 0.1528, -0.0446]])\n",
      "true_vel: [[ 0.55510289 -0.05893923]\n",
      " [ 0.61908985 -0.076003  ]\n",
      " [ 0.20636183  0.25915418]\n",
      " [ 0.21221116  0.4392172 ]]\n",
      "predicted_vel: tensor([[ 0.2381,  0.0897],\n",
      "        [-0.2205,  0.0588],\n",
      "        [ 0.0209, -0.0450],\n",
      "        [-0.0453, -0.1605]])\n",
      "true_vel: [[ 0.57191848 -0.0544227 ]\n",
      " [ 0.6503136  -0.04936341]\n",
      " [ 0.17483044  0.21719141]\n",
      " [ 0.1957032   0.45002386]]\n",
      "predicted_vel: tensor([[ 0.1510,  0.2046],\n",
      "        [-0.1536, -0.1077],\n",
      "        [-0.0971, -0.1381],\n",
      "        [ 0.0918, -0.0220]])\n",
      "true_vel: [[ 0.58696519 -0.05010111]\n",
      " [ 0.67432963 -0.01942546]\n",
      " [ 0.14921381  0.17187191]\n",
      " [ 0.18225709  0.46108381]]\n",
      "predicted_vel: tensor([[ 0.2413,  0.1971],\n",
      "        [-0.0112, -0.1532],\n",
      "        [-0.1531, -0.0248],\n",
      "        [-0.0881, -0.0738]])\n",
      "true_vel: [[ 0.60037665 -0.04585401]\n",
      " [ 0.69106765  0.01442057]\n",
      " [ 0.12970364  0.12305687]\n",
      " [ 0.17161778  0.47180572]]\n",
      "predicted_vel: tensor([[ 0.1395,  0.3127],\n",
      "        [ 0.0515, -0.2917],\n",
      "        [-0.1320, -0.0233],\n",
      "        [-0.0682, -0.0556]])\n",
      "true_vel: [[ 0.61233977 -0.04162375]\n",
      " [ 0.70032378  0.0527589 ]\n",
      " [ 0.11672359  0.07060905]\n",
      " [ 0.16337858  0.48168495]]\n",
      "predicted_vel: tensor([[ 0.2135,  0.2853],\n",
      "        [-0.1347, -0.2394],\n",
      "        [-0.2058, -0.1067],\n",
      "        [ 0.1220,  0.0013]])\n",
      "true_vel: [[ 0.62306457 -0.03741485]\n",
      " [ 0.70173551  0.09617558]\n",
      " [ 0.11093114  0.01433167]\n",
      " [ 0.1570345   0.49033675]]\n",
      "predicted_vel: tensor([[ 0.2540,  0.2188],\n",
      "        [-0.0403, -0.1170],\n",
      "        [-0.1585, -0.0506],\n",
      "        [-0.0634, -0.1067]])\n",
      "true_vel: [[ 0.63276207 -0.03328738]\n",
      " [ 0.69467464  0.14532879]\n",
      " [ 0.11329155 -0.04612222]\n",
      " [ 0.15203746  0.49750997]]\n",
      "predicted_vel: tensor([[ 0.1947,  0.2679],\n",
      "        [ 0.0335, -0.3170],\n",
      "        [-0.1530,  0.0108],\n",
      "        [-0.0728, -0.0175]])\n",
      "true_vel: [[ 0.64162976 -0.02934734]\n",
      " [ 0.67802885  0.20107584]\n",
      " [ 0.12526493 -0.11138106]\n",
      " [ 0.14784218  0.50308171]]\n",
      "predicted_vel: tensor([[ 0.2208,  0.2522],\n",
      "        [-0.0855, -0.2636],\n",
      "        [-0.1923, -0.1481],\n",
      "        [ 0.0580,  0.0944]])\n",
      "true_vel: [[ 0.6498437  -0.02573659]\n",
      " [ 0.64978338  0.26467794]\n",
      " [ 0.14920386 -0.18255285]\n",
      " [ 0.14393479  0.50704065]]\n",
      "predicted_vel: tensor([[ 0.2422,  0.3194],\n",
      "        [-0.0107, -0.2889],\n",
      "        [-0.0914,  0.0033],\n",
      "        [-0.1563, -0.0911]])\n",
      "true_vel: [[ 0.65755555 -0.02262448]\n",
      " [ 0.60615011  0.33813062]\n",
      " [ 0.18921681 -0.26154867]\n",
      " [ 0.13984325  0.50947169]]\n",
      "predicted_vel: tensor([[ 0.1021,  0.2726],\n",
      "        [-0.0134, -0.3701],\n",
      "        [-0.1683, -0.0225],\n",
      "        [ 0.0709,  0.0594]])\n",
      "true_vel: [[ 0.66489369 -0.02020382]\n",
      " [ 0.53947286  0.42471776]\n",
      " [ 0.25326247 -0.35164228]\n",
      " [ 0.1351367   0.51055748]]\n",
      "predicted_vel: tensor([[ 0.2276,  0.1480],\n",
      "        [-0.1889, -0.2244],\n",
      "        [-0.0302,  0.0104],\n",
      "        [-0.0136, -0.0007]])\n",
      "true_vel: [[ 0.67196648 -0.0186956 ]\n",
      " [ 0.43210285  0.52984508]\n",
      " [ 0.3592638  -0.45833588]\n",
      " [ 0.12943259  0.51061554]]\n",
      "predicted_vel: tensor([[ 0.2973,  0.2159],\n",
      "        [-0.1670, -0.2129],\n",
      "        [-0.0656, -0.0312],\n",
      "        [-0.0708, -0.0331]])\n",
      "true_vel: [[ 0.67886417 -0.01837367]\n",
      " [ 0.23240311  0.65997258]\n",
      " [ 0.55903835 -0.58837192]\n",
      " [ 0.12246009  0.51020216]]\n",
      "predicted_vel: tensor([[ 0.2084,  0.2207],\n",
      "        [-0.0619, -0.2407],\n",
      "        [-0.1097,  0.0042],\n",
      "        [-0.0410, -0.0432]])\n",
      "true_vel: [[ 0.68563425 -0.01964355]\n",
      " [-0.30079409  0.75274363]\n",
      " [ 1.09356992 -0.68002776]\n",
      " [ 0.11435565  0.51035683]]\n",
      "predicted_vel: tensor([[ 0.1849,  0.1729],\n",
      "        [-0.1301, -0.2344],\n",
      "        [ 0.0438,  0.0544],\n",
      "        [-0.1048, -0.0602]])\n",
      "true_vel: [[ 0.69181571 -0.02292385]\n",
      " [-0.42102849 -1.0260097 ]\n",
      " [ 1.21455441  1.09934581]\n",
      " [ 0.10742409  0.51301689]]\n",
      "predicted_vel: tensor([[ 0.0865,  0.2020],\n",
      "        [-0.0939, -0.2439],\n",
      "        [ 0.0284,  0.0968],\n",
      "        [-0.0254, -0.1180]])\n",
      "true_vel: [[ 0.69601531 -0.02566002]\n",
      " [ 0.4707524  -0.72400422]\n",
      " [ 0.32067011  0.79621262]\n",
      " [ 0.1053279   0.51688077]]\n",
      "predicted_vel: tensor([[ 0.1226,  0.1820],\n",
      "        [-0.1042, -0.2096],\n",
      "        [ 0.0140,  0.0145],\n",
      "        [-0.0311, -0.0530]])\n",
      "true_vel: [[ 0.69881512 -0.02674495]\n",
      " [ 0.60063062 -0.47925512]\n",
      " [ 0.18799807  0.55020037]\n",
      " [ 0.10532192  0.51922885]]\n",
      "predicted_vel: tensor([[ 0.1507,  0.1244],\n",
      "        [-0.2161, -0.2011],\n",
      "        [ 0.1412, -0.0192],\n",
      "        [-0.0771,  0.0247]])\n",
      "true_vel: [[ 0.70067167 -0.02658136]\n",
      " [ 0.62973603 -0.33096004]\n",
      " [ 0.15669322  0.40106642]\n",
      " [ 0.10566481  0.51990412]]\n",
      "predicted_vel: tensor([[ 0.1341,  0.0108],\n",
      "        [-0.3833, -0.1087],\n",
      "        [ 0.2134,  0.0330],\n",
      "        [ 0.0370, -0.0006]])\n",
      "true_vel: [[ 0.70181967 -0.02548055]\n",
      " [ 0.6303805  -0.22645718]\n",
      " [ 0.15498945  0.29615051]\n",
      " [ 0.10557611  0.51921637]]\n",
      "predicted_vel: tensor([[ 0.1285, -0.0436],\n",
      "        [-0.4058, -0.0554],\n",
      "        [ 0.3537, -0.0024],\n",
      "        [-0.0785,  0.0367]])\n",
      "true_vel: [[ 0.70242195 -0.02367995]\n",
      " [ 0.61988929 -0.14531314]\n",
      " [ 0.16574806  0.21488642]\n",
      " [ 0.10470642  0.51753581]]\n",
      "predicted_vel: tensor([[ 0.0071, -0.0679],\n",
      "        [ 0.0020,  0.1266],\n",
      "        [ 0.1648,  0.0094],\n",
      "        [-0.1752, -0.1236]])\n",
      "true_vel: [[ 0.70260767 -0.02137195]\n",
      " [ 0.6040905  -0.07790967]\n",
      " [ 0.183137    0.14751152]\n",
      " [ 0.10293055  0.51519925]]\n",
      "predicted_vel: tensor([[-0.1597, -0.0342],\n",
      "        [-0.1148, -0.0093],\n",
      "        [ 0.2483,  0.0961],\n",
      "        [ 0.0275, -0.1040]])\n",
      "true_vel: [[ 0.70249774 -0.01873141]\n",
      " [ 0.58521946 -0.0189383 ]\n",
      " [ 0.20481538  0.08859411]\n",
      " [ 0.10225582  0.51250474]]\n",
      "predicted_vel: tensor([[ 0.2058,  0.3637],\n",
      "        [-0.1178, -0.3867],\n",
      "        [ 0.0079,  0.0933],\n",
      "        [-0.0953, -0.1264]])\n",
      "true_vel: [[ 0.70234007 -0.0160755 ]\n",
      " [ 0.56406891  0.03495471]\n",
      " [ 0.22982923  0.03468484]\n",
      " [ 0.10486734  0.5098651 ]]\n",
      "predicted_vel: tensor([[ 0.2124,  0.1592],\n",
      "        [-0.1888, -0.1498],\n",
      "        [ 0.1624,  0.0360],\n",
      "        [-0.1837, -0.1173]])\n",
      "true_vel: [[ 0.70224175 -0.01357738]\n",
      " [ 0.54070616  0.08619105]\n",
      " [ 0.25791891 -0.01670793]\n",
      " [ 0.10653182  0.50752341]]\n",
      "predicted_vel: tensor([[ 0.1725,  0.2390],\n",
      "        [-0.0815, -0.3152],\n",
      "        [ 0.0051, -0.0959],\n",
      "        [-0.1085,  0.1126]])\n",
      "true_vel: [[ 0.70224999 -0.01133793]\n",
      " [ 0.51471281  0.13679705]\n",
      " [ 0.28929011 -0.06766194]\n",
      " [ 0.1073905   0.50563197]]\n",
      "predicted_vel: tensor([[ 0.1617,  0.1333],\n",
      "        [-0.1837, -0.0839],\n",
      "        [ 0.1335, -0.0782],\n",
      "        [-0.1119, -0.0433]])\n",
      "true_vel: [[ 0.70240852 -0.00944691]\n",
      " [ 0.48518364  0.18877715]\n",
      " [ 0.32461739 -0.12021592]\n",
      " [ 0.10760556  0.50431483]]\n",
      "predicted_vel: tensor([[ 0.1280,  0.2675],\n",
      "        [-0.1058, -0.2195],\n",
      "        [ 0.1923,  0.0487],\n",
      "        [-0.2157, -0.1549]])\n",
      "true_vel: [[ 0.70275909 -0.00798567]\n",
      " [ 0.45051016  0.24450653]\n",
      " [ 0.36526042 -0.17676006]\n",
      " [ 0.10735901  0.50366835]]\n",
      "predicted_vel: tensor([[ 0.1163,  0.1612],\n",
      "        [ 0.0581, -0.2898],\n",
      "        [ 0.0012,  0.0133],\n",
      "        [-0.1873,  0.0546]])\n",
      "true_vel: [[ 0.70334346 -0.00703044]\n",
      " [ 0.40777589  0.30736216]\n",
      " [ 0.41386737 -0.24066209]\n",
      " [ 0.10685215  0.50375953]]\n",
      "predicted_vel: tensor([[ 0.1331,  0.0536],\n",
      "        [-0.2498, -0.1350],\n",
      "        [ 0.0493, -0.0404],\n",
      "        [ 0.0604,  0.0555]])\n",
      "true_vel: [[ 0.70420638 -0.00665726]\n",
      " [ 0.35109243  0.38312196]\n",
      " [ 0.47603573 -0.31765904]\n",
      " [ 0.10630588  0.50462348]]\n",
      "predicted_vel: tensor([[ 0.2555,  0.1023],\n",
      "        [-0.2233, -0.1063],\n",
      "        [ 0.0135, -0.1278],\n",
      "        [-0.0505,  0.0567]])\n",
      "true_vel: [[ 0.70540128 -0.00695114]\n",
      " [ 0.26597387  0.48406631]\n",
      " [ 0.56592797 -0.41994742]\n",
      " [ 0.10596515  0.50626139]]\n",
      "predicted_vel: tensor([[ 0.2575,  0.1274],\n",
      "        [-0.1286, -0.0223],\n",
      "        [ 0.0402, -0.1164],\n",
      "        [-0.1743, -0.0454]])\n",
      "true_vel: [[ 0.70399952 -0.00802951]\n",
      " [ 0.0951741   0.64672678]\n",
      " [ 0.73929488 -0.58390786]\n",
      " [ 0.10612198  0.50863974]]\n",
      "predicted_vel: tensor([[ 0.1150,  0.1677],\n",
      "        [ 0.0201, -0.2236],\n",
      "        [ 0.0687,  0.0628],\n",
      "        [-0.2047, -0.0640]])\n",
      "true_vel: [[ 0.70094565 -0.0101489 ]\n",
      " [-1.01122428  1.08264422]\n",
      " [ 1.84670874 -1.02074795]\n",
      " [ 0.10726083  0.51168178]]\n",
      "predicted_vel: tensor([[ 0.0473,  0.2284],\n",
      "        [-0.0653, -0.2166],\n",
      "        [ 0.1295, -0.0141],\n",
      "        [-0.1188, -0.0605]])\n",
      "true_vel: [[ 0.69804605 -0.01319097]\n",
      " [ 0.70164604 -0.50459301]\n",
      " [ 0.13345049  0.56670019]\n",
      " [ 0.10971402  0.51451267]]\n",
      "predicted_vel: tensor([[ 0.2300,  0.1268],\n",
      "        [-0.0445, -0.0373],\n",
      "        [ 0.0277, -0.0303],\n",
      "        [-0.2223, -0.1176]])\n",
      "true_vel: [[ 0.69467576 -0.01573302]\n",
      " [ 0.66506886 -0.03509894]\n",
      " [ 0.16966724  0.09717729]\n",
      " [ 0.11140719  0.51708356]]\n",
      "predicted_vel: tensor([[ 0.1856,  0.2188],\n",
      "        [-0.0403, -0.3825],\n",
      "        [-0.0555, -0.0265],\n",
      "        [-0.0972,  0.1341]])\n",
      "true_vel: [[ 0.69138105 -0.01808751]\n",
      " [ 0.55000815  0.32296961]\n",
      " [ 0.28469943 -0.26131121]\n",
      " [ 0.11256805  0.51985801]]\n",
      "predicted_vel: tensor([[ 0.2408,  0.0992],\n",
      "        [-0.2480, -0.0442],\n",
      "        [-0.0010, -0.0926],\n",
      "        [ 0.0037, -0.0280]])\n",
      "true_vel: [[ 0.68853009 -0.02058601]\n",
      " [ 0.21459676  0.8646136 ]\n",
      " [ 0.62034767 -0.80358397]\n",
      " [ 0.11362126  0.52298527]]\n",
      "predicted_vel: tensor([[ 0.0968, -0.0382],\n",
      "        [ 0.1253,  0.1023],\n",
      "        [-0.0761, -0.0759],\n",
      "        [-0.1511, -0.0483]])\n",
      "true_vel: [[ 0.68641071 -0.02387749]\n",
      " [-0.05566776 -0.80601316]\n",
      " [ 0.89050618  0.86709051]\n",
      " [ 0.11545591  0.52622906]]\n",
      "predicted_vel: tensor([[ 0.0114,  0.1444],\n",
      "        [ 0.0144,  0.0194],\n",
      "        [ 0.1211, -0.1103],\n",
      "        [-0.1474, -0.1175]])\n",
      "true_vel: [[ 0.68390305 -0.02084569]\n",
      " [ 0.26916623 -0.45770859]\n",
      " [ 0.56471353  0.51976199]\n",
      " [ 0.11768025  0.52897625]]\n"
     ]
    },
    {
     "data": {
      "text/plain": [
       "19.505847930908203"
      ]
     },
     "execution_count": 157,
     "metadata": {},
     "output_type": "execute_result"
    }
   ],
   "source": [
    "def compute_loss_trajectory(model, trajectory, criterion):\n",
    "    \"\"\"\n",
    "    This function computes the loss of the given model on the given trajectory using the given loss function.\n",
    "    It only considers the positions of the particles.\n",
    "\n",
    "    Parameters:\n",
    "    model (torch.nn.Module): The model to use for prediction.\n",
    "    trajectory (np.ndarray): The trajectory of the system.\n",
    "    criterion (torch.nn.Module): The loss function to use for testing.\n",
    "\n",
    "    The function first creates a graph representation of the trajectory. \n",
    "    Then, it computes the loss of the model on the trajectory using the given loss function. \n",
    "    Finally, it returns the loss.\n",
    "    \"\"\"\n",
    "    particles = trajectory[0]\n",
    "    predicted_trajectory = predict_trajectory(model, particles)\n",
    "\n",
    "    # Consider only positions\n",
    "    predicted_positions = predicted_trajectory[:, :, :2]\n",
    "    true_positions = trajectory[:, :, :2]\n",
    "\n",
    "    loss = criterion(torch.tensor(predicted_positions, dtype=torch.float32), torch.tensor(true_positions, dtype=torch.float32))\n",
    "\n",
    "    return loss.item()\n",
    "\n",
    "compute_loss_trajectory(model, test_trajectory, criterion)"
   ]
  },
  {
   "cell_type": "code",
   "execution_count": null,
   "metadata": {},
   "outputs": [],
   "source": [
    "def compute_loss_time_step(model, data, criterion):\n",
    "    \"\"\"\n",
    "    This function computes the loss of the given model on the given data for each time step using the given loss function.\n",
    "\n",
    "    Parameters:\n",
    "    model (torch.nn.Module): The model to use for prediction.\n",
    "    data (torch_geometric.data.Data): The data object containing the input features and target values.\n",
    "    criterion (torch.nn.Module): The loss function to use for testing.\n",
    "\n",
    "    The function first sets the model to evaluation mode. Then, it iterates over the time steps in the data. \n",
    "    For each time step, it computes the predicted values using the model, computes the loss using the criterion, \n",
    "    and keeps track of the total loss over all time steps. Finally, it returns the average loss over all time steps.\n",
    "    \"\"\"\n",
    "    model.eval()\n",
    "\n",
    "    with torch.no_grad():\n",
    "        node_features = data.x\n",
    "        edge_index = data.edge_index\n",
    "        edge_attr = data.edge_attr\n",
    "        coord = data.coord\n",
    "        vel = data.vel\n",
    "        target = data.y\n",
    "        output = model(node_features, edge_index, edge_attr)\n",
    "        loss = criterion(output, target)    \n",
    "\n",
    "    return loss.item()"
   ]
  },
  {
   "cell_type": "code",
   "execution_count": null,
   "metadata": {},
   "outputs": [
    {
     "name": "stdout",
     "output_type": "stream",
     "text": [
      "[970 992 967 940 929]\n",
      "Test trajectory 970\n",
      "predicted_vel: tensor([[ 0.0160, -0.0189],\n",
      "        [ 0.0449,  0.0687],\n",
      "        [-0.0105, -0.0227],\n",
      "        [ 0.0342, -0.1259],\n",
      "        [ 0.0424, -0.0098]])\n",
      "true_vel: [[ 0.53647451 -0.06382443]\n",
      " [ 0.58054579 -0.09997886]\n",
      " [ 0.24390343  0.29793727]\n",
      " [ 0.23184199  0.42929516]]\n",
      "predicted_vel: tensor([[ 0.0011, -0.0212],\n",
      "        [ 0.0257,  0.0237],\n",
      "        [-0.0276,  0.0243],\n",
      "        [ 0.0583, -0.1087],\n",
      "        [ 0.0678,  0.0009]])\n",
      "true_vel: [[ 0.55510289 -0.05893923]\n",
      " [ 0.61908985 -0.076003  ]\n",
      " [ 0.20636183  0.25915418]\n",
      " [ 0.21221116  0.4392172 ]]\n",
      "predicted_vel: tensor([[ 0.0003, -0.0203],\n",
      "        [ 0.0274,  0.0278],\n",
      "        [-0.0296,  0.0237],\n",
      "        [ 0.0603, -0.1088],\n",
      "        [ 0.0664, -0.0010]])\n",
      "true_vel: [[ 0.57191848 -0.0544227 ]\n",
      " [ 0.6503136  -0.04936341]\n",
      " [ 0.17483044  0.21719141]\n",
      " [ 0.1957032   0.45002386]]\n",
      "predicted_vel: tensor([[-0.0003, -0.0191],\n",
      "        [ 0.0275,  0.0294],\n",
      "        [-0.0300,  0.0234],\n",
      "        [ 0.0615, -0.1093],\n",
      "        [ 0.0666, -0.0016]])\n",
      "true_vel: [[ 0.58696519 -0.05010111]\n",
      " [ 0.67432963 -0.01942546]\n",
      " [ 0.14921381  0.17187191]\n",
      " [ 0.18225709  0.46108381]]\n",
      "predicted_vel: tensor([[-0.0009, -0.0179],\n",
      "        [ 0.0278,  0.0311],\n",
      "        [-0.0303,  0.0232],\n",
      "        [ 0.0624, -0.1093],\n",
      "        [ 0.0665, -0.0021]])\n",
      "true_vel: [[ 0.60037665 -0.04585401]\n",
      " [ 0.69106765  0.01442057]\n",
      " [ 0.12970364  0.12305687]\n",
      " [ 0.17161778  0.47180572]]\n",
      "predicted_vel: tensor([[-0.0013, -0.0167],\n",
      "        [ 0.0281,  0.0328],\n",
      "        [-0.0305,  0.0231],\n",
      "        [ 0.0632, -0.1086],\n",
      "        [ 0.0664, -0.0023]])\n",
      "true_vel: [[ 0.61233977 -0.04162375]\n",
      " [ 0.70032378  0.0527589 ]\n",
      " [ 0.11672359  0.07060905]\n",
      " [ 0.16337858  0.48168495]]\n",
      "predicted_vel: tensor([[-0.0017, -0.0156],\n",
      "        [ 0.0284,  0.0344],\n",
      "        [-0.0307,  0.0229],\n",
      "        [ 0.0637, -0.1074],\n",
      "        [ 0.0661, -0.0022]])\n",
      "true_vel: [[ 0.62306457 -0.03741485]\n",
      " [ 0.70173551  0.09617558]\n",
      " [ 0.11093114  0.01433167]\n",
      " [ 0.1570345   0.49033675]]\n",
      "predicted_vel: tensor([[-0.0019, -0.0147],\n",
      "        [ 0.0288,  0.0359],\n",
      "        [-0.0308,  0.0228],\n",
      "        [ 0.0640, -0.1056],\n",
      "        [ 0.0657, -0.0018]])\n",
      "true_vel: [[ 0.63276207 -0.03328738]\n",
      " [ 0.69467464  0.14532879]\n",
      " [ 0.11329155 -0.04612222]\n",
      " [ 0.15203746  0.49750997]]\n",
      "predicted_vel: tensor([[-0.0020, -0.0138],\n",
      "        [ 0.0292,  0.0371],\n",
      "        [-0.0307,  0.0228],\n",
      "        [ 0.0640, -0.1030],\n",
      "        [ 0.0653, -0.0011]])\n",
      "true_vel: [[ 0.64162976 -0.02934734]\n",
      " [ 0.67802885  0.20107584]\n",
      " [ 0.12526493 -0.11138106]\n",
      " [ 0.14784218  0.50308171]]\n",
      "predicted_vel: tensor([[-1.9873e-03, -1.3013e-02],\n",
      "        [ 2.9631e-02,  3.8218e-02],\n",
      "        [-3.0588e-02,  2.2702e-02],\n",
      "        [ 6.3788e-02, -9.9911e-02],\n",
      "        [ 6.4658e-02,  3.0003e-05]])\n",
      "true_vel: [[ 0.6498437  -0.02573659]\n",
      " [ 0.64978338  0.26467794]\n",
      " [ 0.14920386 -0.18255285]\n",
      " [ 0.14393479  0.50704065]]\n",
      "predicted_vel: tensor([[-0.0018, -0.0124],\n",
      "        [ 0.0301,  0.0391],\n",
      "        [-0.0303,  0.0226],\n",
      "        [ 0.0633, -0.0962],\n",
      "        [ 0.0639,  0.0015]])\n",
      "true_vel: [[ 0.65755555 -0.02262448]\n",
      " [ 0.60615011  0.33813062]\n",
      " [ 0.18921681 -0.26154867]\n",
      " [ 0.13984325  0.50947169]]\n",
      "predicted_vel: tensor([[-0.0015, -0.0118],\n",
      "        [ 0.0307,  0.0397],\n",
      "        [-0.0299,  0.0226],\n",
      "        [ 0.0624, -0.0920],\n",
      "        [ 0.0631,  0.0033]])\n",
      "true_vel: [[ 0.66489369 -0.02020382]\n",
      " [ 0.53947286  0.42471776]\n",
      " [ 0.25326247 -0.35164228]\n",
      " [ 0.1351367   0.51055748]]\n",
      "predicted_vel: tensor([[-0.0011, -0.0113],\n",
      "        [ 0.0312,  0.0401],\n",
      "        [-0.0293,  0.0225],\n",
      "        [ 0.0614, -0.0873],\n",
      "        [ 0.0621,  0.0053]])\n",
      "true_vel: [[ 0.67196648 -0.0186956 ]\n",
      " [ 0.43210285  0.52984508]\n",
      " [ 0.3592638  -0.45833588]\n",
      " [ 0.12943259  0.51061554]]\n",
      "predicted_vel: tensor([[-0.0006, -0.0110],\n",
      "        [ 0.0317,  0.0402],\n",
      "        [-0.0287,  0.0223],\n",
      "        [ 0.0600, -0.0824],\n",
      "        [ 0.0610,  0.0076]])\n",
      "true_vel: [[ 0.67886417 -0.01837367]\n",
      " [ 0.23240311  0.65997258]\n",
      " [ 0.55903835 -0.58837192]\n",
      " [ 0.12246009  0.51020216]]\n",
      "predicted_vel: tensor([[ 1.8120e-05, -1.0702e-02],\n",
      "        [ 3.2271e-02,  4.0262e-02],\n",
      "        [-2.7827e-02,  2.1996e-02],\n",
      "        [ 5.8510e-02, -7.7330e-02],\n",
      "        [ 5.9743e-02,  1.0043e-02]])\n",
      "true_vel: [[ 0.68563425 -0.01964355]\n",
      " [-0.30079409  0.75274363]\n",
      " [ 1.09356992 -0.68002776]\n",
      " [ 0.11435565  0.51035683]]\n",
      "predicted_vel: tensor([[ 0.0007, -0.0105],\n",
      "        [ 0.0328,  0.0402],\n",
      "        [-0.0269,  0.0216],\n",
      "        [ 0.0568, -0.0723],\n",
      "        [ 0.0584,  0.0126]])\n",
      "true_vel: [[ 0.69181571 -0.02292385]\n",
      " [-0.42102849 -1.0260097 ]\n",
      " [ 1.21455441  1.09934581]\n",
      " [ 0.10742409  0.51301689]]\n",
      "predicted_vel: tensor([[ 0.0014, -0.0103],\n",
      "        [ 0.0332,  0.0400],\n",
      "        [-0.0258,  0.0211],\n",
      "        [ 0.0549, -0.0673],\n",
      "        [ 0.0570,  0.0150]])\n",
      "true_vel: [[ 0.69601531 -0.02566002]\n",
      " [ 0.4707524  -0.72400422]\n",
      " [ 0.32067011  0.79621262]\n",
      " [ 0.1053279   0.51688077]]\n",
      "predicted_vel: tensor([[ 0.0022, -0.0102],\n",
      "        [ 0.0336,  0.0397],\n",
      "        [-0.0246,  0.0205],\n",
      "        [ 0.0529, -0.0626],\n",
      "        [ 0.0556,  0.0174]])\n",
      "true_vel: [[ 0.69881512 -0.02674495]\n",
      " [ 0.60063062 -0.47925512]\n",
      " [ 0.18799807  0.55020037]\n",
      " [ 0.10532192  0.51922885]]\n",
      "predicted_vel: tensor([[ 0.0030, -0.0101],\n",
      "        [ 0.0339,  0.0394],\n",
      "        [-0.0234,  0.0197],\n",
      "        [ 0.0508, -0.0583],\n",
      "        [ 0.0541,  0.0196]])\n",
      "true_vel: [[ 0.70067167 -0.02658136]\n",
      " [ 0.62973603 -0.33096004]\n",
      " [ 0.15669322  0.40106642]\n",
      " [ 0.10566481  0.51990412]]\n",
      "predicted_vel: tensor([[ 0.0038, -0.0099],\n",
      "        [ 0.0341,  0.0391],\n",
      "        [-0.0220,  0.0188],\n",
      "        [ 0.0486, -0.0543],\n",
      "        [ 0.0526,  0.0216]])\n",
      "true_vel: [[ 0.70181967 -0.02548055]\n",
      " [ 0.6303805  -0.22645718]\n",
      " [ 0.15498945  0.29615051]\n",
      " [ 0.10557611  0.51921637]]\n",
      "predicted_vel: tensor([[ 0.0047, -0.0098],\n",
      "        [ 0.0342,  0.0388],\n",
      "        [-0.0207,  0.0179],\n",
      "        [ 0.0464, -0.0509],\n",
      "        [ 0.0511,  0.0232]])\n",
      "true_vel: [[ 0.70242195 -0.02367995]\n",
      " [ 0.61988929 -0.14531314]\n",
      " [ 0.16574806  0.21488642]\n",
      " [ 0.10470642  0.51753581]]\n",
      "predicted_vel: tensor([[ 0.0055, -0.0097],\n",
      "        [ 0.0342,  0.0385],\n",
      "        [-0.0193,  0.0168],\n",
      "        [ 0.0443, -0.0478],\n",
      "        [ 0.0495,  0.0246]])\n",
      "true_vel: [[ 0.70260767 -0.02137195]\n",
      " [ 0.6040905  -0.07790967]\n",
      " [ 0.183137    0.14751152]\n",
      " [ 0.10293055  0.51519925]]\n",
      "predicted_vel: tensor([[ 0.0063, -0.0095],\n",
      "        [ 0.0342,  0.0382],\n",
      "        [-0.0179,  0.0157],\n",
      "        [ 0.0421, -0.0452],\n",
      "        [ 0.0480,  0.0257]])\n",
      "true_vel: [[ 0.70249774 -0.01873141]\n",
      " [ 0.58521946 -0.0189383 ]\n",
      " [ 0.20481538  0.08859411]\n",
      " [ 0.10225582  0.51250474]]\n",
      "predicted_vel: tensor([[ 0.0071, -0.0093],\n",
      "        [ 0.0341,  0.0380],\n",
      "        [-0.0164,  0.0145],\n",
      "        [ 0.0401, -0.0431],\n",
      "        [ 0.0466,  0.0264]])\n",
      "true_vel: [[ 0.70234007 -0.0160755 ]\n",
      " [ 0.56406891  0.03495471]\n",
      " [ 0.22982923  0.03468484]\n",
      " [ 0.10486734  0.5098651 ]]\n",
      "predicted_vel: tensor([[ 0.0078, -0.0091],\n",
      "        [ 0.0339,  0.0377],\n",
      "        [-0.0150,  0.0133],\n",
      "        [ 0.0381, -0.0412],\n",
      "        [ 0.0451,  0.0269]])\n",
      "true_vel: [[ 0.70224175 -0.01357738]\n",
      " [ 0.54070616  0.08619105]\n",
      " [ 0.25791891 -0.01670793]\n",
      " [ 0.10653182  0.50752341]]\n",
      "predicted_vel: tensor([[ 0.0086, -0.0089],\n",
      "        [ 0.0337,  0.0374],\n",
      "        [-0.0136,  0.0120],\n",
      "        [ 0.0362, -0.0397],\n",
      "        [ 0.0437,  0.0272]])\n",
      "true_vel: [[ 0.70224999 -0.01133793]\n",
      " [ 0.51471281  0.13679705]\n",
      " [ 0.28929011 -0.06766194]\n",
      " [ 0.1073905   0.50563197]]\n",
      "predicted_vel: tensor([[ 0.0093, -0.0086],\n",
      "        [ 0.0335,  0.0372],\n",
      "        [-0.0122,  0.0108],\n",
      "        [ 0.0345, -0.0385],\n",
      "        [ 0.0424,  0.0272]])\n",
      "true_vel: [[ 0.70240852 -0.00944691]\n",
      " [ 0.48518364  0.18877715]\n",
      " [ 0.32461739 -0.12021592]\n",
      " [ 0.10760556  0.50431483]]\n",
      "predicted_vel: tensor([[ 0.0100, -0.0082],\n",
      "        [ 0.0332,  0.0369],\n",
      "        [-0.0108,  0.0096],\n",
      "        [ 0.0329, -0.0375],\n",
      "        [ 0.0411,  0.0271]])\n",
      "true_vel: [[ 0.70275909 -0.00798567]\n",
      " [ 0.45051016  0.24450653]\n",
      " [ 0.36526042 -0.17676006]\n",
      " [ 0.10735901  0.50366835]]\n",
      "predicted_vel: tensor([[ 0.0106, -0.0078],\n",
      "        [ 0.0328,  0.0366],\n",
      "        [-0.0093,  0.0083],\n",
      "        [ 0.0314, -0.0367],\n",
      "        [ 0.0398,  0.0268]])\n",
      "true_vel: [[ 0.70334346 -0.00703044]\n",
      " [ 0.40777589  0.30736216]\n",
      " [ 0.41386737 -0.24066209]\n",
      " [ 0.10685215  0.50375953]]\n",
      "predicted_vel: tensor([[ 0.0112, -0.0074],\n",
      "        [ 0.0325,  0.0363],\n",
      "        [-0.0080,  0.0072],\n",
      "        [ 0.0301, -0.0361],\n",
      "        [ 0.0387,  0.0264]])\n",
      "true_vel: [[ 0.70420638 -0.00665726]\n",
      " [ 0.35109243  0.38312196]\n",
      " [ 0.47603573 -0.31765904]\n",
      " [ 0.10630588  0.50462348]]\n",
      "predicted_vel: tensor([[ 0.0118, -0.0069],\n",
      "        [ 0.0321,  0.0359],\n",
      "        [-0.0066,  0.0060],\n",
      "        [ 0.0288, -0.0356],\n",
      "        [ 0.0375,  0.0260]])\n",
      "true_vel: [[ 0.70540128 -0.00695114]\n",
      " [ 0.26597387  0.48406631]\n",
      " [ 0.56592797 -0.41994742]\n",
      " [ 0.10596515  0.50626139]]\n",
      "predicted_vel: tensor([[ 0.0124, -0.0064],\n",
      "        [ 0.0317,  0.0356],\n",
      "        [-0.0052,  0.0049],\n",
      "        [ 0.0277, -0.0352],\n",
      "        [ 0.0365,  0.0255]])\n",
      "true_vel: [[ 0.70399952 -0.00802951]\n",
      " [ 0.0951741   0.64672678]\n",
      " [ 0.73929488 -0.58390786]\n",
      " [ 0.10612198  0.50863974]]\n",
      "predicted_vel: tensor([[ 0.0129, -0.0058],\n",
      "        [ 0.0313,  0.0352],\n",
      "        [-0.0039,  0.0039],\n",
      "        [ 0.0266, -0.0348],\n",
      "        [ 0.0355,  0.0249]])\n",
      "true_vel: [[ 0.70094565 -0.0101489 ]\n",
      " [-1.01122428  1.08264422]\n",
      " [ 1.84670874 -1.02074795]\n",
      " [ 0.10726083  0.51168178]]\n",
      "predicted_vel: tensor([[ 0.0134, -0.0052],\n",
      "        [ 0.0309,  0.0347],\n",
      "        [-0.0026,  0.0029],\n",
      "        [ 0.0255, -0.0344],\n",
      "        [ 0.0346,  0.0243]])\n",
      "true_vel: [[ 0.69804605 -0.01319097]\n",
      " [ 0.70164604 -0.50459301]\n",
      " [ 0.13345049  0.56670019]\n",
      " [ 0.10971402  0.51451267]]\n",
      "predicted_vel: tensor([[ 0.0139, -0.0046],\n",
      "        [ 0.0305,  0.0343],\n",
      "        [-0.0013,  0.0020],\n",
      "        [ 0.0246, -0.0341],\n",
      "        [ 0.0337,  0.0238]])\n",
      "true_vel: [[ 0.69467576 -0.01573302]\n",
      " [ 0.66506886 -0.03509894]\n",
      " [ 0.16966724  0.09717729]\n",
      " [ 0.11140719  0.51708356]]\n",
      "predicted_vel: tensor([[ 1.4340e-02, -3.9304e-03],\n",
      "        [ 3.0114e-02,  3.3862e-02],\n",
      "        [-4.3117e-05,  1.1892e-03],\n",
      "        [ 2.3578e-02, -3.3660e-02],\n",
      "        [ 3.2826e-02,  2.3190e-02]])\n",
      "true_vel: [[ 0.69138105 -0.01808751]\n",
      " [ 0.55000815  0.32296961]\n",
      " [ 0.28469943 -0.26131121]\n",
      " [ 0.11256805  0.51985801]]\n",
      "predicted_vel: tensor([[ 0.0147, -0.0032],\n",
      "        [ 0.0297,  0.0334],\n",
      "        [ 0.0012,  0.0004],\n",
      "        [ 0.0226, -0.0332],\n",
      "        [ 0.0320,  0.0227]])\n",
      "true_vel: [[ 0.68853009 -0.02058601]\n",
      " [ 0.21459676  0.8646136 ]\n",
      " [ 0.62034767 -0.80358397]\n",
      " [ 0.11362126  0.52298527]]\n",
      "predicted_vel: tensor([[ 0.0151, -0.0025],\n",
      "        [ 0.0293,  0.0329],\n",
      "        [ 0.0023, -0.0004],\n",
      "        [ 0.0216, -0.0326],\n",
      "        [ 0.0313,  0.0222]])\n",
      "true_vel: [[ 0.68641071 -0.02387749]\n",
      " [-0.05566776 -0.80601316]\n",
      " [ 0.89050618  0.86709051]\n",
      " [ 0.11545591  0.52622906]]\n",
      "predicted_vel: tensor([[ 0.0155, -0.0018],\n",
      "        [ 0.0289,  0.0325],\n",
      "        [ 0.0033, -0.0012],\n",
      "        [ 0.0206, -0.0319],\n",
      "        [ 0.0305,  0.0218]])\n",
      "true_vel: [[ 0.68390305 -0.02084569]\n",
      " [ 0.26916623 -0.45770859]\n",
      " [ 0.56471353  0.51976199]\n",
      " [ 0.11768025  0.52897625]]\n"
     ]
    },
    {
     "data": {
      "image/png": "[encoded data removed]",
      "text/plain": [
       "<Figure size 400x400 with 1 Axes>"
      ]
     },
     "metadata": {},
     "output_type": "display_data"
    },
    {
     "data": {
      "image/png": "[encoded data removed]",
      "text/plain": [
       "<Figure size 400x400 with 1 Axes>"
      ]
     },
     "metadata": {},
     "output_type": "display_data"
    },
    {
     "name": "stdout",
     "output_type": "stream",
     "text": [
      "Test trajectory 992\n",
      "predicted_vel: tensor([[ 0.0412,  0.0359],\n",
      "        [-0.0027,  0.0115],\n",
      "        [ 0.0298, -0.0041],\n",
      "        [ 0.0280, -0.0061]])\n",
      "true_vel: [[ 0.53647451 -0.06382443]\n",
      " [ 0.58054579 -0.09997886]\n",
      " [ 0.24390343  0.29793727]\n",
      " [ 0.23184199  0.42929516]]\n",
      "predicted_vel: tensor([[0.0355, 0.0025],\n",
      "        [0.0059, 0.0088],\n",
      "        [0.0283, 0.0090],\n",
      "        [0.0311, 0.0087]])\n",
      "true_vel: [[ 0.55510289 -0.05893923]\n",
      " [ 0.61908985 -0.076003  ]\n",
      " [ 0.20636183  0.25915418]\n",
      " [ 0.21221116  0.4392172 ]]\n",
      "predicted_vel: tensor([[0.0348, 0.0017],\n",
      "        [0.0057, 0.0088],\n",
      "        [0.0282, 0.0090],\n",
      "        [0.0310, 0.0086]])\n",
      "true_vel: [[ 0.57191848 -0.0544227 ]\n",
      " [ 0.6503136  -0.04936341]\n",
      " [ 0.17483044  0.21719141]\n",
      " [ 0.1957032   0.45002386]]\n",
      "predicted_vel: tensor([[0.0346, 0.0017],\n",
      "        [0.0056, 0.0088],\n",
      "        [0.0282, 0.0090],\n",
      "        [0.0310, 0.0086]])\n",
      "true_vel: [[ 0.58696519 -0.05010111]\n",
      " [ 0.67432963 -0.01942546]\n",
      " [ 0.14921381  0.17187191]\n",
      " [ 0.18225709  0.46108381]]\n",
      "predicted_vel: tensor([[0.0344, 0.0018],\n",
      "        [0.0055, 0.0089],\n",
      "        [0.0283, 0.0091],\n",
      "        [0.0311, 0.0086]])\n",
      "true_vel: [[ 0.60037665 -0.04585401]\n",
      " [ 0.69106765  0.01442057]\n",
      " [ 0.12970364  0.12305687]\n",
      " [ 0.17161778  0.47180572]]\n",
      "predicted_vel: tensor([[0.0343, 0.0018],\n",
      "        [0.0054, 0.0089],\n",
      "        [0.0283, 0.0091],\n",
      "        [0.0311, 0.0086]])\n",
      "true_vel: [[ 0.61233977 -0.04162375]\n",
      " [ 0.70032378  0.0527589 ]\n",
      " [ 0.11672359  0.07060905]\n",
      " [ 0.16337858  0.48168495]]\n",
      "predicted_vel: tensor([[0.0341, 0.0019],\n",
      "        [0.0053, 0.0090],\n",
      "        [0.0283, 0.0091],\n",
      "        [0.0311, 0.0086]])\n",
      "true_vel: [[ 0.62306457 -0.03741485]\n",
      " [ 0.70173551  0.09617558]\n",
      " [ 0.11093114  0.01433167]\n",
      " [ 0.1570345   0.49033675]]\n",
      "predicted_vel: tensor([[0.0339, 0.0020],\n",
      "        [0.0052, 0.0090],\n",
      "        [0.0283, 0.0092],\n",
      "        [0.0312, 0.0086]])\n",
      "true_vel: [[ 0.63276207 -0.03328738]\n",
      " [ 0.69467464  0.14532879]\n",
      " [ 0.11329155 -0.04612222]\n",
      " [ 0.15203746  0.49750997]]\n",
      "predicted_vel: tensor([[0.0337, 0.0020],\n",
      "        [0.0051, 0.0091],\n",
      "        [0.0283, 0.0092],\n",
      "        [0.0312, 0.0086]])\n",
      "true_vel: [[ 0.64162976 -0.02934734]\n",
      " [ 0.67802885  0.20107584]\n",
      " [ 0.12526493 -0.11138106]\n",
      " [ 0.14784218  0.50308171]]\n",
      "predicted_vel: tensor([[0.0335, 0.0021],\n",
      "        [0.0050, 0.0091],\n",
      "        [0.0284, 0.0092],\n",
      "        [0.0312, 0.0086]])\n",
      "true_vel: [[ 0.6498437  -0.02573659]\n",
      " [ 0.64978338  0.26467794]\n",
      " [ 0.14920386 -0.18255285]\n",
      " [ 0.14393479  0.50704065]]\n",
      "predicted_vel: tensor([[0.0333, 0.0022],\n",
      "        [0.0048, 0.0092],\n",
      "        [0.0284, 0.0093],\n",
      "        [0.0312, 0.0086]])\n",
      "true_vel: [[ 0.65755555 -0.02262448]\n",
      " [ 0.60615011  0.33813062]\n",
      " [ 0.18921681 -0.26154867]\n",
      " [ 0.13984325  0.50947169]]\n",
      "predicted_vel: tensor([[0.0331, 0.0022],\n",
      "        [0.0047, 0.0092],\n",
      "        [0.0284, 0.0093],\n",
      "        [0.0313, 0.0086]])\n",
      "true_vel: [[ 0.66489369 -0.02020382]\n",
      " [ 0.53947286  0.42471776]\n",
      " [ 0.25326247 -0.35164228]\n",
      " [ 0.1351367   0.51055748]]\n",
      "predicted_vel: tensor([[0.0329, 0.0023],\n",
      "        [0.0046, 0.0093],\n",
      "        [0.0284, 0.0093],\n",
      "        [0.0313, 0.0085]])\n",
      "true_vel: [[ 0.67196648 -0.0186956 ]\n",
      " [ 0.43210285  0.52984508]\n",
      " [ 0.3592638  -0.45833588]\n",
      " [ 0.12943259  0.51061554]]\n",
      "predicted_vel: tensor([[0.0327, 0.0024],\n",
      "        [0.0045, 0.0094],\n",
      "        [0.0284, 0.0093],\n",
      "        [0.0313, 0.0085]])\n",
      "true_vel: [[ 0.67886417 -0.01837367]\n",
      " [ 0.23240311  0.65997258]\n",
      " [ 0.55903835 -0.58837192]\n",
      " [ 0.12246009  0.51020216]]\n",
      "predicted_vel: tensor([[0.0325, 0.0024],\n",
      "        [0.0044, 0.0094],\n",
      "        [0.0285, 0.0094],\n",
      "        [0.0313, 0.0085]])\n",
      "true_vel: [[ 0.68563425 -0.01964355]\n",
      " [-0.30079409  0.75274363]\n",
      " [ 1.09356992 -0.68002776]\n",
      " [ 0.11435565  0.51035683]]\n",
      "predicted_vel: tensor([[0.0323, 0.0025],\n",
      "        [0.0043, 0.0095],\n",
      "        [0.0285, 0.0094],\n",
      "        [0.0314, 0.0085]])\n",
      "true_vel: [[ 0.69181571 -0.02292385]\n",
      " [-0.42102849 -1.0260097 ]\n",
      " [ 1.21455441  1.09934581]\n",
      " [ 0.10742409  0.51301689]]\n",
      "predicted_vel: tensor([[0.0321, 0.0026],\n",
      "        [0.0042, 0.0096],\n",
      "        [0.0285, 0.0094],\n",
      "        [0.0314, 0.0085]])\n",
      "true_vel: [[ 0.69601531 -0.02566002]\n",
      " [ 0.4707524  -0.72400422]\n",
      " [ 0.32067011  0.79621262]\n",
      " [ 0.1053279   0.51688077]]\n",
      "predicted_vel: tensor([[0.0319, 0.0026],\n",
      "        [0.0040, 0.0096],\n",
      "        [0.0285, 0.0095],\n",
      "        [0.0314, 0.0085]])\n",
      "true_vel: [[ 0.69881512 -0.02674495]\n",
      " [ 0.60063062 -0.47925512]\n",
      " [ 0.18799807  0.55020037]\n",
      " [ 0.10532192  0.51922885]]\n",
      "predicted_vel: tensor([[0.0317, 0.0027],\n",
      "        [0.0039, 0.0097],\n",
      "        [0.0285, 0.0095],\n",
      "        [0.0315, 0.0085]])\n",
      "true_vel: [[ 0.70067167 -0.02658136]\n",
      " [ 0.62973603 -0.33096004]\n",
      " [ 0.15669322  0.40106642]\n",
      " [ 0.10566481  0.51990412]]\n",
      "predicted_vel: tensor([[0.0316, 0.0028],\n",
      "        [0.0038, 0.0098],\n",
      "        [0.0286, 0.0095],\n",
      "        [0.0315, 0.0085]])\n",
      "true_vel: [[ 0.70181967 -0.02548055]\n",
      " [ 0.6303805  -0.22645718]\n",
      " [ 0.15498945  0.29615051]\n",
      " [ 0.10557611  0.51921637]]\n",
      "predicted_vel: tensor([[0.0314, 0.0029],\n",
      "        [0.0037, 0.0098],\n",
      "        [0.0286, 0.0096],\n",
      "        [0.0315, 0.0085]])\n",
      "true_vel: [[ 0.70242195 -0.02367995]\n",
      " [ 0.61988929 -0.14531314]\n",
      " [ 0.16574806  0.21488642]\n",
      " [ 0.10470642  0.51753581]]\n",
      "predicted_vel: tensor([[0.0312, 0.0029],\n",
      "        [0.0036, 0.0099],\n",
      "        [0.0286, 0.0096],\n",
      "        [0.0315, 0.0085]])\n",
      "true_vel: [[ 0.70260767 -0.02137195]\n",
      " [ 0.6040905  -0.07790967]\n",
      " [ 0.183137    0.14751152]\n",
      " [ 0.10293055  0.51519925]]\n",
      "predicted_vel: tensor([[0.0310, 0.0030],\n",
      "        [0.0035, 0.0100],\n",
      "        [0.0286, 0.0096],\n",
      "        [0.0316, 0.0085]])\n",
      "true_vel: [[ 0.70249774 -0.01873141]\n",
      " [ 0.58521946 -0.0189383 ]\n",
      " [ 0.20481538  0.08859411]\n",
      " [ 0.10225582  0.51250474]]\n",
      "predicted_vel: tensor([[0.0308, 0.0031],\n",
      "        [0.0034, 0.0101],\n",
      "        [0.0286, 0.0097],\n",
      "        [0.0316, 0.0084]])\n",
      "true_vel: [[ 0.70234007 -0.0160755 ]\n",
      " [ 0.56406891  0.03495471]\n",
      " [ 0.22982923  0.03468484]\n",
      " [ 0.10486734  0.5098651 ]]\n",
      "predicted_vel: tensor([[0.0306, 0.0032],\n",
      "        [0.0032, 0.0101],\n",
      "        [0.0286, 0.0097],\n",
      "        [0.0316, 0.0084]])\n",
      "true_vel: [[ 0.70224175 -0.01357738]\n",
      " [ 0.54070616  0.08619105]\n",
      " [ 0.25791891 -0.01670793]\n",
      " [ 0.10653182  0.50752341]]\n",
      "predicted_vel: tensor([[0.0304, 0.0033],\n",
      "        [0.0031, 0.0102],\n",
      "        [0.0287, 0.0097],\n",
      "        [0.0316, 0.0084]])\n",
      "true_vel: [[ 0.70224999 -0.01133793]\n",
      " [ 0.51471281  0.13679705]\n",
      " [ 0.28929011 -0.06766194]\n",
      " [ 0.1073905   0.50563197]]\n",
      "predicted_vel: tensor([[0.0302, 0.0034],\n",
      "        [0.0030, 0.0103],\n",
      "        [0.0287, 0.0098],\n",
      "        [0.0317, 0.0084]])\n",
      "true_vel: [[ 0.70240852 -0.00944691]\n",
      " [ 0.48518364  0.18877715]\n",
      " [ 0.32461739 -0.12021592]\n",
      " [ 0.10760556  0.50431483]]\n",
      "predicted_vel: tensor([[0.0300, 0.0034],\n",
      "        [0.0029, 0.0104],\n",
      "        [0.0287, 0.0098],\n",
      "        [0.0317, 0.0084]])\n",
      "true_vel: [[ 0.70275909 -0.00798567]\n",
      " [ 0.45051016  0.24450653]\n",
      " [ 0.36526042 -0.17676006]\n",
      " [ 0.10735901  0.50366835]]\n",
      "predicted_vel: tensor([[0.0299, 0.0035],\n",
      "        [0.0028, 0.0105],\n",
      "        [0.0287, 0.0098],\n",
      "        [0.0317, 0.0084]])\n",
      "true_vel: [[ 0.70334346 -0.00703044]\n",
      " [ 0.40777589  0.30736216]\n",
      " [ 0.41386737 -0.24066209]\n",
      " [ 0.10685215  0.50375953]]\n",
      "predicted_vel: tensor([[0.0297, 0.0036],\n",
      "        [0.0027, 0.0105],\n",
      "        [0.0287, 0.0099],\n",
      "        [0.0317, 0.0084]])\n",
      "true_vel: [[ 0.70420638 -0.00665726]\n",
      " [ 0.35109243  0.38312196]\n",
      " [ 0.47603573 -0.31765904]\n",
      " [ 0.10630588  0.50462348]]\n",
      "predicted_vel: tensor([[0.0295, 0.0037],\n",
      "        [0.0026, 0.0106],\n",
      "        [0.0287, 0.0099],\n",
      "        [0.0318, 0.0083]])\n",
      "true_vel: [[ 0.70540128 -0.00695114]\n",
      " [ 0.26597387  0.48406631]\n",
      " [ 0.56592797 -0.41994742]\n",
      " [ 0.10596515  0.50626139]]\n",
      "predicted_vel: tensor([[0.0293, 0.0038],\n",
      "        [0.0025, 0.0107],\n",
      "        [0.0288, 0.0100],\n",
      "        [0.0318, 0.0083]])\n",
      "true_vel: [[ 0.70399952 -0.00802951]\n",
      " [ 0.0951741   0.64672678]\n",
      " [ 0.73929488 -0.58390786]\n",
      " [ 0.10612198  0.50863974]]\n",
      "predicted_vel: tensor([[0.0291, 0.0039],\n",
      "        [0.0023, 0.0108],\n",
      "        [0.0288, 0.0100],\n",
      "        [0.0318, 0.0083]])\n",
      "true_vel: [[ 0.70094565 -0.0101489 ]\n",
      " [-1.01122428  1.08264422]\n",
      " [ 1.84670874 -1.02074795]\n",
      " [ 0.10726083  0.51168178]]\n",
      "predicted_vel: tensor([[0.0290, 0.0040],\n",
      "        [0.0022, 0.0109],\n",
      "        [0.0288, 0.0100],\n",
      "        [0.0318, 0.0083]])\n",
      "true_vel: [[ 0.69804605 -0.01319097]\n",
      " [ 0.70164604 -0.50459301]\n",
      " [ 0.13345049  0.56670019]\n",
      " [ 0.10971402  0.51451267]]\n",
      "predicted_vel: tensor([[0.0288, 0.0041],\n",
      "        [0.0021, 0.0110],\n",
      "        [0.0288, 0.0101],\n",
      "        [0.0318, 0.0083]])\n",
      "true_vel: [[ 0.69467576 -0.01573302]\n",
      " [ 0.66506886 -0.03509894]\n",
      " [ 0.16966724  0.09717729]\n",
      " [ 0.11140719  0.51708356]]\n",
      "predicted_vel: tensor([[0.0286, 0.0041],\n",
      "        [0.0020, 0.0111],\n",
      "        [0.0288, 0.0101],\n",
      "        [0.0319, 0.0083]])\n",
      "true_vel: [[ 0.69138105 -0.01808751]\n",
      " [ 0.55000815  0.32296961]\n",
      " [ 0.28469943 -0.26131121]\n",
      " [ 0.11256805  0.51985801]]\n",
      "predicted_vel: tensor([[0.0284, 0.0042],\n",
      "        [0.0019, 0.0112],\n",
      "        [0.0288, 0.0101],\n",
      "        [0.0319, 0.0083]])\n",
      "true_vel: [[ 0.68853009 -0.02058601]\n",
      " [ 0.21459676  0.8646136 ]\n",
      " [ 0.62034767 -0.80358397]\n",
      " [ 0.11362126  0.52298527]]\n",
      "predicted_vel: tensor([[0.0283, 0.0043],\n",
      "        [0.0018, 0.0112],\n",
      "        [0.0288, 0.0102],\n",
      "        [0.0319, 0.0082]])\n",
      "true_vel: [[ 0.68641071 -0.02387749]\n",
      " [-0.05566776 -0.80601316]\n",
      " [ 0.89050618  0.86709051]\n",
      " [ 0.11545591  0.52622906]]\n",
      "predicted_vel: tensor([[0.0281, 0.0044],\n",
      "        [0.0017, 0.0113],\n",
      "        [0.0289, 0.0102],\n",
      "        [0.0319, 0.0082]])\n",
      "true_vel: [[ 0.68390305 -0.02084569]\n",
      " [ 0.26916623 -0.45770859]\n",
      " [ 0.56471353  0.51976199]\n",
      " [ 0.11768025  0.52897625]]\n"
     ]
    },
    {
     "data": {
      "image/png": "[encoded data removed]",
      "text/plain": [
       "<Figure size 400x400 with 1 Axes>"
      ]
     },
     "metadata": {},
     "output_type": "display_data"
    },
    {
     "data": {
      "image/png": "[encoded data removed]",
      "text/plain": [
       "<Figure size 400x400 with 1 Axes>"
      ]
     },
     "metadata": {},
     "output_type": "display_data"
    },
    {
     "name": "stdout",
     "output_type": "stream",
     "text": [
      "Test trajectory 967\n",
      "predicted_vel: tensor([[ 0.0177, -0.0077],\n",
      "        [ 0.0041,  0.0208],\n",
      "        [ 0.0296, -0.0132],\n",
      "        [ 0.0095,  0.0110]])\n",
      "true_vel: [[ 0.53647451 -0.06382443]\n",
      " [ 0.58054579 -0.09997886]\n",
      " [ 0.24390343  0.29793727]\n",
      " [ 0.23184199  0.42929516]]\n",
      "predicted_vel: tensor([[0.0224, 0.0119],\n",
      "        [0.0079, 0.0157],\n",
      "        [0.0322, 0.0052],\n",
      "        [0.0131, 0.0153]])\n",
      "true_vel: [[ 0.55510289 -0.05893923]\n",
      " [ 0.61908985 -0.076003  ]\n",
      " [ 0.20636183  0.25915418]\n",
      " [ 0.21221116  0.4392172 ]]\n",
      "predicted_vel: tensor([[0.0224, 0.0116],\n",
      "        [0.0080, 0.0158],\n",
      "        [0.0322, 0.0051],\n",
      "        [0.0131, 0.0151]])\n",
      "true_vel: [[ 0.57191848 -0.0544227 ]\n",
      " [ 0.6503136  -0.04936341]\n",
      " [ 0.17483044  0.21719141]\n",
      " [ 0.1957032   0.45002386]]\n",
      "predicted_vel: tensor([[0.0224, 0.0116],\n",
      "        [0.0079, 0.0158],\n",
      "        [0.0322, 0.0051],\n",
      "        [0.0132, 0.0151]])\n",
      "true_vel: [[ 0.58696519 -0.05010111]\n",
      " [ 0.67432963 -0.01942546]\n",
      " [ 0.14921381  0.17187191]\n",
      " [ 0.18225709  0.46108381]]\n",
      "predicted_vel: tensor([[0.0223, 0.0117],\n",
      "        [0.0079, 0.0158],\n",
      "        [0.0322, 0.0050],\n",
      "        [0.0132, 0.0151]])\n",
      "true_vel: [[ 0.60037665 -0.04585401]\n",
      " [ 0.69106765  0.01442057]\n",
      " [ 0.12970364  0.12305687]\n",
      " [ 0.17161778  0.47180572]]\n",
      "predicted_vel: tensor([[0.0223, 0.0117],\n",
      "        [0.0078, 0.0158],\n",
      "        [0.0322, 0.0050],\n",
      "        [0.0132, 0.0151]])\n",
      "true_vel: [[ 0.61233977 -0.04162375]\n",
      " [ 0.70032378  0.0527589 ]\n",
      " [ 0.11672359  0.07060905]\n",
      " [ 0.16337858  0.48168495]]\n",
      "predicted_vel: tensor([[0.0223, 0.0117],\n",
      "        [0.0078, 0.0158],\n",
      "        [0.0321, 0.0050],\n",
      "        [0.0133, 0.0151]])\n",
      "true_vel: [[ 0.62306457 -0.03741485]\n",
      " [ 0.70173551  0.09617558]\n",
      " [ 0.11093114  0.01433167]\n",
      " [ 0.1570345   0.49033675]]\n",
      "predicted_vel: tensor([[0.0223, 0.0117],\n",
      "        [0.0078, 0.0158],\n",
      "        [0.0321, 0.0049],\n",
      "        [0.0133, 0.0151]])\n",
      "true_vel: [[ 0.63276207 -0.03328738]\n",
      " [ 0.69467464  0.14532879]\n",
      " [ 0.11329155 -0.04612222]\n",
      " [ 0.15203746  0.49750997]]\n",
      "predicted_vel: tensor([[0.0223, 0.0118],\n",
      "        [0.0077, 0.0158],\n",
      "        [0.0321, 0.0049],\n",
      "        [0.0134, 0.0151]])\n",
      "true_vel: [[ 0.64162976 -0.02934734]\n",
      " [ 0.67802885  0.20107584]\n",
      " [ 0.12526493 -0.11138106]\n",
      " [ 0.14784218  0.50308171]]\n",
      "predicted_vel: tensor([[0.0223, 0.0118],\n",
      "        [0.0077, 0.0158],\n",
      "        [0.0321, 0.0049],\n",
      "        [0.0134, 0.0150]])\n",
      "true_vel: [[ 0.6498437  -0.02573659]\n",
      " [ 0.64978338  0.26467794]\n",
      " [ 0.14920386 -0.18255285]\n",
      " [ 0.14393479  0.50704065]]\n",
      "predicted_vel: tensor([[0.0223, 0.0118],\n",
      "        [0.0076, 0.0158],\n",
      "        [0.0321, 0.0049],\n",
      "        [0.0135, 0.0150]])\n",
      "true_vel: [[ 0.65755555 -0.02262448]\n",
      " [ 0.60615011  0.33813062]\n",
      " [ 0.18921681 -0.26154867]\n",
      " [ 0.13984325  0.50947169]]\n",
      "predicted_vel: tensor([[0.0222, 0.0119],\n",
      "        [0.0076, 0.0157],\n",
      "        [0.0320, 0.0048],\n",
      "        [0.0135, 0.0150]])\n",
      "true_vel: [[ 0.66489369 -0.02020382]\n",
      " [ 0.53947286  0.42471776]\n",
      " [ 0.25326247 -0.35164228]\n",
      " [ 0.1351367   0.51055748]]\n",
      "predicted_vel: tensor([[0.0222, 0.0119],\n",
      "        [0.0076, 0.0157],\n",
      "        [0.0320, 0.0048],\n",
      "        [0.0135, 0.0150]])\n",
      "true_vel: [[ 0.67196648 -0.0186956 ]\n",
      " [ 0.43210285  0.52984508]\n",
      " [ 0.3592638  -0.45833588]\n",
      " [ 0.12943259  0.51061554]]\n",
      "predicted_vel: tensor([[0.0222, 0.0119],\n",
      "        [0.0075, 0.0157],\n",
      "        [0.0320, 0.0048],\n",
      "        [0.0136, 0.0150]])\n",
      "true_vel: [[ 0.67886417 -0.01837367]\n",
      " [ 0.23240311  0.65997258]\n",
      " [ 0.55903835 -0.58837192]\n",
      " [ 0.12246009  0.51020216]]\n",
      "predicted_vel: tensor([[0.0222, 0.0120],\n",
      "        [0.0075, 0.0157],\n",
      "        [0.0320, 0.0048],\n",
      "        [0.0136, 0.0150]])\n",
      "true_vel: [[ 0.68563425 -0.01964355]\n",
      " [-0.30079409  0.75274363]\n",
      " [ 1.09356992 -0.68002776]\n",
      " [ 0.11435565  0.51035683]]\n",
      "predicted_vel: tensor([[0.0222, 0.0120],\n",
      "        [0.0075, 0.0157],\n",
      "        [0.0319, 0.0047],\n",
      "        [0.0137, 0.0150]])\n",
      "true_vel: [[ 0.69181571 -0.02292385]\n",
      " [-0.42102849 -1.0260097 ]\n",
      " [ 1.21455441  1.09934581]\n",
      " [ 0.10742409  0.51301689]]\n",
      "predicted_vel: tensor([[0.0222, 0.0120],\n",
      "        [0.0074, 0.0157],\n",
      "        [0.0319, 0.0047],\n",
      "        [0.0137, 0.0150]])\n",
      "true_vel: [[ 0.69601531 -0.02566002]\n",
      " [ 0.4707524  -0.72400422]\n",
      " [ 0.32067011  0.79621262]\n",
      " [ 0.1053279   0.51688077]]\n",
      "predicted_vel: tensor([[0.0222, 0.0121],\n",
      "        [0.0074, 0.0157],\n",
      "        [0.0319, 0.0047],\n",
      "        [0.0137, 0.0149]])\n",
      "true_vel: [[ 0.69881512 -0.02674495]\n",
      " [ 0.60063062 -0.47925512]\n",
      " [ 0.18799807  0.55020037]\n",
      " [ 0.10532192  0.51922885]]\n",
      "predicted_vel: tensor([[0.0221, 0.0121],\n",
      "        [0.0074, 0.0157],\n",
      "        [0.0319, 0.0046],\n",
      "        [0.0138, 0.0149]])\n",
      "true_vel: [[ 0.70067167 -0.02658136]\n",
      " [ 0.62973603 -0.33096004]\n",
      " [ 0.15669322  0.40106642]\n",
      " [ 0.10566481  0.51990412]]\n",
      "predicted_vel: tensor([[0.0221, 0.0121],\n",
      "        [0.0073, 0.0157],\n",
      "        [0.0319, 0.0046],\n",
      "        [0.0138, 0.0149]])\n",
      "true_vel: [[ 0.70181967 -0.02548055]\n",
      " [ 0.6303805  -0.22645718]\n",
      " [ 0.15498945  0.29615051]\n",
      " [ 0.10557611  0.51921637]]\n",
      "predicted_vel: tensor([[0.0221, 0.0122],\n",
      "        [0.0073, 0.0157],\n",
      "        [0.0318, 0.0046],\n",
      "        [0.0139, 0.0149]])\n",
      "true_vel: [[ 0.70242195 -0.02367995]\n",
      " [ 0.61988929 -0.14531314]\n",
      " [ 0.16574806  0.21488642]\n",
      " [ 0.10470642  0.51753581]]\n",
      "predicted_vel: tensor([[0.0221, 0.0122],\n",
      "        [0.0073, 0.0157],\n",
      "        [0.0318, 0.0046],\n",
      "        [0.0139, 0.0149]])\n",
      "true_vel: [[ 0.70260767 -0.02137195]\n",
      " [ 0.6040905  -0.07790967]\n",
      " [ 0.183137    0.14751152]\n",
      " [ 0.10293055  0.51519925]]\n",
      "predicted_vel: tensor([[0.0221, 0.0122],\n",
      "        [0.0072, 0.0157],\n",
      "        [0.0318, 0.0045],\n",
      "        [0.0139, 0.0149]])\n",
      "true_vel: [[ 0.70249774 -0.01873141]\n",
      " [ 0.58521946 -0.0189383 ]\n",
      " [ 0.20481538  0.08859411]\n",
      " [ 0.10225582  0.51250474]]\n",
      "predicted_vel: tensor([[0.0220, 0.0123],\n",
      "        [0.0072, 0.0156],\n",
      "        [0.0318, 0.0045],\n",
      "        [0.0140, 0.0149]])\n",
      "true_vel: [[ 0.70234007 -0.0160755 ]\n",
      " [ 0.56406891  0.03495471]\n",
      " [ 0.22982923  0.03468484]\n",
      " [ 0.10486734  0.5098651 ]]\n",
      "predicted_vel: tensor([[0.0220, 0.0123],\n",
      "        [0.0072, 0.0156],\n",
      "        [0.0317, 0.0045],\n",
      "        [0.0140, 0.0148]])\n",
      "true_vel: [[ 0.70224175 -0.01357738]\n",
      " [ 0.54070616  0.08619105]\n",
      " [ 0.25791891 -0.01670793]\n",
      " [ 0.10653182  0.50752341]]\n",
      "predicted_vel: tensor([[0.0220, 0.0123],\n",
      "        [0.0071, 0.0156],\n",
      "        [0.0317, 0.0045],\n",
      "        [0.0141, 0.0148]])\n",
      "true_vel: [[ 0.70224999 -0.01133793]\n",
      " [ 0.51471281  0.13679705]\n",
      " [ 0.28929011 -0.06766194]\n",
      " [ 0.1073905   0.50563197]]\n",
      "predicted_vel: tensor([[0.0220, 0.0123],\n",
      "        [0.0071, 0.0156],\n",
      "        [0.0317, 0.0044],\n",
      "        [0.0141, 0.0148]])\n",
      "true_vel: [[ 0.70240852 -0.00944691]\n",
      " [ 0.48518364  0.18877715]\n",
      " [ 0.32461739 -0.12021592]\n",
      " [ 0.10760556  0.50431483]]\n",
      "predicted_vel: tensor([[0.0220, 0.0124],\n",
      "        [0.0071, 0.0156],\n",
      "        [0.0317, 0.0044],\n",
      "        [0.0141, 0.0148]])\n",
      "true_vel: [[ 0.70275909 -0.00798567]\n",
      " [ 0.45051016  0.24450653]\n",
      " [ 0.36526042 -0.17676006]\n",
      " [ 0.10735901  0.50366835]]\n",
      "predicted_vel: tensor([[0.0220, 0.0124],\n",
      "        [0.0071, 0.0156],\n",
      "        [0.0316, 0.0044],\n",
      "        [0.0142, 0.0148]])\n",
      "true_vel: [[ 0.70334346 -0.00703044]\n",
      " [ 0.40777589  0.30736216]\n",
      " [ 0.41386737 -0.24066209]\n",
      " [ 0.10685215  0.50375953]]\n",
      "predicted_vel: tensor([[0.0219, 0.0124],\n",
      "        [0.0070, 0.0156],\n",
      "        [0.0316, 0.0044],\n",
      "        [0.0142, 0.0148]])\n",
      "true_vel: [[ 0.70420638 -0.00665726]\n",
      " [ 0.35109243  0.38312196]\n",
      " [ 0.47603573 -0.31765904]\n",
      " [ 0.10630588  0.50462348]]\n",
      "predicted_vel: tensor([[0.0219, 0.0125],\n",
      "        [0.0070, 0.0156],\n",
      "        [0.0316, 0.0043],\n",
      "        [0.0142, 0.0148]])\n",
      "true_vel: [[ 0.70540128 -0.00695114]\n",
      " [ 0.26597387  0.48406631]\n",
      " [ 0.56592797 -0.41994742]\n",
      " [ 0.10596515  0.50626139]]\n",
      "predicted_vel: tensor([[0.0219, 0.0125],\n",
      "        [0.0070, 0.0156],\n",
      "        [0.0316, 0.0043],\n",
      "        [0.0143, 0.0148]])\n",
      "true_vel: [[ 0.70399952 -0.00802951]\n",
      " [ 0.0951741   0.64672678]\n",
      " [ 0.73929488 -0.58390786]\n",
      " [ 0.10612198  0.50863974]]\n",
      "predicted_vel: tensor([[0.0219, 0.0125],\n",
      "        [0.0070, 0.0156],\n",
      "        [0.0315, 0.0043],\n",
      "        [0.0143, 0.0147]])\n",
      "true_vel: [[ 0.70094565 -0.0101489 ]\n",
      " [-1.01122428  1.08264422]\n",
      " [ 1.84670874 -1.02074795]\n",
      " [ 0.10726083  0.51168178]]\n",
      "predicted_vel: tensor([[0.0219, 0.0126],\n",
      "        [0.0069, 0.0155],\n",
      "        [0.0315, 0.0043],\n",
      "        [0.0144, 0.0147]])\n",
      "true_vel: [[ 0.69804605 -0.01319097]\n",
      " [ 0.70164604 -0.50459301]\n",
      " [ 0.13345049  0.56670019]\n",
      " [ 0.10971402  0.51451267]]\n",
      "predicted_vel: tensor([[0.0218, 0.0126],\n",
      "        [0.0069, 0.0155],\n",
      "        [0.0315, 0.0042],\n",
      "        [0.0144, 0.0147]])\n",
      "true_vel: [[ 0.69467576 -0.01573302]\n",
      " [ 0.66506886 -0.03509894]\n",
      " [ 0.16966724  0.09717729]\n",
      " [ 0.11140719  0.51708356]]\n",
      "predicted_vel: tensor([[0.0218, 0.0126],\n",
      "        [0.0069, 0.0155],\n",
      "        [0.0315, 0.0042],\n",
      "        [0.0144, 0.0147]])\n",
      "true_vel: [[ 0.69138105 -0.01808751]\n",
      " [ 0.55000815  0.32296961]\n",
      " [ 0.28469943 -0.26131121]\n",
      " [ 0.11256805  0.51985801]]\n",
      "predicted_vel: tensor([[0.0218, 0.0127],\n",
      "        [0.0069, 0.0155],\n",
      "        [0.0314, 0.0042],\n",
      "        [0.0145, 0.0147]])\n",
      "true_vel: [[ 0.68853009 -0.02058601]\n",
      " [ 0.21459676  0.8646136 ]\n",
      " [ 0.62034767 -0.80358397]\n",
      " [ 0.11362126  0.52298527]]\n",
      "predicted_vel: tensor([[0.0218, 0.0127],\n",
      "        [0.0068, 0.0155],\n",
      "        [0.0314, 0.0042],\n",
      "        [0.0145, 0.0147]])\n",
      "true_vel: [[ 0.68641071 -0.02387749]\n",
      " [-0.05566776 -0.80601316]\n",
      " [ 0.89050618  0.86709051]\n",
      " [ 0.11545591  0.52622906]]\n",
      "predicted_vel: tensor([[0.0218, 0.0127],\n",
      "        [0.0068, 0.0155],\n",
      "        [0.0314, 0.0041],\n",
      "        [0.0145, 0.0147]])\n",
      "true_vel: [[ 0.68390305 -0.02084569]\n",
      " [ 0.26916623 -0.45770859]\n",
      " [ 0.56471353  0.51976199]\n",
      " [ 0.11768025  0.52897625]]\n"
     ]
    },
    {
     "data": {
      "image/png": "[encoded data removed]",
      "text/plain": [
       "<Figure size 400x400 with 1 Axes>"
      ]
     },
     "metadata": {},
     "output_type": "display_data"
    },
    {
     "data": {
      "image/png": "[encoded data removed]",
      "text/plain": [
       "<Figure size 400x400 with 1 Axes>"
      ]
     },
     "metadata": {},
     "output_type": "display_data"
    },
    {
     "name": "stdout",
     "output_type": "stream",
     "text": [
      "Test trajectory 940\n",
      "predicted_vel: tensor([[ 0.0466,  0.0068],\n",
      "        [ 0.0335, -0.0064],\n",
      "        [ 0.0504,  0.0048],\n",
      "        [ 0.0270,  0.0395],\n",
      "        [ 0.0404,  0.0161]])\n",
      "true_vel: [[ 0.53647451 -0.06382443]\n",
      " [ 0.58054579 -0.09997886]\n",
      " [ 0.24390343  0.29793727]\n",
      " [ 0.23184199  0.42929516]]\n",
      "predicted_vel: tensor([[0.0471, 0.0298],\n",
      "        [0.0326, 0.0218],\n",
      "        [0.0571, 0.0287],\n",
      "        [0.0292, 0.0487],\n",
      "        [0.0446, 0.0328]])\n",
      "true_vel: [[ 0.55510289 -0.05893923]\n",
      " [ 0.61908985 -0.076003  ]\n",
      " [ 0.20636183  0.25915418]\n",
      " [ 0.21221116  0.4392172 ]]\n",
      "predicted_vel: tensor([[0.0473, 0.0295],\n",
      "        [0.0332, 0.0215],\n",
      "        [0.0571, 0.0281],\n",
      "        [0.0293, 0.0487],\n",
      "        [0.0446, 0.0325]])\n",
      "true_vel: [[ 0.57191848 -0.0544227 ]\n",
      " [ 0.6503136  -0.04936341]\n",
      " [ 0.17483044  0.21719141]\n",
      " [ 0.1957032   0.45002386]]\n",
      "predicted_vel: tensor([[0.0473, 0.0295],\n",
      "        [0.0333, 0.0215],\n",
      "        [0.0571, 0.0280],\n",
      "        [0.0293, 0.0487],\n",
      "        [0.0446, 0.0325]])\n",
      "true_vel: [[ 0.58696519 -0.05010111]\n",
      " [ 0.67432963 -0.01942546]\n",
      " [ 0.14921381  0.17187191]\n",
      " [ 0.18225709  0.46108381]]\n",
      "predicted_vel: tensor([[0.0473, 0.0295],\n",
      "        [0.0335, 0.0215],\n",
      "        [0.0571, 0.0279],\n",
      "        [0.0293, 0.0488],\n",
      "        [0.0445, 0.0325]])\n",
      "true_vel: [[ 0.60037665 -0.04585401]\n",
      " [ 0.69106765  0.01442057]\n",
      " [ 0.12970364  0.12305687]\n",
      " [ 0.17161778  0.47180572]]\n",
      "predicted_vel: tensor([[0.0473, 0.0295],\n",
      "        [0.0336, 0.0215],\n",
      "        [0.0571, 0.0279],\n",
      "        [0.0293, 0.0489],\n",
      "        [0.0445, 0.0324]])\n",
      "true_vel: [[ 0.61233977 -0.04162375]\n",
      " [ 0.70032378  0.0527589 ]\n",
      " [ 0.11672359  0.07060905]\n",
      " [ 0.16337858  0.48168495]]\n",
      "predicted_vel: tensor([[0.0473, 0.0295],\n",
      "        [0.0338, 0.0215],\n",
      "        [0.0571, 0.0278],\n",
      "        [0.0292, 0.0489],\n",
      "        [0.0444, 0.0324]])\n",
      "true_vel: [[ 0.62306457 -0.03741485]\n",
      " [ 0.70173551  0.09617558]\n",
      " [ 0.11093114  0.01433167]\n",
      " [ 0.1570345   0.49033675]]\n",
      "predicted_vel: tensor([[0.0473, 0.0295],\n",
      "        [0.0340, 0.0215],\n",
      "        [0.0571, 0.0277],\n",
      "        [0.0292, 0.0490],\n",
      "        [0.0444, 0.0324]])\n",
      "true_vel: [[ 0.63276207 -0.03328738]\n",
      " [ 0.69467464  0.14532879]\n",
      " [ 0.11329155 -0.04612222]\n",
      " [ 0.15203746  0.49750997]]\n",
      "predicted_vel: tensor([[0.0474, 0.0295],\n",
      "        [0.0341, 0.0215],\n",
      "        [0.0571, 0.0276],\n",
      "        [0.0292, 0.0490],\n",
      "        [0.0443, 0.0323]])\n",
      "true_vel: [[ 0.64162976 -0.02934734]\n",
      " [ 0.67802885  0.20107584]\n",
      " [ 0.12526493 -0.11138106]\n",
      " [ 0.14784218  0.50308171]]\n",
      "predicted_vel: tensor([[0.0474, 0.0295],\n",
      "        [0.0343, 0.0215],\n",
      "        [0.0571, 0.0276],\n",
      "        [0.0292, 0.0491],\n",
      "        [0.0443, 0.0323]])\n",
      "true_vel: [[ 0.6498437  -0.02573659]\n",
      " [ 0.64978338  0.26467794]\n",
      " [ 0.14920386 -0.18255285]\n",
      " [ 0.14393479  0.50704065]]\n",
      "predicted_vel: tensor([[0.0474, 0.0295],\n",
      "        [0.0344, 0.0215],\n",
      "        [0.0570, 0.0275],\n",
      "        [0.0292, 0.0491],\n",
      "        [0.0442, 0.0323]])\n",
      "true_vel: [[ 0.65755555 -0.02262448]\n",
      " [ 0.60615011  0.33813062]\n",
      " [ 0.18921681 -0.26154867]\n",
      " [ 0.13984325  0.50947169]]\n",
      "predicted_vel: tensor([[0.0474, 0.0295],\n",
      "        [0.0346, 0.0215],\n",
      "        [0.0570, 0.0274],\n",
      "        [0.0291, 0.0491],\n",
      "        [0.0442, 0.0323]])\n",
      "true_vel: [[ 0.66489369 -0.02020382]\n",
      " [ 0.53947286  0.42471776]\n",
      " [ 0.25326247 -0.35164228]\n",
      " [ 0.1351367   0.51055748]]\n",
      "predicted_vel: tensor([[0.0474, 0.0295],\n",
      "        [0.0347, 0.0215],\n",
      "        [0.0570, 0.0273],\n",
      "        [0.0291, 0.0492],\n",
      "        [0.0441, 0.0322]])\n",
      "true_vel: [[ 0.67196648 -0.0186956 ]\n",
      " [ 0.43210285  0.52984508]\n",
      " [ 0.3592638  -0.45833588]\n",
      " [ 0.12943259  0.51061554]]\n",
      "predicted_vel: tensor([[0.0474, 0.0295],\n",
      "        [0.0349, 0.0215],\n",
      "        [0.0570, 0.0272],\n",
      "        [0.0291, 0.0492],\n",
      "        [0.0441, 0.0322]])\n",
      "true_vel: [[ 0.67886417 -0.01837367]\n",
      " [ 0.23240311  0.65997258]\n",
      " [ 0.55903835 -0.58837192]\n",
      " [ 0.12246009  0.51020216]]\n",
      "predicted_vel: tensor([[0.0474, 0.0295],\n",
      "        [0.0350, 0.0215],\n",
      "        [0.0570, 0.0272],\n",
      "        [0.0291, 0.0493],\n",
      "        [0.0440, 0.0322]])\n",
      "true_vel: [[ 0.68563425 -0.01964355]\n",
      " [-0.30079409  0.75274363]\n",
      " [ 1.09356992 -0.68002776]\n",
      " [ 0.11435565  0.51035683]]\n",
      "predicted_vel: tensor([[0.0474, 0.0295],\n",
      "        [0.0352, 0.0215],\n",
      "        [0.0570, 0.0271],\n",
      "        [0.0291, 0.0493],\n",
      "        [0.0440, 0.0322]])\n",
      "true_vel: [[ 0.69181571 -0.02292385]\n",
      " [-0.42102849 -1.0260097 ]\n",
      " [ 1.21455441  1.09934581]\n",
      " [ 0.10742409  0.51301689]]\n",
      "predicted_vel: tensor([[0.0474, 0.0295],\n",
      "        [0.0353, 0.0215],\n",
      "        [0.0570, 0.0270],\n",
      "        [0.0291, 0.0493],\n",
      "        [0.0439, 0.0321]])\n",
      "true_vel: [[ 0.69601531 -0.02566002]\n",
      " [ 0.4707524  -0.72400422]\n",
      " [ 0.32067011  0.79621262]\n",
      " [ 0.1053279   0.51688077]]\n",
      "predicted_vel: tensor([[0.0474, 0.0295],\n",
      "        [0.0355, 0.0215],\n",
      "        [0.0569, 0.0269],\n",
      "        [0.0291, 0.0494],\n",
      "        [0.0439, 0.0321]])\n",
      "true_vel: [[ 0.69881512 -0.02674495]\n",
      " [ 0.60063062 -0.47925512]\n",
      " [ 0.18799807  0.55020037]\n",
      " [ 0.10532192  0.51922885]]\n",
      "predicted_vel: tensor([[0.0475, 0.0295],\n",
      "        [0.0356, 0.0215],\n",
      "        [0.0569, 0.0268],\n",
      "        [0.0290, 0.0494],\n",
      "        [0.0438, 0.0321]])\n",
      "true_vel: [[ 0.70067167 -0.02658136]\n",
      " [ 0.62973603 -0.33096004]\n",
      " [ 0.15669322  0.40106642]\n",
      " [ 0.10566481  0.51990412]]\n",
      "predicted_vel: tensor([[0.0475, 0.0295],\n",
      "        [0.0357, 0.0215],\n",
      "        [0.0569, 0.0268],\n",
      "        [0.0290, 0.0494],\n",
      "        [0.0438, 0.0321]])\n",
      "true_vel: [[ 0.70181967 -0.02548055]\n",
      " [ 0.6303805  -0.22645718]\n",
      " [ 0.15498945  0.29615051]\n",
      " [ 0.10557611  0.51921637]]\n",
      "predicted_vel: tensor([[0.0475, 0.0295],\n",
      "        [0.0359, 0.0216],\n",
      "        [0.0569, 0.0267],\n",
      "        [0.0290, 0.0495],\n",
      "        [0.0437, 0.0320]])\n",
      "true_vel: [[ 0.70242195 -0.02367995]\n",
      " [ 0.61988929 -0.14531314]\n",
      " [ 0.16574806  0.21488642]\n",
      " [ 0.10470642  0.51753581]]\n",
      "predicted_vel: tensor([[0.0475, 0.0295],\n",
      "        [0.0360, 0.0216],\n",
      "        [0.0569, 0.0266],\n",
      "        [0.0290, 0.0495],\n",
      "        [0.0437, 0.0320]])\n",
      "true_vel: [[ 0.70260767 -0.02137195]\n",
      " [ 0.6040905  -0.07790967]\n",
      " [ 0.183137    0.14751152]\n",
      " [ 0.10293055  0.51519925]]\n",
      "predicted_vel: tensor([[0.0475, 0.0295],\n",
      "        [0.0362, 0.0216],\n",
      "        [0.0568, 0.0265],\n",
      "        [0.0290, 0.0495],\n",
      "        [0.0436, 0.0320]])\n",
      "true_vel: [[ 0.70249774 -0.01873141]\n",
      " [ 0.58521946 -0.0189383 ]\n",
      " [ 0.20481538  0.08859411]\n",
      " [ 0.10225582  0.51250474]]\n",
      "predicted_vel: tensor([[0.0475, 0.0295],\n",
      "        [0.0363, 0.0216],\n",
      "        [0.0568, 0.0264],\n",
      "        [0.0290, 0.0495],\n",
      "        [0.0435, 0.0320]])\n",
      "true_vel: [[ 0.70234007 -0.0160755 ]\n",
      " [ 0.56406891  0.03495471]\n",
      " [ 0.22982923  0.03468484]\n",
      " [ 0.10486734  0.5098651 ]]\n",
      "predicted_vel: tensor([[0.0475, 0.0295],\n",
      "        [0.0365, 0.0216],\n",
      "        [0.0568, 0.0263],\n",
      "        [0.0290, 0.0495],\n",
      "        [0.0435, 0.0319]])\n",
      "true_vel: [[ 0.70224175 -0.01357738]\n",
      " [ 0.54070616  0.08619105]\n",
      " [ 0.25791891 -0.01670793]\n",
      " [ 0.10653182  0.50752341]]\n",
      "predicted_vel: tensor([[0.0475, 0.0295],\n",
      "        [0.0366, 0.0216],\n",
      "        [0.0568, 0.0263],\n",
      "        [0.0290, 0.0496],\n",
      "        [0.0434, 0.0319]])\n",
      "true_vel: [[ 0.70224999 -0.01133793]\n",
      " [ 0.51471281  0.13679705]\n",
      " [ 0.28929011 -0.06766194]\n",
      " [ 0.1073905   0.50563197]]\n",
      "predicted_vel: tensor([[0.0475, 0.0295],\n",
      "        [0.0367, 0.0216],\n",
      "        [0.0568, 0.0262],\n",
      "        [0.0289, 0.0496],\n",
      "        [0.0434, 0.0319]])\n",
      "true_vel: [[ 0.70240852 -0.00944691]\n",
      " [ 0.48518364  0.18877715]\n",
      " [ 0.32461739 -0.12021592]\n",
      " [ 0.10760556  0.50431483]]\n",
      "predicted_vel: tensor([[0.0475, 0.0295],\n",
      "        [0.0369, 0.0216],\n",
      "        [0.0567, 0.0261],\n",
      "        [0.0289, 0.0496],\n",
      "        [0.0433, 0.0319]])\n",
      "true_vel: [[ 0.70275909 -0.00798567]\n",
      " [ 0.45051016  0.24450653]\n",
      " [ 0.36526042 -0.17676006]\n",
      " [ 0.10735901  0.50366835]]\n",
      "predicted_vel: tensor([[0.0475, 0.0295],\n",
      "        [0.0370, 0.0216],\n",
      "        [0.0567, 0.0260],\n",
      "        [0.0289, 0.0496],\n",
      "        [0.0432, 0.0319]])\n",
      "true_vel: [[ 0.70334346 -0.00703044]\n",
      " [ 0.40777589  0.30736216]\n",
      " [ 0.41386737 -0.24066209]\n",
      " [ 0.10685215  0.50375953]]\n",
      "predicted_vel: tensor([[0.0475, 0.0295],\n",
      "        [0.0371, 0.0216],\n",
      "        [0.0567, 0.0259],\n",
      "        [0.0289, 0.0496],\n",
      "        [0.0432, 0.0318]])\n",
      "true_vel: [[ 0.70420638 -0.00665726]\n",
      " [ 0.35109243  0.38312196]\n",
      " [ 0.47603573 -0.31765904]\n",
      " [ 0.10630588  0.50462348]]\n",
      "predicted_vel: tensor([[0.0475, 0.0295],\n",
      "        [0.0373, 0.0216],\n",
      "        [0.0566, 0.0258],\n",
      "        [0.0289, 0.0496],\n",
      "        [0.0431, 0.0318]])\n",
      "true_vel: [[ 0.70540128 -0.00695114]\n",
      " [ 0.26597387  0.48406631]\n",
      " [ 0.56592797 -0.41994742]\n",
      " [ 0.10596515  0.50626139]]\n",
      "predicted_vel: tensor([[0.0475, 0.0295],\n",
      "        [0.0374, 0.0216],\n",
      "        [0.0566, 0.0258],\n",
      "        [0.0289, 0.0496],\n",
      "        [0.0431, 0.0318]])\n",
      "true_vel: [[ 0.70399952 -0.00802951]\n",
      " [ 0.0951741   0.64672678]\n",
      " [ 0.73929488 -0.58390786]\n",
      " [ 0.10612198  0.50863974]]\n",
      "predicted_vel: tensor([[0.0475, 0.0295],\n",
      "        [0.0375, 0.0216],\n",
      "        [0.0566, 0.0257],\n",
      "        [0.0289, 0.0496],\n",
      "        [0.0430, 0.0318]])\n",
      "true_vel: [[ 0.70094565 -0.0101489 ]\n",
      " [-1.01122428  1.08264422]\n",
      " [ 1.84670874 -1.02074795]\n",
      " [ 0.10726083  0.51168178]]\n",
      "predicted_vel: tensor([[0.0475, 0.0295],\n",
      "        [0.0376, 0.0216],\n",
      "        [0.0566, 0.0256],\n",
      "        [0.0289, 0.0496],\n",
      "        [0.0429, 0.0318]])\n",
      "true_vel: [[ 0.69804605 -0.01319097]\n",
      " [ 0.70164604 -0.50459301]\n",
      " [ 0.13345049  0.56670019]\n",
      " [ 0.10971402  0.51451267]]\n",
      "predicted_vel: tensor([[0.0475, 0.0295],\n",
      "        [0.0378, 0.0216],\n",
      "        [0.0565, 0.0255],\n",
      "        [0.0289, 0.0496],\n",
      "        [0.0429, 0.0318]])\n",
      "true_vel: [[ 0.69467576 -0.01573302]\n",
      " [ 0.66506886 -0.03509894]\n",
      " [ 0.16966724  0.09717729]\n",
      " [ 0.11140719  0.51708356]]\n",
      "predicted_vel: tensor([[0.0475, 0.0295],\n",
      "        [0.0379, 0.0216],\n",
      "        [0.0565, 0.0254],\n",
      "        [0.0289, 0.0496],\n",
      "        [0.0428, 0.0317]])\n",
      "true_vel: [[ 0.69138105 -0.01808751]\n",
      " [ 0.55000815  0.32296961]\n",
      " [ 0.28469943 -0.26131121]\n",
      " [ 0.11256805  0.51985801]]\n",
      "predicted_vel: tensor([[0.0475, 0.0295],\n",
      "        [0.0380, 0.0216],\n",
      "        [0.0565, 0.0253],\n",
      "        [0.0288, 0.0496],\n",
      "        [0.0427, 0.0317]])\n",
      "true_vel: [[ 0.68853009 -0.02058601]\n",
      " [ 0.21459676  0.8646136 ]\n",
      " [ 0.62034767 -0.80358397]\n",
      " [ 0.11362126  0.52298527]]\n",
      "predicted_vel: tensor([[0.0475, 0.0295],\n",
      "        [0.0381, 0.0216],\n",
      "        [0.0564, 0.0253],\n",
      "        [0.0288, 0.0496],\n",
      "        [0.0427, 0.0317]])\n",
      "true_vel: [[ 0.68641071 -0.02387749]\n",
      " [-0.05566776 -0.80601316]\n",
      " [ 0.89050618  0.86709051]\n",
      " [ 0.11545591  0.52622906]]\n",
      "predicted_vel: tensor([[0.0475, 0.0295],\n",
      "        [0.0382, 0.0216],\n",
      "        [0.0564, 0.0252],\n",
      "        [0.0288, 0.0496],\n",
      "        [0.0426, 0.0317]])\n",
      "true_vel: [[ 0.68390305 -0.02084569]\n",
      " [ 0.26916623 -0.45770859]\n",
      " [ 0.56471353  0.51976199]\n",
      " [ 0.11768025  0.52897625]]\n"
     ]
    },
    {
     "data": {
      "image/png": "[encoded data removed]",
      "text/plain": [
       "<Figure size 400x400 with 1 Axes>"
      ]
     },
     "metadata": {},
     "output_type": "display_data"
    },
    {
     "data": {
      "image/png": "[encoded data removed]",
      "text/plain": [
       "<Figure size 400x400 with 1 Axes>"
      ]
     },
     "metadata": {},
     "output_type": "display_data"
    },
    {
     "name": "stdout",
     "output_type": "stream",
     "text": [
      "Test trajectory 929\n",
      "predicted_vel: tensor([[ 0.0622, -0.0061],\n",
      "        [ 0.0282, -0.0134],\n",
      "        [ 0.0225, -0.0212]])\n",
      "true_vel: [[ 0.53647451 -0.06382443]\n",
      " [ 0.58054579 -0.09997886]\n",
      " [ 0.24390343  0.29793727]\n",
      " [ 0.23184199  0.42929516]]\n",
      "predicted_vel: tensor([[ 0.0534, -0.0293],\n",
      "        [ 0.0495, -0.0079],\n",
      "        [ 0.0481, -0.0121]])\n",
      "true_vel: [[ 0.55510289 -0.05893923]\n",
      " [ 0.61908985 -0.076003  ]\n",
      " [ 0.20636183  0.25915418]\n",
      " [ 0.21221116  0.4392172 ]]\n",
      "predicted_vel: tensor([[ 0.0531, -0.0285],\n",
      "        [ 0.0476, -0.0086],\n",
      "        [ 0.0459, -0.0129]])\n",
      "true_vel: [[ 0.57191848 -0.0544227 ]\n",
      " [ 0.6503136  -0.04936341]\n",
      " [ 0.17483044  0.21719141]\n",
      " [ 0.1957032   0.45002386]]\n",
      "predicted_vel: tensor([[ 0.0531, -0.0285],\n",
      "        [ 0.0477, -0.0085],\n",
      "        [ 0.0461, -0.0128]])\n",
      "true_vel: [[ 0.58696519 -0.05010111]\n",
      " [ 0.67432963 -0.01942546]\n",
      " [ 0.14921381  0.17187191]\n",
      " [ 0.18225709  0.46108381]]\n",
      "predicted_vel: tensor([[ 0.0530, -0.0285],\n",
      "        [ 0.0476, -0.0084],\n",
      "        [ 0.0460, -0.0128]])\n",
      "true_vel: [[ 0.60037665 -0.04585401]\n",
      " [ 0.69106765  0.01442057]\n",
      " [ 0.12970364  0.12305687]\n",
      " [ 0.17161778  0.47180572]]\n",
      "predicted_vel: tensor([[ 0.0530, -0.0284],\n",
      "        [ 0.0475, -0.0084],\n",
      "        [ 0.0459, -0.0128]])\n",
      "true_vel: [[ 0.61233977 -0.04162375]\n",
      " [ 0.70032378  0.0527589 ]\n",
      " [ 0.11672359  0.07060905]\n",
      " [ 0.16337858  0.48168495]]\n",
      "predicted_vel: tensor([[ 0.0529, -0.0284],\n",
      "        [ 0.0475, -0.0083],\n",
      "        [ 0.0459, -0.0127]])\n",
      "true_vel: [[ 0.62306457 -0.03741485]\n",
      " [ 0.70173551  0.09617558]\n",
      " [ 0.11093114  0.01433167]\n",
      " [ 0.1570345   0.49033675]]\n",
      "predicted_vel: tensor([[ 0.0528, -0.0283],\n",
      "        [ 0.0474, -0.0083],\n",
      "        [ 0.0458, -0.0127]])\n",
      "true_vel: [[ 0.63276207 -0.03328738]\n",
      " [ 0.69467464  0.14532879]\n",
      " [ 0.11329155 -0.04612222]\n",
      " [ 0.15203746  0.49750997]]\n",
      "predicted_vel: tensor([[ 0.0528, -0.0283],\n",
      "        [ 0.0474, -0.0082],\n",
      "        [ 0.0458, -0.0127]])\n",
      "true_vel: [[ 0.64162976 -0.02934734]\n",
      " [ 0.67802885  0.20107584]\n",
      " [ 0.12526493 -0.11138106]\n",
      " [ 0.14784218  0.50308171]]\n",
      "predicted_vel: tensor([[ 0.0527, -0.0282],\n",
      "        [ 0.0473, -0.0082],\n",
      "        [ 0.0457, -0.0126]])\n",
      "true_vel: [[ 0.6498437  -0.02573659]\n",
      " [ 0.64978338  0.26467794]\n",
      " [ 0.14920386 -0.18255285]\n",
      " [ 0.14393479  0.50704065]]\n",
      "predicted_vel: tensor([[ 0.0526, -0.0282],\n",
      "        [ 0.0472, -0.0081],\n",
      "        [ 0.0457, -0.0126]])\n",
      "true_vel: [[ 0.65755555 -0.02262448]\n",
      " [ 0.60615011  0.33813062]\n",
      " [ 0.18921681 -0.26154867]\n",
      " [ 0.13984325  0.50947169]]\n",
      "predicted_vel: tensor([[ 0.0526, -0.0282],\n",
      "        [ 0.0472, -0.0081],\n",
      "        [ 0.0456, -0.0125]])\n",
      "true_vel: [[ 0.66489369 -0.02020382]\n",
      " [ 0.53947286  0.42471776]\n",
      " [ 0.25326247 -0.35164228]\n",
      " [ 0.1351367   0.51055748]]\n",
      "predicted_vel: tensor([[ 0.0525, -0.0281],\n",
      "        [ 0.0471, -0.0080],\n",
      "        [ 0.0455, -0.0125]])\n",
      "true_vel: [[ 0.67196648 -0.0186956 ]\n",
      " [ 0.43210285  0.52984508]\n",
      " [ 0.3592638  -0.45833588]\n",
      " [ 0.12943259  0.51061554]]\n",
      "predicted_vel: tensor([[ 0.0524, -0.0281],\n",
      "        [ 0.0471, -0.0080],\n",
      "        [ 0.0455, -0.0125]])\n",
      "true_vel: [[ 0.67886417 -0.01837367]\n",
      " [ 0.23240311  0.65997258]\n",
      " [ 0.55903835 -0.58837192]\n",
      " [ 0.12246009  0.51020216]]\n",
      "predicted_vel: tensor([[ 0.0523, -0.0280],\n",
      "        [ 0.0470, -0.0079],\n",
      "        [ 0.0454, -0.0124]])\n",
      "true_vel: [[ 0.68563425 -0.01964355]\n",
      " [-0.30079409  0.75274363]\n",
      " [ 1.09356992 -0.68002776]\n",
      " [ 0.11435565  0.51035683]]\n",
      "predicted_vel: tensor([[ 0.0523, -0.0280],\n",
      "        [ 0.0470, -0.0079],\n",
      "        [ 0.0454, -0.0124]])\n",
      "true_vel: [[ 0.69181571 -0.02292385]\n",
      " [-0.42102849 -1.0260097 ]\n",
      " [ 1.21455441  1.09934581]\n",
      " [ 0.10742409  0.51301689]]\n",
      "predicted_vel: tensor([[ 0.0522, -0.0279],\n",
      "        [ 0.0469, -0.0078],\n",
      "        [ 0.0453, -0.0123]])\n",
      "true_vel: [[ 0.69601531 -0.02566002]\n",
      " [ 0.4707524  -0.72400422]\n",
      " [ 0.32067011  0.79621262]\n",
      " [ 0.1053279   0.51688077]]\n",
      "predicted_vel: tensor([[ 0.0521, -0.0279],\n",
      "        [ 0.0468, -0.0078],\n",
      "        [ 0.0452, -0.0123]])\n",
      "true_vel: [[ 0.69881512 -0.02674495]\n",
      " [ 0.60063062 -0.47925512]\n",
      " [ 0.18799807  0.55020037]\n",
      " [ 0.10532192  0.51922885]]\n",
      "predicted_vel: tensor([[ 0.0520, -0.0278],\n",
      "        [ 0.0468, -0.0077],\n",
      "        [ 0.0452, -0.0123]])\n",
      "true_vel: [[ 0.70067167 -0.02658136]\n",
      " [ 0.62973603 -0.33096004]\n",
      " [ 0.15669322  0.40106642]\n",
      " [ 0.10566481  0.51990412]]\n",
      "predicted_vel: tensor([[ 0.0520, -0.0278],\n",
      "        [ 0.0467, -0.0077],\n",
      "        [ 0.0451, -0.0122]])\n",
      "true_vel: [[ 0.70181967 -0.02548055]\n",
      " [ 0.6303805  -0.22645718]\n",
      " [ 0.15498945  0.29615051]\n",
      " [ 0.10557611  0.51921637]]\n",
      "predicted_vel: tensor([[ 0.0519, -0.0277],\n",
      "        [ 0.0467, -0.0076],\n",
      "        [ 0.0451, -0.0122]])\n",
      "true_vel: [[ 0.70242195 -0.02367995]\n",
      " [ 0.61988929 -0.14531314]\n",
      " [ 0.16574806  0.21488642]\n",
      " [ 0.10470642  0.51753581]]\n",
      "predicted_vel: tensor([[ 0.0518, -0.0277],\n",
      "        [ 0.0466, -0.0076],\n",
      "        [ 0.0450, -0.0121]])\n",
      "true_vel: [[ 0.70260767 -0.02137195]\n",
      " [ 0.6040905  -0.07790967]\n",
      " [ 0.183137    0.14751152]\n",
      " [ 0.10293055  0.51519925]]\n",
      "predicted_vel: tensor([[ 0.0517, -0.0276],\n",
      "        [ 0.0466, -0.0075],\n",
      "        [ 0.0450, -0.0121]])\n",
      "true_vel: [[ 0.70249774 -0.01873141]\n",
      " [ 0.58521946 -0.0189383 ]\n",
      " [ 0.20481538  0.08859411]\n",
      " [ 0.10225582  0.51250474]]\n",
      "predicted_vel: tensor([[ 0.0517, -0.0275],\n",
      "        [ 0.0465, -0.0074],\n",
      "        [ 0.0449, -0.0120]])\n",
      "true_vel: [[ 0.70234007 -0.0160755 ]\n",
      " [ 0.56406891  0.03495471]\n",
      " [ 0.22982923  0.03468484]\n",
      " [ 0.10486734  0.5098651 ]]\n",
      "predicted_vel: tensor([[ 0.0516, -0.0275],\n",
      "        [ 0.0464, -0.0074],\n",
      "        [ 0.0448, -0.0120]])\n",
      "true_vel: [[ 0.70224175 -0.01357738]\n",
      " [ 0.54070616  0.08619105]\n",
      " [ 0.25791891 -0.01670793]\n",
      " [ 0.10653182  0.50752341]]\n",
      "predicted_vel: tensor([[ 0.0515, -0.0274],\n",
      "        [ 0.0464, -0.0073],\n",
      "        [ 0.0448, -0.0120]])\n",
      "true_vel: [[ 0.70224999 -0.01133793]\n",
      " [ 0.51471281  0.13679705]\n",
      " [ 0.28929011 -0.06766194]\n",
      " [ 0.1073905   0.50563197]]\n",
      "predicted_vel: tensor([[ 0.0514, -0.0274],\n",
      "        [ 0.0463, -0.0073],\n",
      "        [ 0.0447, -0.0119]])\n",
      "true_vel: [[ 0.70240852 -0.00944691]\n",
      " [ 0.48518364  0.18877715]\n",
      " [ 0.32461739 -0.12021592]\n",
      " [ 0.10760556  0.50431483]]\n",
      "predicted_vel: tensor([[ 0.0514, -0.0273],\n",
      "        [ 0.0463, -0.0072],\n",
      "        [ 0.0447, -0.0119]])\n",
      "true_vel: [[ 0.70275909 -0.00798567]\n",
      " [ 0.45051016  0.24450653]\n",
      " [ 0.36526042 -0.17676006]\n",
      " [ 0.10735901  0.50366835]]\n",
      "predicted_vel: tensor([[ 0.0513, -0.0273],\n",
      "        [ 0.0462, -0.0072],\n",
      "        [ 0.0446, -0.0118]])\n",
      "true_vel: [[ 0.70334346 -0.00703044]\n",
      " [ 0.40777589  0.30736216]\n",
      " [ 0.41386737 -0.24066209]\n",
      " [ 0.10685215  0.50375953]]\n",
      "predicted_vel: tensor([[ 0.0512, -0.0272],\n",
      "        [ 0.0462, -0.0071],\n",
      "        [ 0.0445, -0.0118]])\n",
      "true_vel: [[ 0.70420638 -0.00665726]\n",
      " [ 0.35109243  0.38312196]\n",
      " [ 0.47603573 -0.31765904]\n",
      " [ 0.10630588  0.50462348]]\n",
      "predicted_vel: tensor([[ 0.0511, -0.0272],\n",
      "        [ 0.0461, -0.0071],\n",
      "        [ 0.0445, -0.0117]])\n",
      "true_vel: [[ 0.70540128 -0.00695114]\n",
      " [ 0.26597387  0.48406631]\n",
      " [ 0.56592797 -0.41994742]\n",
      " [ 0.10596515  0.50626139]]\n",
      "predicted_vel: tensor([[ 0.0510, -0.0271],\n",
      "        [ 0.0460, -0.0070],\n",
      "        [ 0.0444, -0.0117]])\n",
      "true_vel: [[ 0.70399952 -0.00802951]\n",
      " [ 0.0951741   0.64672678]\n",
      " [ 0.73929488 -0.58390786]\n",
      " [ 0.10612198  0.50863974]]\n",
      "predicted_vel: tensor([[ 0.0510, -0.0271],\n",
      "        [ 0.0460, -0.0070],\n",
      "        [ 0.0444, -0.0116]])\n",
      "true_vel: [[ 0.70094565 -0.0101489 ]\n",
      " [-1.01122428  1.08264422]\n",
      " [ 1.84670874 -1.02074795]\n",
      " [ 0.10726083  0.51168178]]\n",
      "predicted_vel: tensor([[ 0.0509, -0.0270],\n",
      "        [ 0.0459, -0.0069],\n",
      "        [ 0.0443, -0.0116]])\n",
      "true_vel: [[ 0.69804605 -0.01319097]\n",
      " [ 0.70164604 -0.50459301]\n",
      " [ 0.13345049  0.56670019]\n",
      " [ 0.10971402  0.51451267]]\n",
      "predicted_vel: tensor([[ 0.0508, -0.0269],\n",
      "        [ 0.0459, -0.0068],\n",
      "        [ 0.0443, -0.0115]])\n",
      "true_vel: [[ 0.69467576 -0.01573302]\n",
      " [ 0.66506886 -0.03509894]\n",
      " [ 0.16966724  0.09717729]\n",
      " [ 0.11140719  0.51708356]]\n",
      "predicted_vel: tensor([[ 0.0507, -0.0269],\n",
      "        [ 0.0458, -0.0068],\n",
      "        [ 0.0442, -0.0115]])\n",
      "true_vel: [[ 0.69138105 -0.01808751]\n",
      " [ 0.55000815  0.32296961]\n",
      " [ 0.28469943 -0.26131121]\n",
      " [ 0.11256805  0.51985801]]\n",
      "predicted_vel: tensor([[ 0.0506, -0.0268],\n",
      "        [ 0.0458, -0.0067],\n",
      "        [ 0.0441, -0.0114]])\n",
      "true_vel: [[ 0.68853009 -0.02058601]\n",
      " [ 0.21459676  0.8646136 ]\n",
      " [ 0.62034767 -0.80358397]\n",
      " [ 0.11362126  0.52298527]]\n",
      "predicted_vel: tensor([[ 0.0506, -0.0268],\n",
      "        [ 0.0457, -0.0067],\n",
      "        [ 0.0441, -0.0114]])\n",
      "true_vel: [[ 0.68641071 -0.02387749]\n",
      " [-0.05566776 -0.80601316]\n",
      " [ 0.89050618  0.86709051]\n",
      " [ 0.11545591  0.52622906]]\n",
      "predicted_vel: tensor([[ 0.0505, -0.0267],\n",
      "        [ 0.0456, -0.0066],\n",
      "        [ 0.0440, -0.0113]])\n",
      "true_vel: [[ 0.68390305 -0.02084569]\n",
      " [ 0.26916623 -0.45770859]\n",
      " [ 0.56471353  0.51976199]\n",
      " [ 0.11768025  0.52897625]]\n"
     ]
    },
    {
     "data": {
      "image/png": "[encoded data removed]",
      "text/plain": [
       "<Figure size 400x400 with 1 Axes>"
      ]
     },
     "metadata": {},
     "output_type": "display_data"
    },
    {
     "data": {
      "image/png": "[encoded data removed]",
      "text/plain": [
       "<Figure size 400x400 with 1 Axes>"
      ]
     },
     "metadata": {},
     "output_type": "display_data"
    }
   ],
   "source": [
    "# Plot 5 random predictions from the test set\n",
    "random_indices = np.random.randint(900, 1000, size=5)\n",
    "random_indices[0] = 970 # TODO indice utile da includere nel report\n",
    "print(random_indices)\n",
    "\n",
    "for random_index in random_indices:\n",
    "    test_trajectory, _ = load_trajectory(f'data/task1_2/test/trajectory_{random_index}.npz', task)\n",
    "    test_particles = test_trajectory[0]\n",
    "    print(f\"Test trajectory {random_index}\")\n",
    "    predicted_trajectory = predict_trajectory(model, test_particles)\n",
    "    plot_trajectory(predicted_trajectory)\n",
    "    plot_trajectory(test_trajectory)"
   ]
  },
  {
   "cell_type": "markdown",
   "metadata": {},
   "source": [
    "### MSE"
   ]
  },
  {
   "cell_type": "markdown",
   "metadata": {},
   "source": [
    "Compute the MSE of the prediction of each data point"
   ]
  },
  {
   "cell_type": "code",
   "execution_count": null,
   "metadata": {},
   "outputs": [],
   "source": [
    "def compute_loss_time_step(model, data, criterion):\n",
    "    \"\"\"\n",
    "    This function computes the loss of the given model on the given data for each time step using the given loss function.\n",
    "\n",
    "    Parameters:\n",
    "    model (torch.nn.Module): The model to use for prediction.\n",
    "    data (torch_geometric.data.Data): The data object containing the input features and target values.\n",
    "    criterion (torch.nn.Module): The loss function to use for testing.\n",
    "\n",
    "    The function first sets the model to evaluation mode. Then, it iterates over the time steps in the data. \n",
    "    For each time step, it computes the predicted values using the model, computes the loss using the criterion, \n",
    "    and keeps track of the total loss over all time steps. Finally, it returns the average loss over all time steps.\n",
    "    \"\"\"\n",
    "    model.eval()\n",
    "\n",
    "    with torch.no_grad():\n",
    "        node_features = data.x\n",
    "        edge_index = data.edge_index\n",
    "        edge_attr = data.edge_attr\n",
    "        target = data.y\n",
    "        output = model(node_features, edge_index, edge_attr)\n",
    "        loss = criterion(output, target)    \n",
    "\n",
    "    return loss.item()"
   ]
  },
  {
   "cell_type": "code",
   "execution_count": null,
   "metadata": {},
   "outputs": [
    {
     "ename": "TypeError",
     "evalue": "ParticleDynamicsDataset.__init__() got an unexpected keyword argument 'augment'",
     "output_type": "error",
     "traceback": [
      "\u001b[0;31m---------------------------------------------------------------------------\u001b[0m",
      "\u001b[0;31mTypeError\u001b[0m                                 Traceback (most recent call last)",
      "Cell \u001b[0;32mIn[148], line 3\u001b[0m\n\u001b[1;32m      1\u001b[0m \u001b[38;5;66;03m# Create a test dataset\u001b[39;00m\n\u001b[1;32m      2\u001b[0m test_paths \u001b[38;5;241m=\u001b[39m glob\u001b[38;5;241m.\u001b[39mglob(\u001b[38;5;124m'\u001b[39m\u001b[38;5;124mdata/task1_2/test/*.npz\u001b[39m\u001b[38;5;124m'\u001b[39m)\n\u001b[0;32m----> 3\u001b[0m test_dataset \u001b[38;5;241m=\u001b[39m \u001b[43mParticleDynamicsDataset\u001b[49m\u001b[43m(\u001b[49m\u001b[43mtest_paths\u001b[49m\u001b[43m,\u001b[49m\u001b[43m \u001b[49m\u001b[43mmax_len\u001b[49m\u001b[43m,\u001b[49m\u001b[43m \u001b[49m\u001b[43mbox_length\u001b[49m\u001b[43m,\u001b[49m\u001b[43m \u001b[49m\u001b[43mcutoff\u001b[49m\u001b[43m,\u001b[49m\u001b[43m \u001b[49m\u001b[43maugment\u001b[49m\u001b[38;5;241;43m=\u001b[39;49m\u001b[38;5;28;43;01mFalse\u001b[39;49;00m\u001b[43m)\u001b[49m\n\u001b[1;32m      4\u001b[0m \u001b[38;5;28mprint\u001b[39m(\u001b[38;5;124mf\u001b[39m\u001b[38;5;124m'\u001b[39m\u001b[38;5;124mTest dataset: \u001b[39m\u001b[38;5;132;01m{\u001b[39;00m\u001b[38;5;28mlen\u001b[39m(test_dataset)\u001b[38;5;132;01m}\u001b[39;00m\u001b[38;5;124m samples\u001b[39m\u001b[38;5;124m'\u001b[39m)\n",
      "\u001b[0;31mTypeError\u001b[0m: ParticleDynamicsDataset.__init__() got an unexpected keyword argument 'augment'"
     ]
    }
   ],
   "source": [
    "# Create a test dataset\n",
    "test_paths = glob.glob('data/task1_2/test/*.npz')\n",
    "test_dataset = ParticleDynamicsDataset(test_paths, max_len, box_length, cutoff, augment=False)\n",
    "print(f'Test dataset: {len(test_dataset)} samples')"
   ]
  },
  {
   "cell_type": "code",
   "execution_count": null,
   "metadata": {},
   "outputs": [
    {
     "name": "stdout",
     "output_type": "stream",
     "text": [
      "Mean loss on test set: 0.039604553941041024\n"
     ]
    }
   ],
   "source": [
    "def compute_mean_loss(model, test_dataset, criterion):\n",
    "    \"\"\"\n",
    "    This function computes the mean loss of the given model on the given test dataset using the given loss function.\n",
    "\n",
    "    Parameters:\n",
    "    model (torch.nn.Module): The model to use for prediction.\n",
    "    test_dataset (ParticleDynamicsDataset): The test dataset.\n",
    "    criterion (torch.nn.Module): The loss function to use for testing.\n",
    "\n",
    "    The function iterates over the test dataset. For each data point, it computes the loss using the given model and loss function. \n",
    "    The function keeps track of the total loss over all data points. Finally, it returns the average loss over all data points.\n",
    "    \"\"\"\n",
    "    total_loss = 0\n",
    "    for data in test_dataset:\n",
    "        total_loss += compute_loss_time_step(model, data, criterion)\n",
    "    return total_loss / len(test_dataset)\n",
    "\n",
    "criterion = torch.nn.MSELoss()\n",
    "mean_loss = compute_mean_loss(model, test_dataset, criterion)\n",
    "print(f'Mean loss on test set: {mean_loss}')"
   ]
  },
  {
   "cell_type": "markdown",
   "metadata": {},
   "source": [
    "Compute the MSE of the whole trajectory"
   ]
  },
  {
   "cell_type": "code",
   "execution_count": null,
   "metadata": {},
   "outputs": [],
   "source": [
    "def compute_loss_trajectory(model, trajectory, criterion):\n",
    "    \"\"\"\n",
    "    This function computes the loss of the given model on the given trajectory using the given loss function.\n",
    "    It only considers the positions of the particles.\n",
    "\n",
    "    Parameters:\n",
    "    model (torch.nn.Module): The model to use for prediction.\n",
    "    trajectory (np.ndarray): The trajectory of the system.\n",
    "    criterion (torch.nn.Module): The loss function to use for testing.\n",
    "\n",
    "    The function first creates a graph representation of the trajectory. \n",
    "    Then, it computes the loss of the model on the trajectory using the given loss function. \n",
    "    Finally, it returns the loss.\n",
    "    \"\"\"\n",
    "    particles = trajectory[0]\n",
    "    predicted_trajectory = predict_trajectory(model, particles)\n",
    "\n",
    "    # Consider only positions\n",
    "    predicted_positions = predicted_trajectory[:, :, :2]\n",
    "    true_positions = trajectory[:, :, :2]\n",
    "\n",
    "    loss = criterion(torch.tensor(predicted_positions, dtype=torch.float32), torch.tensor(true_positions, dtype=torch.float32))\n",
    "\n",
    "    return loss.item()"
   ]
  },
  {
   "cell_type": "code",
   "execution_count": null,
   "metadata": {},
   "outputs": [
    {
     "name": "stdout",
     "output_type": "stream",
     "text": [
      "Mean loss on test set trajectories: 29.245257525444032\n"
     ]
    }
   ],
   "source": [
    "def compute_mean_loss_trajectory(model, test_paths, criterion):\n",
    "    \"\"\"\n",
    "    Compute the mean loss across multiple trajectories.\n",
    "\n",
    "    Args:\n",
    "        model (torch.nn.Module): The model used to predict trajectories.\n",
    "        test_paths (list): List of paths to test trajectories.\n",
    "        criterion (callable): The loss function to compute the difference between predicted and actual trajectories.\n",
    "\n",
    "    Returns:\n",
    "        float: The mean loss over all test trajectories.\n",
    "    \"\"\"\n",
    "    total_loss = 0\n",
    "    for path in test_paths:\n",
    "        trajectory, _ = load_trajectory(path, task)\n",
    "        loss = compute_loss_trajectory(model, trajectory, criterion)\n",
    "        # print(f'Loss for trajectory {path}: {loss}')\n",
    "        total_loss += loss\n",
    "    return total_loss / len(test_paths)\n",
    "\n",
    "mean_loss_trajectory = compute_mean_loss_trajectory(model, test_paths, criterion)\n",
    "print(f'Mean loss on test set trajectories: {mean_loss_trajectory}')\n"
   ]
  },
  {
   "cell_type": "markdown",
   "metadata": {},
   "source": [
    "### Rotation Equivariance"
   ]
  },
  {
   "cell_type": "code",
   "execution_count": null,
   "metadata": {},
   "outputs": [],
   "source": [
    "import numpy as np\n",
    "\n",
    "def rotate_particles(particles, angle_degrees, box_size=20):\n",
    "    \"\"\"\n",
    "    Rotates the particles by the given angle in degrees.\n",
    "\n",
    "    Args:\n",
    "        particles (np.ndarray): A 2D numpy array representing the particles. Each row represents a particle, with columns for the particle's x and y coordinates, x and y velocities, and charge.\n",
    "        angle_degrees (float): The angle by which to rotate the particles, in degrees. Positive values represent counter-clockwise rotation, and negative values represent clockwise rotation.\n",
    "\n",
    "    Returns:\n",
    "        np.ndarray: A 2D numpy array of the same shape as `particles`, representing the particles after rotation. The x and y coordinates and velocities of the particles have been rotated by `angle_degrees`, but the charges of the particles are unchanged.\n",
    "    \"\"\"\n",
    "    # Convert angle from degrees to radians\n",
    "    angle_radians = np.radians(angle_degrees)\n",
    "    \n",
    "    # Rotation matrix for 2D rotation\n",
    "    rotation_matrix = np.array([\n",
    "        [np.cos(angle_radians), -np.sin(angle_radians)],\n",
    "        [np.sin(angle_radians), np.cos(angle_radians)]\n",
    "    ])\n",
    "    \n",
    "    # Separate the components of the particles\n",
    "    pos_x = particles[:, 0]\n",
    "    pos_y = particles[:, 1]\n",
    "    vel_x = particles[:, 2]\n",
    "    vel_y = particles[:, 3]\n",
    "    charge = particles[:, 4]\n",
    "    \n",
    "    # Apply rotation to positions\n",
    "    positions = np.vstack((pos_x, pos_y))\n",
    "    rotated_positions = rotation_matrix @ positions\n",
    "    \n",
    "    # Minimum image convention to ensure positions stay within the range [0, box_size]\n",
    "    rotated_pos_x = (rotated_positions[0, :] + box_size) % box_size\n",
    "    rotated_pos_y = (rotated_positions[1, :] + box_size) % box_size\n",
    "    \n",
    "    # Apply rotation to velocities\n",
    "    velocities = np.vstack((vel_x, vel_y))\n",
    "    rotated_velocities = rotation_matrix @ velocities\n",
    "    rotated_vel_x = rotated_velocities[0, :]\n",
    "    rotated_vel_y = rotated_velocities[1, :]\n",
    "    \n",
    "    # Combine the rotated components back into the particles array\n",
    "    rotated_particles = np.vstack((rotated_pos_x, rotated_pos_y, rotated_vel_x, rotated_vel_y, charge)).T\n",
    "    \n",
    "    return rotated_particles"
   ]
  },
  {
   "cell_type": "code",
   "execution_count": null,
   "metadata": {},
   "outputs": [
    {
     "name": "stdout",
     "output_type": "stream",
     "text": [
      "970\n",
      "Test trajectory 970\n"
     ]
    },
    {
     "data": {
      "image/png": "[encoded data removed]",
      "text/plain": [
       "<Figure size 400x400 with 1 Axes>"
      ]
     },
     "metadata": {},
     "output_type": "display_data"
    },
    {
     "name": "stdout",
     "output_type": "stream",
     "text": [
      "Rotated by 30 degrees\n"
     ]
    },
    {
     "data": {
      "image/png": "[encoded data removed]",
      "text/plain": [
       "<Figure size 400x400 with 1 Axes>"
      ]
     },
     "metadata": {},
     "output_type": "display_data"
    },
    {
     "name": "stdout",
     "output_type": "stream",
     "text": [
      "Rotated by 90 degrees\n"
     ]
    },
    {
     "data": {
      "image/png": "[encoded data removed]",
      "text/plain": [
       "<Figure size 400x400 with 1 Axes>"
      ]
     },
     "metadata": {},
     "output_type": "display_data"
    },
    {
     "name": "stdout",
     "output_type": "stream",
     "text": [
      "Rotated by 150 degrees\n"
     ]
    },
    {
     "data": {
      "image/png": "[encoded data removed]",
      "text/plain": [
       "<Figure size 400x400 with 1 Axes>"
      ]
     },
     "metadata": {},
     "output_type": "display_data"
    }
   ],
   "source": [
    "# Plot a random prediction from the test set after rotating the particles by 30, 90, and 150 degrees\n",
    "random_index = np.random.randint(900, 1000)\n",
    "angles = [30, 90, 150]\n",
    "random_index = 970 # TODO indice utile da includere nel report\n",
    "print(random_index)\n",
    "\n",
    "test_trajectory, _ = load_trajectory(f'data/task1_2/test/trajectory_{random_index}.npz', task)\n",
    "\n",
    "def plot_predicted_rotations(trajectory, angles):\n",
    "    \"\"\"\n",
    "    Plot the predicted trajectories of particles before and after applying rotations.\n",
    "\n",
    "    Args:\n",
    "        model (torch.nn.Module): The model used to predict trajectories.\n",
    "        test_trajectory (numpy.ndarray): The initial trajectory of particles with shape (timesteps, num_particles, 5).\n",
    "        angles (list of float): The list of angles in degrees by which to rotate the particles.\n",
    "    \"\"\"\n",
    "    test_particles = test_trajectory[0]\n",
    "\n",
    "    print(f\"Test trajectory {random_index}\")\n",
    "    predicted_trajectory = predict_trajectory(model, test_particles)\n",
    "    plot_trajectory(predicted_trajectory)\n",
    "\n",
    "    for angle in angles:\n",
    "        rotated_particles = rotate_particles(test_particles, angle)\n",
    "        print(f\"Rotated by {angle} degrees\")\n",
    "        rotated_predicted_trajectory = predict_trajectory(model, rotated_particles)\n",
    "        plot_trajectory(rotated_predicted_trajectory)\n",
    "\n",
    "plot_predicted_rotations(test_trajectory, angles)"
   ]
  },
  {
   "cell_type": "code",
   "execution_count": null,
   "metadata": {},
   "outputs": [
    {
     "name": "stderr",
     "output_type": "stream",
     "text": [
      "Computing rotation loss: 100%|██████████| 100/100 [01:06<00:00,  1.50it/s]"
     ]
    },
    {
     "name": "stdout",
     "output_type": "stream",
     "text": [
      "Mean rotation loss on test set: 28.588281508286794\n"
     ]
    },
    {
     "name": "stderr",
     "output_type": "stream",
     "text": [
      "\n"
     ]
    }
   ],
   "source": [
    "def compute_rotation_loss(model, particles, criterion, angle_degrees):\n",
    "    \"\"\"\n",
    "    Compute the rotation loss for a given model and set of particles.\n",
    "    \n",
    "    Parameters:\n",
    "    model: The model used to predict the trajectory.\n",
    "    particles: The initial state of the particles.\n",
    "    criterion: The loss function used to compute the loss.\n",
    "    angle_degrees: The angle by which to rotate the particles.\n",
    "\n",
    "    Returns:\n",
    "    The computed loss as a float.\n",
    "    \"\"\"\n",
    "    \n",
    "    # Predict the trajectory for the original particles and rotate it\n",
    "    predicted_trajectory = predict_trajectory(model, particles)\n",
    "    predicted_trajectory_rotated = [rotate_particles(particles, angle_degrees) for particles in predicted_trajectory]\n",
    "    predicted_trajectory_rotated = np.stack(predicted_trajectory_rotated)\n",
    "\n",
    "    # Rotate the particles and predict the trajectory\n",
    "    rotated_particles = rotate_particles(particles, angle_degrees)\n",
    "    rotated_predicted_trajectory = predict_trajectory(model, rotated_particles)\n",
    "    \n",
    "    # Consider only positions\n",
    "    predicted_positions_1 = predicted_trajectory_rotated[:, :, :2]\n",
    "    predicted_positions_2 = rotated_predicted_trajectory[:, :, :2]\n",
    "\n",
    "    loss = criterion(torch.tensor(predicted_positions_1, dtype=torch.float32), torch.tensor(predicted_positions_2, dtype=torch.float32))\n",
    "    return loss.item()\n",
    "\n",
    "def compute_mean_rotation_loss(model, test_paths, criterion, angle_degrees_list):\n",
    "    \"\"\"\n",
    "    Compute the mean rotation loss for a given model and set of test paths.\n",
    "    \n",
    "    Parameters:\n",
    "    model: The model used to predict the trajectory.\n",
    "    test_paths: The paths to the test data.\n",
    "    criterion: The loss function used to compute the loss.\n",
    "    angle_degrees_list: A list of angles by which to rotate the particles.\n",
    "\n",
    "    Returns:\n",
    "    The mean computed loss as a float.\n",
    "    \"\"\"\n",
    "    total_loss = 0\n",
    "    for path in tqdm(test_paths, desc='Computing rotation loss'):\n",
    "        trajectory, _ = load_trajectory(path, task)\n",
    "        particles = trajectory[0]\n",
    "        for angle_degrees in angle_degrees_list:\n",
    "            loss = compute_rotation_loss(model, particles, criterion, angle_degrees)\n",
    "            total_loss += loss\n",
    "    return total_loss / (len(test_paths) * len(angle_degrees_list))\n",
    "\n",
    "angle_degrees_list = [30, 90, 150]\n",
    "mean_rotation_loss = compute_mean_rotation_loss(model, test_paths, criterion, angle_degrees_list)\n",
    "print(f'Mean rotation loss on test set: {mean_rotation_loss}')"
   ]
  },
  {
   "cell_type": "markdown",
   "metadata": {},
   "source": [
    "### Position Invariance"
   ]
  },
  {
   "cell_type": "code",
   "execution_count": null,
   "metadata": {},
   "outputs": [],
   "source": [
    "import numpy as np\n",
    "\n",
    "def shift_particles(particles, shift_vector):\n",
    "    \"\"\"\n",
    "    Shifts the positions of particles by a given vector, wrapping around within a range of [0, 20].\n",
    "    \n",
    "    Parameters:\n",
    "    particles: A numpy array of shape (num_particles, 5), where each row represents a particle and the columns represent the x position, y position, x velocity, y velocity, and charge, respectively.\n",
    "    shift_vector: A numpy array of shape (2,) representing the x and y components of the shift vector.\n",
    "\n",
    "    Returns:\n",
    "    A numpy array of shape (num_particles, 5) representing the shifted particles.\n",
    "    \"\"\"\n",
    "    # Separate the components of the particles\n",
    "    pos_x = particles[:, 0]\n",
    "    pos_y = particles[:, 1]\n",
    "    vel_x = particles[:, 2]\n",
    "    vel_y = particles[:, 3]\n",
    "    charge = particles[:, 4]\n",
    "    \n",
    "    # Apply the shift vector to the positions\n",
    "    shifted_pos_x = pos_x + shift_vector[0]\n",
    "    shifted_pos_y = pos_y + shift_vector[1]\n",
    "    \n",
    "    # Ensure the positions stay within the range [0, 20] by wrapping around\n",
    "    shifted_pos_x = np.mod(shifted_pos_x, 20)\n",
    "    shifted_pos_y = np.mod(shifted_pos_y, 20)\n",
    "    \n",
    "    # Combine the shifted positions with the unchanged velocities and charges\n",
    "    shifted_particles = np.vstack((shifted_pos_x, shifted_pos_y, vel_x, vel_y, charge)).T\n",
    "    \n",
    "    return shifted_particles"
   ]
  },
  {
   "cell_type": "code",
   "execution_count": null,
   "metadata": {},
   "outputs": [
    {
     "name": "stdout",
     "output_type": "stream",
     "text": [
      "970\n",
      "Shift vector: [ 6.34440107 14.73502816]\n"
     ]
    },
    {
     "data": {
      "image/png": "[encoded data removed]",
      "text/plain": [
       "<Figure size 400x400 with 1 Axes>"
      ]
     },
     "metadata": {},
     "output_type": "display_data"
    },
    {
     "data": {
      "image/png": "[encoded data removed]",
      "text/plain": [
       "<Figure size 400x400 with 1 Axes>"
      ]
     },
     "metadata": {},
     "output_type": "display_data"
    }
   ],
   "source": [
    "# Plot a random prediction from the test set after rotating the particles by 30, 90, and 150 degrees\n",
    "random_index = np.random.randint(900, 1000)\n",
    "random_index = 970 # TODO indice utile da includere nel report\n",
    "print(random_index)\n",
    "\n",
    "# Generate a random shift vector for x and y within the range [0, 20]\n",
    "shift_vector = np.random.uniform(0, 20, size=2)\n",
    "print(f\"Shift vector: {shift_vector}\")\n",
    "\n",
    "test_trajectory, _ = load_trajectory(f'data/task1_2/test/trajectory_{random_index}.npz', task)\n",
    "\n",
    "def plot_predicted_shifts(test_trajectory, shift_vector):\n",
    "    \"\"\"\n",
    "    Plot the predicted trajectories of particles before and after applying a shift.\n",
    "\n",
    "    Args:\n",
    "        model (torch.nn.Module): The model used to predict trajectories.\n",
    "        test_trajectory (numpy.ndarray): The initial trajectory of particles with shape (timesteps, num_particles, 5).\n",
    "        shift_vector (numpy.ndarray): The vector by which to shift the particles.\n",
    "    \"\"\"\n",
    "    test_particles = test_trajectory[0]\n",
    "    predicted_trajectory = predict_trajectory(model, test_particles)\n",
    "    plot_trajectory(predicted_trajectory)\n",
    "\n",
    "    shifted_particles = shift_particles(test_particles, shift_vector)\n",
    "    shifted_predicted_trajectory = predict_trajectory(model, shifted_particles)\n",
    "    plot_trajectory(shifted_predicted_trajectory)\n",
    "\n",
    "plot_predicted_shifts(test_trajectory, shift_vector)"
   ]
  },
  {
   "cell_type": "code",
   "execution_count": null,
   "metadata": {},
   "outputs": [
    {
     "name": "stderr",
     "output_type": "stream",
     "text": [
      "Computing shift loss: 100%|██████████| 100/100 [00:21<00:00,  4.56it/s]"
     ]
    },
    {
     "name": "stdout",
     "output_type": "stream",
     "text": [
      "Mean shift loss on test set: 1.379931902079079e-10\n"
     ]
    },
    {
     "name": "stderr",
     "output_type": "stream",
     "text": [
      "\n"
     ]
    }
   ],
   "source": [
    "def compute_shift_loss(model, particles, criterion, shift_vector):\n",
    "    \"\"\"\n",
    "    Compute the shift loss between the predicted trajectories of the original\n",
    "    and shifted particles.\n",
    "\n",
    "    Args:\n",
    "        model (torch.nn.Module): The model used to predict trajectories.\n",
    "        particles (numpy.ndarray): The initial array of particles with shape (num_particles, 5).\n",
    "        criterion (callable): The loss function to compute the difference between trajectories.\n",
    "        shift_vector (numpy.ndarray): The vector by which to shift the particles.\n",
    "\n",
    "    Returns:\n",
    "        float: The computed shift loss.\n",
    "    \"\"\"\n",
    "    # Predict the trajectory and shift it\n",
    "    predicted_trajectory = predict_trajectory(model, particles)\n",
    "    shifted_trajectory = [shift_particles(particles, shift_vector) for particles in predicted_trajectory]\n",
    "    shifted_trajectory = np.stack(shifted_trajectory)\n",
    "\n",
    "    # Shift the particles and predict the trajectory\n",
    "    shifted_particles = shift_particles(particles, shift_vector)\n",
    "    shifted_predicted_trajectory = predict_trajectory(model, shifted_particles)\n",
    "    \n",
    "    # Consider only positions\n",
    "    predicted_positions_1 = shifted_trajectory[:, :, :2]\n",
    "    predicted_positions_2 = shifted_predicted_trajectory[:, :, :2]\n",
    "\n",
    "    loss = criterion(torch.tensor(predicted_positions_1, dtype=torch.float32), torch.tensor(predicted_positions_2, dtype=torch.float32))\n",
    "    return loss.item()\n",
    "\n",
    "def compute_mean_shift_loss(model, test_paths, criterion, shift_vector):\n",
    "    \"\"\"\n",
    "    Compute the mean shift loss across multiple test paths.\n",
    "\n",
    "    Args:\n",
    "        model (torch.nn.Module): The model used to predict trajectories.\n",
    "        test_paths (list): The list of paths to test trajectories.\n",
    "        criterion (callable): The loss function to compute the difference between trajectories.\n",
    "        shift_vector (numpy.ndarray): The vector by which to shift the particles.\n",
    "\n",
    "    Returns:\n",
    "        float: The mean shift loss over all test paths.\n",
    "    \"\"\"\n",
    "    total_loss = 0\n",
    "    for path in tqdm(test_paths, desc='Computing shift loss'):\n",
    "        trajectory, _ = load_trajectory(path, task)\n",
    "        particles = trajectory[0]\n",
    "        loss = compute_shift_loss(model, particles, criterion, shift_vector)\n",
    "        total_loss += loss\n",
    "    return total_loss / len(test_paths)\n",
    "\n",
    "\n",
    "mean_shift_loss = compute_mean_shift_loss(model, test_paths, criterion, shift_vector)\n",
    "print(f'Mean shift loss on test set: {mean_shift_loss}')"
   ]
  },
  {
   "cell_type": "markdown",
   "metadata": {},
   "source": [
    "# Task 3"
   ]
  },
  {
   "cell_type": "markdown",
   "metadata": {},
   "source": [
    "In task 3, you also need to model the influences of the crystal. An example of loading a trajectory can be found below. The trajectory and energy data has the same shape as before, however, data regarding the crystal has been added. Since atoms belonging to the crystal do not move, this data does not have a time dimension when loaded. The shapes of the arrays are as follows:\n",
    "\n",
    "```trajectory```: ```(time, n_bodies, [x, y, v_x, v_y, q])```\n",
    "\n",
    "```energy```: ```(time, 1)```\n",
    "\n",
    "```framework```:```(n_framework_atom, [x, y, q])```\n",
    "\n"
   ]
  },
  {
   "cell_type": "code",
   "execution_count": null,
   "metadata": {},
   "outputs": [
    {
     "name": "stdout",
     "output_type": "stream",
     "text": [
      "Trajectory shape: (40, 4, 5), Framework shape: (20, 3), Energy shape: (40, 1)\n"
     ]
    }
   ],
   "source": [
    "trajectory, framework, energy = load_trajectory('data/task3/train/trajectory_0.npz', 'task_3')\n",
    "print(f'Trajectory shape: {trajectory.shape}, Framework shape: {framework.shape}, Energy shape: {energy.shape}')"
   ]
  },
  {
   "cell_type": "markdown",
   "metadata": {},
   "source": [
    "The following code provides an example of how to visualize a trajectory with a crystal. Feel free to modify this code, or write your own function. When evaluating your model in this task, keep in mind that you are only allowed to use the data at t=0 (the black dots in the visualization)."
   ]
  },
  {
   "cell_type": "code",
   "execution_count": null,
   "metadata": {},
   "outputs": [
    {
     "data": {
      "image/png": "[encoded data removed]",
      "text/plain": [
       "<Figure size 400x400 with 1 Axes>"
      ]
     },
     "metadata": {},
     "output_type": "display_data"
    },
    {
     "data": {
      "image/png": "[encoded data removed]",
      "text/plain": [
       "<Figure size 400x100 with 1 Axes>"
      ]
     },
     "metadata": {},
     "output_type": "display_data"
    }
   ],
   "source": [
    "x = trajectory[...,0]\n",
    "y = trajectory[...,1]\n",
    "\n",
    "x_fw = framework[...,0]\n",
    "y_fw = framework[...,1]\n",
    "q_fw = framework[...,2]\n",
    "\n",
    "plt.figure(figsize=(4,4))\n",
    "plt.vlines([0,20],0,20)\n",
    "plt.hlines([0,20],0,20)\n",
    "\n",
    "plt.scatter(x[0], y[0], c='black')\n",
    "\n",
    "for i in range(x.shape[1]):\n",
    "    plt.scatter(x[:,i], y[:,i], s=5)\n",
    "\n",
    "plt.scatter(x_fw, y_fw, c=q_fw, cmap='viridis', s=50)\n",
    "# to also visualize the framework points along the boundaries\n",
    "plt.scatter(x_fw+20, y_fw, c=q_fw, cmap='viridis', s=50)\n",
    "plt.scatter(x_fw, y_fw+20, c=q_fw, cmap='viridis', s=50)\n",
    "plt.scatter(x_fw+20, y_fw+20, c=q_fw, cmap='viridis', s=50)\n",
    "\n",
    "plt.xlim(-1,21)\n",
    "plt.ylim(-1,21)\n",
    "\n",
    "plt.show()\n",
    "plt.figure(figsize=(4,1))\n",
    "plt.plot(energy)\n",
    "plt.xlabel('step')\n",
    "plt.title('System energy over time')\n",
    "plt.show();"
   ]
  },
  {
   "cell_type": "markdown",
   "metadata": {},
   "source": [
    "Implement task 3 below. Feel free to add extra code cells for different components of your implementation."
   ]
  },
  {
   "cell_type": "code",
   "execution_count": null,
   "metadata": {},
   "outputs": [],
   "source": []
  }
 ],
 "metadata": {
  "kernelspec": {
   "display_name": "torch4",
   "language": "python",
   "name": "python3"
  },
  "language_info": {
   "codemirror_mode": {
    "name": "ipython",
    "version": 3
   },
   "file_extension": ".py",
   "mimetype": "text/x-python",
   "name": "python",
   "nbconvert_exporter": "python",
   "pygments_lexer": "ipython3",
   "version": "3.11.0"
  }
 },
 "nbformat": 4,
 "nbformat_minor": 2
}
