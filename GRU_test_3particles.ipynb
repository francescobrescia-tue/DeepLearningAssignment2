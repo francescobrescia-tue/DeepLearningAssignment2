{
 "cells": [
  {
   "cell_type": "code",
   "execution_count": null,
   "metadata": {},
   "outputs": [
    {
     "ename": "",
     "evalue": "",
     "output_type": "error",
     "traceback": [
      "\u001b[1;31mThe kernel failed to start as the Python Environment '.venv (Python 3.11.0)' is no longer available. Consider selecting another kernel or refreshing the list of Python Environments."
     ]
    }
   ],
   "source": [
    "import matplotlib.pyplot as plt\n",
    "\n",
    "def plot_trajectory_3(trajectory):\n",
    "    \"\"\"\n",
    "    trajectory has shape (40,3,4) that is 40 time steps, 3 particles and 4 features (x, y, v_x, v_y)\n",
    "    \"\"\"\n",
    "    # Smaller image\n",
    "    plt.figure(figsize=(5,5))\n",
    "\n",
    "    print(trajectory.shape)\n",
    "    for i in range(trajectory.shape[1]):\n",
    "        x = trajectory[:, i, 0]\n",
    "        y = trajectory[:, i, 1]\n",
    "        plt.plot(x, y)\n",
    "\n",
    "    plt.xlabel('x')\n",
    "    plt.ylabel('y')\n",
    "    plt.show()"
   ]
  },
  {
   "cell_type": "code",
   "execution_count": null,
   "metadata": {},
   "outputs": [
    {
     "ename": "",
     "evalue": "",
     "output_type": "error",
     "traceback": [
      "\u001b[1;31mThe kernel failed to start as the Python Environment '.venv (Python 3.11.0)' is no longer available. Consider selecting another kernel or refreshing the list of Python Environments."
     ]
    }
   ],
   "source": [
    "import matplotlib.pyplot as plt\n",
    "\n",
    "def plot_trajectory_1(trajectory):\n",
    "    \"\"\"\n",
    "    trajectory has shape (40,4) that is 40 time steps, 4 features (x, y, v_x, v_y)\n",
    "    \"\"\"\n",
    "    # Smaller image\n",
    "    plt.figure(figsize=(5,5))\n",
    "\n",
    "    for p in range(trajectory.shape[0]):\n",
    "        x = trajectory[:, 0]\n",
    "        y = trajectory[:, 1]\n",
    "        plt.plot(x, y)\n",
    "\n",
    "    plt.xlabel('x')\n",
    "    plt.ylabel('y')\n",
    "    plt.show()"
   ]
  },
  {
   "cell_type": "code",
   "execution_count": null,
   "metadata": {},
   "outputs": [
    {
     "ename": "",
     "evalue": "",
     "output_type": "error",
     "traceback": [
      "\u001b[1;31mThe kernel failed to start as the Python Environment '.venv (Python 3.11.0)' is no longer available. Consider selecting another kernel or refreshing the list of Python Environments."
     ]
    }
   ],
   "source": [
    "import numpy as np\n",
    "\n",
    "def create_random_trajectory_1(plot=False):\n",
    "    \"\"\"\n",
    "    Creates a random parabolic trajectory for 3 particles\n",
    "    \"\"\"\n",
    "\n",
    "    # Generate random coefficients\n",
    "    a1 = np.random.uniform(-0.05, 0.05)\n",
    "    b1 = np.random.uniform(-1, 1)\n",
    "    c1 = np.random.uniform(0, 20)\n",
    "\n",
    "    # Generate random x values\n",
    "    x = np.linspace(0, 20, 40)\n",
    "\n",
    "    y1 = a1 * x**2 + b1 * x + c1\n",
    "\n",
    "    # Ensure all y values are within the range 0 to 20\n",
    "    y1 = np.clip(y1, 0, 20)\n",
    "\n",
    "    # Calculate velocity\n",
    "    velocity_x1 = np.gradient(x)\n",
    "    velocity_y1 = np.gradient(y1)\n",
    "\n",
    "    # Return numpy array of shape (40, 4)\n",
    "    trajectory =  np.vstack((x, y1, velocity_x1, velocity_y1)).T\n",
    "\n",
    "    # Return numpy array of shape (40, 3, 4)\n",
    "    if plot:\n",
    "        plot_trajectory_1(trajectory)\n",
    "    \n",
    "    return trajectory\n",
    "\n",
    "create_random_trajectory_1(True)"
   ]
  },
  {
   "cell_type": "code",
   "execution_count": null,
   "metadata": {},
   "outputs": [
    {
     "ename": "",
     "evalue": "",
     "output_type": "error",
     "traceback": [
      "\u001b[1;31mThe kernel failed to start as the Python Environment '.venv (Python 3.11.0)' is no longer available. Consider selecting another kernel or refreshing the list of Python Environments."
     ]
    }
   ],
   "source": [
    "import numpy as np\n",
    "\n",
    "def create_random_trajectory_3(plot=False):\n",
    "    \"\"\"\n",
    "    Creates a random parabolic trajectory for 3 particles\n",
    "    \"\"\"\n",
    "\n",
    "    # Generate random coefficients\n",
    "    a1 = np.random.uniform(-0.05, 0.05)\n",
    "    b1 = np.random.uniform(-1, 1)\n",
    "    c1 = np.random.uniform(0, 20)\n",
    "\n",
    "    a2 = np.random.uniform(-0.05, 0.05)\n",
    "    b2 = np.random.uniform(-1, 1)\n",
    "    c2 = np.random.uniform(0, 20)\n",
    "\n",
    "    a3 = np.random.uniform(-0.05, 0.05)\n",
    "    b3 = np.random.uniform(-1, 1)\n",
    "    c3 = np.random.uniform(0, 20)\n",
    "\n",
    "    # Generate random x values\n",
    "    x = np.linspace(0, 20, 40)\n",
    "\n",
    "    y1 = a1 * x**2 + b1 * x + c1\n",
    "    y2 = a2 * x**2 + b2 * x + c2\n",
    "    y3 = a3 * x**2 + b3 * x + c3\n",
    "\n",
    "    # Ensure all y values are within the range 0 to 20\n",
    "    y1 = np.clip(y1, 0, 20)\n",
    "    y2 = np.clip(y2, 0, 20)\n",
    "    y3 = np.clip(y3, 0, 20)\n",
    "\n",
    "    # Calculate velocity\n",
    "    velocity_x1 = np.gradient(x)\n",
    "    velocity_y1 = np.gradient(y1)\n",
    "    velocity_x2 = np.gradient(x)\n",
    "    velocity_y2 = np.gradient(y2)\n",
    "    velocity_x3 = np.gradient(x)\n",
    "    velocity_y3 = np.gradient(y3)\n",
    "\n",
    "    # Return numpy array of shape (40, 4)\n",
    "    trajectory1 =  np.vstack((x, y1, velocity_x1, velocity_y1)).T\n",
    "    trajectory2 =  np.vstack((x, y2, velocity_x2, velocity_y2)).T\n",
    "    trajectory3 =  np.vstack((x, y3, velocity_x3, velocity_y3)).T\n",
    "\n",
    "    # Return numpy array of shape (40, 3, 4)\n",
    "    trajectory = np.array([trajectory1, trajectory2, trajectory3])\n",
    "    trajectory = np.transpose(trajectory, (1, 0, 2))\n",
    "    if plot:\n",
    "        plot_trajectory_3(trajectory)\n",
    "    \n",
    "    return trajectory\n",
    "\n",
    "create_random_trajectory_3(True)"
   ]
  },
  {
   "cell_type": "code",
   "execution_count": null,
   "metadata": {},
   "outputs": [
    {
     "ename": "",
     "evalue": "",
     "output_type": "error",
     "traceback": [
      "\u001b[1;31mThe kernel failed to start as the Python Environment '.venv (Python 3.11.0)' is no longer available. Consider selecting another kernel or refreshing the list of Python Environments."
     ]
    }
   ],
   "source": [
    "from torch.utils.data import Dataset, DataLoader\n",
    "import torch\n",
    "\n",
    "class TrajectoryDataset(Dataset):\n",
    "    def __init__(self, num_trajectories):\n",
    "        self.trajectories = [create_random_trajectory_3() for _ in range(num_trajectories)]\n",
    "    \n",
    "    def __len__(self):\n",
    "        return len(self.trajectories)\n",
    "    \n",
    "    def __getitem__(self, idx):\n",
    "        data = self.trajectories[idx]\n",
    "        # Convert to torch tensor\n",
    "        data = torch.tensor(data, dtype=torch.float32)\n",
    "\n",
    "        X = data[0, :].unsqueeze(0)  # Shape: (1, 4)\n",
    "        Y = data[1:, :]  # Shape: (39, 4)\n",
    "        return X, Y"
   ]
  },
  {
   "cell_type": "code",
   "execution_count": null,
   "metadata": {},
   "outputs": [
    {
     "ename": "",
     "evalue": "",
     "output_type": "error",
     "traceback": [
      "\u001b[1;31mThe kernel failed to start as the Python Environment '.venv (Python 3.11.0)' is no longer available. Consider selecting another kernel or refreshing the list of Python Environments."
     ]
    }
   ],
   "source": [
    "# Create a dataset with 1000 trajectories\n",
    "dataset = TrajectoryDataset(1000)\n",
    "x, y = dataset[0]\n",
    "x.shape, y.shape"
   ]
  },
  {
   "cell_type": "code",
   "execution_count": null,
   "metadata": {},
   "outputs": [
    {
     "ename": "",
     "evalue": "",
     "output_type": "error",
     "traceback": [
      "\u001b[1;31mThe kernel failed to start as the Python Environment '.venv (Python 3.11.0)' is no longer available. Consider selecting another kernel or refreshing the list of Python Environments."
     ]
    }
   ],
   "source": [
    "dataloader = DataLoader(dataset, batch_size=32, shuffle=True)\n",
    "next(iter(dataloader))[0].shape, next(iter(dataloader))[1].shape"
   ]
  },
  {
   "cell_type": "code",
   "execution_count": null,
   "metadata": {},
   "outputs": [
    {
     "ename": "",
     "evalue": "",
     "output_type": "error",
     "traceback": [
      "\u001b[1;31mThe kernel failed to start as the Python Environment '.venv (Python 3.11.0)' is no longer available. Consider selecting another kernel or refreshing the list of Python Environments."
     ]
    }
   ],
   "source": [
    "import torch\n",
    "import torch.nn as nn\n",
    "\n",
    "class GRUModel(nn.Module):\n",
    "    def __init__(self):\n",
    "        super(GRUModel, self).__init__()\n",
    "        self.gru = nn.GRU(4, 64, batch_first=True)  # GRU layer for sequence generation\n",
    "        self.fc = nn.Linear(64, 4)                 # Fully connected layer for output\n",
    "\n",
    "    def forward(self, x):\n",
    "        batch_size, time_steps, num_particles, num_features = x.size()\n",
    "        \n",
    "        # Initial state for the 3 particles\n",
    "        x = x[:, 0, :, :].view(batch_size * num_particles, 1, num_features)  # Shape: (batch_size * num_particles, 1, 4)\n",
    "        \n",
    "        outputs = []\n",
    "        hidden = None\n",
    "\n",
    "        # Generate the sequence of 39 steps\n",
    "        for _ in range(39):\n",
    "            out, hidden = self.gru(x, hidden)  # Shape: (batch_size * num_particles, 1, hidden_size)\n",
    "            out = self.fc(out[:, -1, :])       # Shape: (batch_size * num_particles, num_features)\n",
    "            outputs.append(out.view(batch_size, num_particles, num_features))  # Reshape to (batch_size, num_particles, num_features)\n",
    "            x = out.unsqueeze(1)  # Prepare the output as the next input, shape: (batch_size * num_particles, 1, num_features)\n",
    "        \n",
    "        outputs = torch.stack(outputs, dim=1)  # Shape: (batch_size, 39, num_particles, num_features)\n",
    "        \n",
    "        return outputs\n"
   ]
  },
  {
   "cell_type": "code",
   "execution_count": null,
   "metadata": {},
   "outputs": [
    {
     "ename": "",
     "evalue": "",
     "output_type": "error",
     "traceback": [
      "\u001b[1;31mThe kernel failed to start as the Python Environment '.venv (Python 3.11.0)' is no longer available. Consider selecting another kernel or refreshing the list of Python Environments."
     ]
    }
   ],
   "source": [
    "import torch.optim as optim\n",
    "from torch.utils.data import DataLoader\n",
    "\n",
    "# Create dataset and dataloader\n",
    "num_trajectories = 1000  # Number of trajectories in the dataset\n",
    "dataset = TrajectoryDataset(num_trajectories)\n",
    "dataloader = DataLoader(dataset, batch_size=32, shuffle=True)\n",
    "\n",
    "# Create the model\n",
    "model = GRUModel()\n",
    "\n",
    "# Define loss function and optimizer\n",
    "criterion = nn.MSELoss()\n",
    "optimizer = optim.Adam(model.parameters(), lr=0.001)\n",
    "\n",
    "# Training loop\n",
    "num_epochs = 50\n",
    "\n",
    "for epoch in range(num_epochs):\n",
    "    model.train()\n",
    "    epoch_loss = 0\n",
    "    for X_batch, Y_batch in dataloader:\n",
    "        optimizer.zero_grad()\n",
    "        output = model(X_batch)\n",
    "        print(output.shape)\n",
    "        loss = criterion(output, Y_batch)\n",
    "        loss.backward()\n",
    "        optimizer.step()\n",
    "        \n",
    "        epoch_loss += loss.item()\n",
    "    \n",
    "    avg_loss = epoch_loss / len(dataloader)\n",
    "    print(f'Epoch {epoch+1}/{num_epochs}, Loss: {avg_loss:.4f}')\n",
    "\n",
    "# Evaluate the model\n",
    "model.eval()\n",
    "with torch.no_grad():\n",
    "    total_loss = 0\n",
    "    for X_batch, Y_batch in dataloader:\n",
    "        output = model(X_batch)\n",
    "        loss = criterion(output, Y_batch)\n",
    "        total_loss += loss.item()\n",
    "    avg_loss = total_loss / len(dataloader)\n",
    "    print(f'Evaluation Loss: {avg_loss:.4f}')\n",
    "\n",
    "# Make predictions\n",
    "with torch.no_grad():\n",
    "    for X_batch, _ in dataloader:\n",
    "        predictions = model(X_batch)\n",
    "        break  # Just to get predictions for the first batch\n",
    "\n",
    "# `predictions` shape will be (batch_size, 39, 3, 4)\n"
   ]
  },
  {
   "cell_type": "code",
   "execution_count": null,
   "metadata": {},
   "outputs": [
    {
     "ename": "",
     "evalue": "",
     "output_type": "error",
     "traceback": [
      "\u001b[1;31mThe kernel failed to start as the Python Environment '.venv (Python 3.11.0)' is no longer available. Consider selecting another kernel or refreshing the list of Python Environments."
     ]
    }
   ],
   "source": [
    "def plot_trajectories(X, Y, predictions):\n",
    "    plt.figure(figsize=(10, 6))\n",
    "    plt.plot(X[0, :, 0], X[0, :, 1], 'ro-', label='Input Trajectory')\n",
    "    plt.plot(Y[0, :, 0], Y[0, :, 1], 'bo-', label='Ground Truth')\n",
    "    plt.plot(predictions[0, :, 0], predictions[0, :, 1], 'go-', label='Predictions')\n",
    "    plt.xlabel('x')\n",
    "    plt.ylabel('y')\n",
    "    plt.title('Trajectory Prediction')\n",
    "    plt.legend()\n",
    "    plt.show()\n",
    "\n",
    "test_dataset = TrajectoryDataset(1)\n",
    "test_loader = DataLoader(test_dataset, batch_size=1)\n",
    "\n",
    "X, Y = next(iter(test_loader))\n",
    "\n",
    "predictions = model(X)\n",
    "\n",
    "true_trajectory = test_dataset.trajectories[0]\n",
    "\n",
    "predicted_trajectory = torch.cat((X, predictions), dim=1).detach().squeeze(0).numpy()\n",
    "plot_trajectory_3(true_trajectory)\n",
    "print(predicted_trajectory.shape)\n",
    "plot_trajectory_3(predicted_trajectory)\n"
   ]
  }
 ],
 "metadata": {
  "kernelspec": {
   "display_name": ".venv",
   "language": "python",
   "name": "python3"
  },
  "language_info": {
   "codemirror_mode": {
    "name": "ipython",
    "version": 3
   },
   "file_extension": ".py",
   "mimetype": "text/x-python",
   "name": "python",
   "nbconvert_exporter": "python",
   "pygments_lexer": "ipython3",
   "version": "3.11.0"
  }
 },
 "nbformat": 4,
 "nbformat_minor": 2
}
